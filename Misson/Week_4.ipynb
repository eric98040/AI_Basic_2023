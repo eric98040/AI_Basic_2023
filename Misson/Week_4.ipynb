{
 "cells": [
  {
   "attachments": {},
   "cell_type": "markdown",
   "metadata": {},
   "source": [
    "Q1. 먼저 Pandas에서 지원하는 Series에 대해서 한번 다뤄보겠습니다.아래와 같이 인덱스와 데이터가 주어져있을때 Pandas의 Series 형태로 만들어보세요.\n",
    "\n",
    "- 주어진 데이터에서 10이상 20이하의 데이터만 출력하는 Series를 재정의 해보세요."
   ]
  },
  {
   "cell_type": "code",
   "execution_count": 2,
   "metadata": {},
   "outputs": [
    {
     "name": "stdout",
     "output_type": "stream",
     "text": [
      "HDD    19\n",
      "SSD    11\n",
      "dtype: int64\n"
     ]
    }
   ],
   "source": [
    "import pandas as pd\n",
    "\n",
    "idx = [\"HDD\", \"SSD\", \"USB\", \"CLOUD\"]\n",
    "data = [19, 11, 5, 97]\n",
    "\n",
    "\n",
    "series = pd.Series(data,index=idx)\n",
    "\n",
    "series = series[series>=10][series<=20]\n",
    "\n",
    "print(series)"
   ]
  },
  {
   "attachments": {},
   "cell_type": "markdown",
   "metadata": {},
   "source": [
    "Q2. 두번째로 Pandas에서 지원하는 Dataframe을 다뤄보도록 하겠습니다. 다음과 같이 과일과 야채 각각 정리된 데이터가 있습니다. 이 두 데이터를 따로 보기엔 효율성이 떨어지니, 각 표에 정리된 데이터를 각각 하나의 데이터 프레임으로 생성한 후 다음 세부 구현을 진행해보세요.\n",
    "\n",
    "- 두 데이터를 하나의 데이터로 결합해보세요.\n",
    "- 결합한 데이터의 type을 이용해 데이터를 정렬해보세요.\n",
    "- 최종적으로 과일과 야채 중 가장 비싼 가격의 합을 출력해보세요."
   ]
  },
  {
   "cell_type": "code",
   "execution_count": 3,
   "metadata": {},
   "outputs": [
    {
     "name": "stdout",
     "output_type": "stream",
     "text": [
      "Sum of Top 2 Fruit Price :   230\n",
      "Sum of Top 2 Vegetable Price :  150\n"
     ]
    }
   ],
   "source": [
    "import pandas as pd\n",
    "\n",
    "df1 = pd.DataFrame([\n",
    "    [\"cherry\", \"Fruit\", 100],\n",
    "    [\"mango\", \"Fruit\", 110],\n",
    "    [\"potato\", \"Vegetable\", 60],\n",
    "    [\"onion\", \"Vegetable\", 80]],\n",
    "    columns=[\"Name\", \"Type\", \"Price\"])\n",
    "\n",
    "df2 = pd.DataFrame([\n",
    "    [\"pepper\", \"Vegetable\", 50],\n",
    "    [\"carrot\", \"Vegetable\", 70],\n",
    "    [\"banana\", \"Fruit\", 90],\n",
    "    [\"onion\", \"Fruit\", 120]],\n",
    "    columns=[\"Name\", \"Type\", \"Price\"])\n",
    "\n",
    "\n",
    "new_df= pd.concat([df1, df2], axis=0)\n",
    "\n",
    "\n",
    "df_fruit = new_df.loc[new_df[\"Type\"] == \"Fruit\"]\n",
    "df_fruit = df_fruit.sort_values(by = \"Price\", ascending = False)\n",
    "\n",
    "df_veg = new_df.loc[new_df[\"Type\"] == \"Vegetable\"]\n",
    "df_veg = df_veg.sort_values(by = \"Price\", ascending = False)\n",
    "\n",
    "\n",
    "print(\"Sum of Top 2 Fruit Price :  \", sum(df_fruit[:2][\"Price\"])) \n",
    "print(\"Sum of Top 2 Vegetable Price : \", sum(df_veg[:2][\"Price\"]))"
   ]
  },
  {
   "attachments": {},
   "cell_type": "markdown",
   "metadata": {},
   "source": [
    "Q3. 총 5명에서 게임을 진행했습니다. 총 5개 라운드를 진행했고, 각각 참여자당 5개의 점수를 받았습니다. 주어진 데이터를 dataframe의 형태로 만든 후 각 세부 구현을 진행해보세요.\n",
    "\n",
    "- 참여자의 이름을 index로 해서 각 라운드의 columns를 추가해 데이터를 정리해보세요.\n",
    "- 6번째 라운드의 점수가 아래와 같을 때, 이를 추가해보세요.\n",
    "- 각 데이터의 mean, max, min 값을 출력해보세요.\n"
   ]
  },
  {
   "cell_type": "code",
   "execution_count": 4,
   "metadata": {},
   "outputs": [
    {
     "name": "stdout",
     "output_type": "stream",
     "text": [
      "      round_1  round_2  round_3  round_4  round_5  round_6\n",
      "mean     68.6     70.8     66.0     75.4     69.4     15.0\n",
      "max      91.0     96.0     90.0     97.0     99.0     19.0\n",
      "min      45.0     35.0     30.0     46.0     47.0     11.0\n"
     ]
    }
   ],
   "source": [
    "import pandas as pd\n",
    "\n",
    "\n",
    "idx = [\"Sue\", \"Ryan\", \"Jay\", \"Jane\", \"Anna\"]\n",
    "col = [\"round_1\", \"round_2\", \"round_3\", \"round_4\", \"round_5\"] \n",
    "data= [[55, 65, 60, 66, 57],\n",
    "        [64, 77, 71, 79, 67],\n",
    "        [88, 81, 79, 89, 77],\n",
    "        [45, 35, 30, 46, 47],\n",
    "        [91, 96, 90, 97, 99]]\n",
    "\n",
    "df = pd.DataFrame(data=data, index=idx, columns=col)\n",
    "round_6 = [11, 15, 13, 17, 19]\n",
    "df['round_6'] = round_6\n",
    "print(df.describe().loc[['mean', 'max', 'min']])"
   ]
  },
  {
   "attachments": {},
   "cell_type": "markdown",
   "metadata": {},
   "source": [
    "Q4. 이번 미션부터는 Matplotlib을 이용해 간단히 그래프를 출력해보도록 하겠습니다. 다음과 같은 데이터 t가 주어져있을때, 출력 예시로 제안된 그래프를 출력해보세요.\n",
    "\n",
    "- Plot 함수 내 각 마커의 색상과 모양을 표현하는 방법을 확인해보세요."
   ]
  },
  {
   "cell_type": "code",
   "execution_count": 5,
   "metadata": {},
   "outputs": [
    {
     "data": {
      "image/png": "[encoded data removed]",
      "text/plain": [
       "<Figure size 432x288 with 1 Axes>"
      ]
     },
     "metadata": {
      "needs_background": "light"
     },
     "output_type": "display_data"
    }
   ],
   "source": [
    "import numpy as np\n",
    "import matplotlib.pyplot as plt\n",
    "t = np.arange(0., 5., 0.2)\n",
    "\n",
    "plt.plot(t, t, 'r--', t, t**2, 'bs', t, t**3, 'g^')\n",
    "plt.show()"
   ]
  },
  {
   "attachments": {},
   "cell_type": "markdown",
   "metadata": {},
   "source": [
    "Q5. Matplotlib을 이용해서 아래와 같은 데이터가 주어졌을때, 출력 예시와 같은 형태로 그래프를 출력해보세요.\n",
    "\n",
    "- 각 그룹별 데이터를 다른 형식의 그래프로 생성해보세요. 각각 막대, 점, 선 그래프입니다."
   ]
  },
  {
   "cell_type": "code",
   "execution_count": 6,
   "metadata": {},
   "outputs": [
    {
     "data": {
      "image/png": "[encoded data removed]",
      "text/plain": [
       "<Figure size 648x216 with 1 Axes>"
      ]
     },
     "metadata": {
      "needs_background": "light"
     },
     "output_type": "display_data"
    },
    {
     "data": {
      "image/png": "[encoded data removed]",
      "text/plain": [
       "<Figure size 648x216 with 1 Axes>"
      ]
     },
     "metadata": {
      "needs_background": "light"
     },
     "output_type": "display_data"
    },
    {
     "data": {
      "image/png": "[encoded data removed]",
      "text/plain": [
       "<Figure size 648x216 with 1 Axes>"
      ]
     },
     "metadata": {
      "needs_background": "light"
     },
     "output_type": "display_data"
    }
   ],
   "source": [
    "import matplotlib.pyplot as plt\n",
    "\n",
    "names = ['group_a', 'group_b', 'group_c'] \n",
    "values = [1, 10, 100]\n",
    "\n",
    "\n",
    "plt.figure(figsize=(9, 3))\n",
    "\n",
    "\n",
    "plt.bar(values, names) \n",
    "plt.show()\n",
    "\n",
    "\n",
    "plt.figure(figsize=(9, 3))\n",
    "plt.scatter(values, names) \n",
    "plt.show()\n",
    "\n",
    "\n",
    "plt.figure(figsize=(9, 3))\n",
    "plt.plot(values, names) \n",
    "plt.show()"
   ]
  },
  {
   "cell_type": "code",
   "execution_count": null,
   "metadata": {},
   "outputs": [],
   "source": []
  }
 ],
 "metadata": {
  "kernelspec": {
   "display_name": "base",
   "language": "python",
   "name": "python3"
  },
  "language_info": {
   "codemirror_mode": {
    "name": "ipython",
    "version": 3
   },
   "file_extension": ".py",
   "mimetype": "text/x-python",
   "name": "python",
   "nbconvert_exporter": "python",
   "pygments_lexer": "ipython3",
   "version": "3.9.7"
  },
  "orig_nbformat": 4,
  "vscode": {
   "interpreter": {
    "hash": "5f8929016d30f12a89eab5b5e02a6c1410fc73da4b23b89b4eb7a3bc58137fe5"
   }
  }
 },
 "nbformat": 4,
 "nbformat_minor": 2
}
