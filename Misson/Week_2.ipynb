{
 "cells": [
  {
   "attachments": {},
   "cell_type": "markdown",
   "metadata": {},
   "source": [
    "📌 Q1. 중간고사 기말고사 점수를 따로 받아 저장하는 클래스를 구현해보세요.\n",
    "\n",
    "-  단, 생성자의 인스턴스는 private으로 선언되어야하며, 데코레이터를 이용해 데이터를 저장하고, 함수를 이용해 평균값을 출력해보세요.\n",
    "\n",
    "- 자료형의 선언과 데코레이터를 이용해보세요."
   ]
  },
  {
   "cell_type": "code",
   "execution_count": 1,
   "metadata": {},
   "outputs": [
    {
     "name": "stdout",
     "output_type": "stream",
     "text": [
      "62.5\n"
     ]
    }
   ],
   "source": [
    "class Score :\n",
    "    \n",
    "    def __init__(self,mid,final) :\n",
    "        self.__mid = mid\n",
    "        self.__final = final\n",
    "        \n",
    "    @property\n",
    "    def mid(self):\n",
    "        return self.__mid\n",
    "    @property\n",
    "    def final(self):\n",
    "        return self.__final\n",
    "    \n",
    "    def average(self):\n",
    "        return(self.__final+self.__mid)/2\n",
    "    \n",
    "\n",
    "# 출력함수\n",
    "score = Score (50, 75)\n",
    "print((score.mid + score.final) / 2)"
   ]
  },
  {
   "attachments": {},
   "cell_type": "markdown",
   "metadata": {},
   "source": [
    "📌 Q2. 다양한 탈 것을 사용하는 게임을 만드는 중입니다. \n",
    "\n",
    "빠른 구현을 위해서 이미 구현한 Car 클래스를 이용해서 Bike라는 클래스를 새로 제작하려고 합니다. \n",
    "\n",
    "Car 클래스를 상속받아서 새로운 Bike 클래스를 아래와 같이 출력되도록 구성해보세요.\n",
    "\n",
    "- Bike class는 size 인자를 추가로 가집니다."
   ]
  },
  {
   "cell_type": "code",
   "execution_count": 3,
   "metadata": {},
   "outputs": [
    {
     "name": "stdout",
     "output_type": "stream",
     "text": [
      "gas 2 small\n"
     ]
    }
   ],
   "source": [
    "class Car():\n",
    "\n",
    "    def __init__(self, fuel, wheels) :\n",
    "        self.fuel = fuel\n",
    "        self.wheels = wheels\n",
    "\n",
    "class Bike(Car):\n",
    "    def __init__(self, size, **kwargs):\n",
    "        super().__init__(**kwargs)\n",
    "        self.size = size\n",
    "        \n",
    "\n",
    "bike = Bike('small', fuel = 'gas', wheels = 2)\n",
    "print(bike.fuel, bike.wheels, bike.size)\n",
    "    "
   ]
  },
  {
   "attachments": {},
   "cell_type": "markdown",
   "metadata": {},
   "source": [
    "📌 Q3. 이번 시험 결과에 대한 데이터를 학과 사무실에서 CSV파일로 전달해줬습니다. 우리는 이 파일을 이용해서 데이터 처리를 진행해야 합니다. 파일 입출력을 이용해 파일 데이터를 리스트로 만들어보세요.\n",
    "\n",
    "- 파일 입출력에 사용하는 open 함수를 이용해 CSV 파일 내부의 데이터를 읽어보세요\n",
    "\n",
    " **CSV파일은 아래 첨부되어있습니다. \n",
    "\n"
   ]
  },
  {
   "cell_type": "code",
   "execution_count": 4,
   "metadata": {},
   "outputs": [
    {
     "name": "stdout",
     "output_type": "stream",
     "text": [
      "Collecting pandas\n",
      "  Downloading pandas-1.5.3-cp310-cp310-macosx_10_9_x86_64.whl (12.0 MB)\n",
      "\u001b[2K     \u001b[90m━━━━━━━━━━━━━━━━━━━━━━━━━━━━━━━━━━━━━━━━\u001b[0m \u001b[32m12.0/12.0 MB\u001b[0m \u001b[31m7.7 MB/s\u001b[0m eta \u001b[36m0:00:00\u001b[0m00:01\u001b[0m00:01\u001b[0m\n",
      "\u001b[?25hRequirement already satisfied: python-dateutil>=2.8.1 in /Users/eric/Library/Python/3.10/lib/python/site-packages (from pandas) (2.8.2)\n",
      "Requirement already satisfied: numpy>=1.21.0 in /Library/Frameworks/Python.framework/Versions/3.10/lib/python3.10/site-packages (from pandas) (1.24.1)\n",
      "Collecting pytz>=2020.1\n",
      "  Downloading pytz-2022.7.1-py2.py3-none-any.whl (499 kB)\n",
      "\u001b[2K     \u001b[90m━━━━━━━━━━━━━━━━━━━━━━━━━━━━━━━━━━━━━━━\u001b[0m \u001b[32m499.4/499.4 KB\u001b[0m \u001b[31m1.9 MB/s\u001b[0m eta \u001b[36m0:00:00\u001b[0ma \u001b[36m0:00:01\u001b[0m\n",
      "\u001b[?25hRequirement already satisfied: six>=1.5 in /Users/eric/Library/Python/3.10/lib/python/site-packages (from python-dateutil>=2.8.1->pandas) (1.16.0)\n",
      "Installing collected packages: pytz, pandas\n",
      "Successfully installed pandas-1.5.3 pytz-2022.7.1\n",
      "\u001b[33mWARNING: You are using pip version 22.0.4; however, version 22.3.1 is available.\n",
      "You should consider upgrading via the '/usr/local/bin/python3 -m pip install --upgrade pip' command.\u001b[0m\u001b[33m\n",
      "\u001b[0mNote: you may need to restart the kernel to use updated packages.\n"
     ]
    }
   ],
   "source": [
    "pip install pandas"
   ]
  },
  {
   "cell_type": "code",
   "execution_count": 24,
   "metadata": {},
   "outputs": [
    {
     "name": "stdout",
     "output_type": "stream",
     "text": [
      "[[73, 80, 75, 152],\n",
      " [93, 88, 93, 185],\n",
      " [89, 91, 90, 180],\n",
      " [96, 98, 100, 196],\n",
      " [73, 66, 70, 142],\n",
      " [53, 46, 55, 101],\n",
      " [69, 74, 77, 149],\n",
      " [47, 56, 60, 115],\n",
      " [87, 79, 90, 175],\n",
      " [79, 70, 88, 164],\n",
      " [69, 70, 73, 141],\n",
      " [70, 65, 74, 141],\n",
      " [93, 95, 91, 184],\n",
      " [79, 80, 73, 152],\n",
      " [70, 73, 78, 148],\n",
      " [93, 89, 96, 192],\n",
      " [78, 75, 68, 147],\n",
      " [81, 90, 93, 183],\n",
      " [88, 92, 86, 177],\n",
      " [78, 83, 77, 159],\n",
      " [82, 86, 90, 177],\n",
      " [86, 82, 89, 175],\n",
      " [78, 83, 85, 175],\n",
      " [76, 83, 71, 149],\n",
      " [96, 93, 95, 192]]\n"
     ]
    }
   ],
   "source": [
    "import pprint\n",
    "\n",
    "def read_file(file_path):\n",
    "    \n",
    "    data = []\n",
    "    with open(file_path,\"r\") as file :\n",
    "        return [list(map(int,line.strip().split(\",\"))) for line in file]\n",
    "\n",
    "file_path = './data-01-test-score.csv'\n",
    "\n",
    "pprint.pprint(read_file(file_path))\n"
   ]
  },
  {
   "attachments": {},
   "cell_type": "markdown",
   "metadata": {},
   "source": [
    "📌 Q4. 우리는 방금 CSV 파일을 읽는 함수를 구현해보았습니다. 하지만 이를 조금 더 효율적으로 사용하기 위해서 클래스로 구성을 진행하려고 합니다. 방금 구현한 함수를 포함한 클래스를 구현해보세요.\n",
    "\n",
    " - merge list를 이용해 리스트 내 데이터의 합을 출력해보세요.\n",
    "\n",
    "- 데이터를 합치기 전 데이터의 자료형을 변경해보세요."
   ]
  },
  {
   "cell_type": "code",
   "execution_count": 21,
   "metadata": {},
   "outputs": [
    {
     "name": "stdout",
     "output_type": "stream",
     "text": [
      "[[73, 80, 75, 152],\n",
      " [93, 88, 93, 185],\n",
      " [89, 91, 90, 180],\n",
      " [96, 98, 100, 196],\n",
      " [73, 66, 70, 142],\n",
      " [53, 46, 55, 101],\n",
      " [69, 74, 77, 149],\n",
      " [47, 56, 60, 115],\n",
      " [87, 79, 90, 175],\n",
      " [79, 70, 88, 164],\n",
      " [69, 70, 73, 141],\n",
      " [70, 65, 74, 141],\n",
      " [93, 95, 91, 184],\n",
      " [79, 80, 73, 152],\n",
      " [70, 73, 78, 148],\n",
      " [93, 89, 96, 192],\n",
      " [78, 75, 68, 147],\n",
      " [81, 90, 93, 183],\n",
      " [88, 92, 86, 177],\n",
      " [78, 83, 77, 159],\n",
      " [82, 86, 90, 177],\n",
      " [86, 82, 89, 175],\n",
      " [78, 83, 85, 175],\n",
      " [76, 83, 71, 149],\n",
      " [96, 93, 95, 192]]\n",
      "[380, 459, 450, 490, 351, 255, 369, 278, 431, 401, 353, 350, 463, 384, 369, 470, 368, 447, 443, 397, 435, 432, 421, 379, 476]\n"
     ]
    }
   ],
   "source": [
    "import pprint \n",
    "\n",
    "class ReadCSV :\n",
    "    def __init__(self, file_path) :\n",
    "        self.file_path = file_path\n",
    "\n",
    "    def read_file(self) :\n",
    "        with open(self.file_path, 'r') as file:\n",
    "            return [list(map(int,row.strip().split(','))) for row in file.readlines()]\n",
    "\n",
    "    def merge_list(self):\n",
    "        data = self.read_file()\n",
    "        merged_list = [sum(row) for row in data]\n",
    "        return merged_list\n",
    "        \n",
    "\n",
    "file_path = './data-01-test-score.csv'\n",
    "read_csv = ReadCSV(file_path)\n",
    "pprint.pprint(read_csv.read_file())\n",
    "print(read_csv.merge_list())"
   ]
  },
  {
   "attachments": {},
   "cell_type": "markdown",
   "metadata": {},
   "source": [
    "📌 Q5. 이전에 구현한 클래스에서 merge_list의 함수 동작을 변경해야합니다. 단순합계가 아닌 평균을 구하는 함수로 변경해보세요.\n",
    "\n",
    " - 리스트의 데이터를 다루는 함수를 이용해서 구현해보세요.\n",
    "\n",
    "- 최종 평균을 구한 후 오름차순으로 정렬해주세요."
   ]
  },
  {
   "cell_type": "code",
   "execution_count": 31,
   "metadata": {},
   "outputs": [
    {
     "name": "stdout",
     "output_type": "stream",
     "text": [
      "[[73, 80, 75, 152],\n",
      " [93, 88, 93, 185],\n",
      " [89, 91, 90, 180],\n",
      " [96, 98, 100, 196],\n",
      " [73, 66, 70, 142],\n",
      " [53, 46, 55, 101],\n",
      " [69, 74, 77, 149],\n",
      " [47, 56, 60, 115],\n",
      " [87, 79, 90, 175],\n",
      " [79, 70, 88, 164],\n",
      " [69, 70, 73, 141],\n",
      " [70, 65, 74, 141],\n",
      " [93, 95, 91, 184],\n",
      " [79, 80, 73, 152],\n",
      " [70, 73, 78, 148],\n",
      " [93, 89, 96, 192],\n",
      " [78, 75, 68, 147],\n",
      " [81, 90, 93, 183],\n",
      " [88, 92, 86, 177],\n",
      " [78, 83, 77, 159],\n",
      " [82, 86, 90, 177],\n",
      " [86, 82, 89, 175],\n",
      " [78, 83, 85, 175],\n",
      " [76, 83, 71, 149],\n",
      " [96, 93, 95, 192]]\n",
      "[63.75,\n",
      " 69.5,\n",
      " 87.5,\n",
      " 87.75,\n",
      " 88.25,\n",
      " 92.0,\n",
      " 92.25,\n",
      " 92.25,\n",
      " 94.75,\n",
      " 95.0,\n",
      " 96.0,\n",
      " 99.25,\n",
      " 100.25,\n",
      " 105.25,\n",
      " 107.75,\n",
      " 108.0,\n",
      " 108.75,\n",
      " 110.75,\n",
      " 111.75,\n",
      " 112.5,\n",
      " 114.75,\n",
      " 115.75,\n",
      " 117.5,\n",
      " 119.0,\n",
      " 122.5]\n"
     ]
    }
   ],
   "source": [
    "import pprint \n",
    "\n",
    "class ReadCSV :\n",
    "    def __init__(self, file_path) :\n",
    "        self.file_path = file_path\n",
    "\n",
    "    def read_file(self) :\n",
    "        with open(self.file_path, 'r') as file:\n",
    "            return [list(map(int,row.strip().split(','))) for row in file.readlines()]\n",
    "\n",
    "    def merge_list(self):\n",
    "        data = self.read_file()\n",
    "        merged_list = [sum(row)/len(row) for row in data]\n",
    "        return sorted(merged_list)\n",
    "        \n",
    "\n",
    "file_path = './data-01-test-score.csv'\n",
    "read_csv = ReadCSV(file_path)\n",
    "pprint.pprint(read_csv.read_file())\n",
    "pprint.pprint(read_csv.merge_list())"
   ]
  },
  {
   "cell_type": "code",
   "execution_count": null,
   "metadata": {},
   "outputs": [],
   "source": []
  }
 ],
 "metadata": {
  "kernelspec": {
   "display_name": "Python 3",
   "language": "python",
   "name": "python3"
  },
  "language_info": {
   "codemirror_mode": {
    "name": "ipython",
    "version": 3
   },
   "file_extension": ".py",
   "mimetype": "text/x-python",
   "name": "python",
   "nbconvert_exporter": "python",
   "pygments_lexer": "ipython3",
   "version": "3.10.5"
  },
  "orig_nbformat": 4,
  "vscode": {
   "interpreter": {
    "hash": "aee8b7b246df8f9039afb4144a1f6fd8d2ca17a180786b69acc140d282b71a49"
   }
  }
 },
 "nbformat": 4,
 "nbformat_minor": 2
}
