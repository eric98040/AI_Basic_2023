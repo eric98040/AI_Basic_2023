{
 "cells": [
  {
   "attachments": {},
   "cell_type": "markdown",
   "metadata": {},
   "source": [
    "1. 다양한 데이터를 수집해서 아래와 같은 num_list를 얻었습니다. 하지만 우리에게 필요한 데이터는 홀수 데이터입니다. 그렇다면 num_list가 홀수인 데이터만 출력하도록 하는 함수를 작성해보세요.\n",
    "\n",
    "- 다양한 데이터를 수집해서 아래와 같은 num_list를 얻었습니다.\n",
    "- 하지만 우리에게 필요한 데이터는 홀수 데이터입니다.\n",
    "- 그렇다면 num_list가 홀수인 데이터만 출력하도록 하는 함수를 작성해보세요."
   ]
  },
  {
   "cell_type": "code",
   "execution_count": 40,
   "metadata": {},
   "outputs": [
    {
     "name": "stdout",
     "output_type": "stream",
     "text": [
      "[1, 5, 7, 15, 29]\n"
     ]
    }
   ],
   "source": [
    "# 주어진 리스트\n",
    "num_list = [1,5,7,15,16,22,28,29]\n",
    "\n",
    "def get_odd_num(num_list) :\n",
    "    res = []\n",
    "    for i in num_list:\n",
    "        if i%2 !=0 :\n",
    "            res.append(i)\n",
    "            \n",
    "    return res\n",
    "        \n",
    "\n",
    "print(get_odd_num(num_list))"
   ]
  },
  {
   "attachments": {},
   "cell_type": "markdown",
   "metadata": {},
   "source": [
    "2. 데이터 처리를 위해서 문자열을 입력받았습니다. 그런데, 문자열을 받았더니 단어 단위로 거꾸로 입력되었습니다. 이를 다시 원래대로 출력하는 함수를 작성해보세요.\n",
    "\n",
    "- string 문장을 받아 단어를 역순으로 출력하는 함수를 작성하세요.\n",
    "- string 연산을 이용해보세요."
   ]
  },
  {
   "cell_type": "code",
   "execution_count": 41,
   "metadata": {},
   "outputs": [
    {
     "name": "stdout",
     "output_type": "stream",
     "text": [
      "Where there is a will there is a way\n"
     ]
    }
   ],
   "source": [
    "sentence = \"way a is there will a is there Where\"\n",
    "\n",
    "\n",
    "\n",
    "def reverse_sentence(sentence) :\n",
    "    \n",
    "    return ' '.join(sentence.split()[::-1])\n",
    "\n",
    "print(reverse_sentence(sentence))\n"
   ]
  },
  {
   "attachments": {},
   "cell_type": "markdown",
   "metadata": {},
   "source": [
    "3. 이번 학기의 중간고사, 기말고사 점수가 발표되었습니다. 각 학생들의 점수가 튜플 형태로 저장되어 있고, 이를 포함한 리스트가 있습니다. 이를 이용해 각 학생들의 평균 점수를 출력하는 함수를 제작하세요.\n",
    "\n",
    "- 리스트와 반복문을 사용해 데이터를 불러오세요.\n",
    "- 이를 이용해 각 학생별 평균을 구해보세요."
   ]
  },
  {
   "cell_type": "code",
   "execution_count": 42,
   "metadata": {},
   "outputs": [
    {
     "name": "stdout",
     "output_type": "stream",
     "text": [
      "1 번, 평균 : 100.0\n",
      "2 번, 평균 : 92.5\n",
      "3 번, 평균 : 57.5\n",
      "4 번, 평균 : 77.5\n",
      "5 번, 평균 : 70.0\n"
     ]
    }
   ],
   "source": [
    "score = [(100,100),(95,90),(55,60),(75,80),(70,70)]\n",
    "\n",
    "def get_avg(score) : \n",
    "    for idx, scores in enumerate(score) :\n",
    "        print(f'{idx+1} 번, 평균 : {sum(scores)/2}')\n",
    "        \n",
    "get_avg(score)\n",
    "        "
   ]
  },
  {
   "attachments": {},
   "cell_type": "markdown",
   "metadata": {},
   "source": [
    "4. 두 개의 납품처에서 각각 과일과 야채들이 납품되었습니다. 이를 각각 물품의 갯수를 나타내는 2개의 딕셔너리로 정리했습니다. 물품을 정리하기 위해서 2개의 딕셔너리 개체를 합쳐 출력하는 함수를 제작하세요.\n",
    "\n",
    "- 중복되는 물품은 합쳐셔 표시하세요\n",
    "- 각 딕셔너리 데이터의 데이터의 키값을 이용해 중복을 확인해보세요"
   ]
  },
  {
   "cell_type": "code",
   "execution_count": 43,
   "metadata": {},
   "outputs": [
    {
     "name": "stdout",
     "output_type": "stream",
     "text": [
      "{'사과': 35, '배': 30, '감': 35, '포도': 10, '귤': 25}\n"
     ]
    }
   ],
   "source": [
    "# Python collection 모듈 사용\n",
    "from collections import Counter\n",
    "\n",
    "dict_first = {'사과':30, '배':15, '감':10, '포도':10}\n",
    "dict_second = {'사과':5, '감':25, '배':15, '귤':25}\n",
    "\n",
    "def merge_dict(dict_first, dict_second):\n",
    "    # Counter 객체끼리 더하거나 빼기, 집합연산이 가능함\n",
    "    return dict(Counter(dict_first)+Counter(dict_second))\n",
    "\n",
    "print(merge_dict(dict_first,dict_second))\n",
    "\n"
   ]
  },
  {
   "attachments": {},
   "cell_type": "markdown",
   "metadata": {},
   "source": [
    "5. 단어들을 입력받았는데, 자꾸만 숫자들이 섞여들어가는 문제가 있습니다. 이를 처리하기 위해서 함수에 string을 전달 받은 뒤, string 안에서의 숫자를 제거한 후 string만 남은 리스트를 출력하세요.\n",
    "\n",
    "- string 연산을 이용해서 문자열을 자르는 연산을 사용해보세요."
   ]
  },
  {
   "cell_type": "code",
   "execution_count": 44,
   "metadata": {},
   "outputs": [
    {
     "name": "stdout",
     "output_type": "stream",
     "text": [
      "['cat', 'dog', 'cow']\n"
     ]
    }
   ],
   "source": [
    "# Python 정규 표현식 사용\n",
    "import re\n",
    "\n",
    "# 출력 예시\n",
    "inputs = 'cat32dog16cow5'\n",
    "\n",
    "def find_string(inputs) :\n",
    "    # '[a-zA-Z]+' 는 모든 알파벳을 뜻한다. +는 1개 이상 일치하는 문자열이 있는 경우\n",
    "    result = re.findall('[a-zA-Z]+',inputs)\n",
    "    return result\n",
    "\n",
    "string_list = find_string(inputs)\n",
    "print(string_list)"
   ]
  }
 ],
 "metadata": {
  "kernelspec": {
   "display_name": "Python 3",
   "language": "python",
   "name": "python3"
  },
  "language_info": {
   "codemirror_mode": {
    "name": "ipython",
    "version": 3
   },
   "file_extension": ".py",
   "mimetype": "text/x-python",
   "name": "python",
   "nbconvert_exporter": "python",
   "pygments_lexer": "ipython3",
   "version": "3.10.5"
  },
  "orig_nbformat": 4,
  "vscode": {
   "interpreter": {
    "hash": "aee8b7b246df8f9039afb4144a1f6fd8d2ca17a180786b69acc140d282b71a49"
   }
  }
 },
 "nbformat": 4,
 "nbformat_minor": 2
}
