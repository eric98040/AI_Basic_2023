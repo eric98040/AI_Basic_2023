{
 "cells": [
  {
   "attachments": {},
   "cell_type": "markdown",
   "metadata": {},
   "source": [
    "Numpy\n",
    "- Numerical Python\n",
    "- 파이썬의 고성능 과학 계산용 패키지\n",
    "- Matrix와 Vector와 같은 Array 연산의 사실상의 표준\n",
    "- 한글로 넘파이로 주로 통칭, 넘피/늄파이라고 부르기도 함\n",
    "\n",
    "Numpy 특징\n",
    "- 일반 List에 비해 빠르고, 메모리 효율적\n",
    "- 반복문 없이 데이터 배열에 대한 처리를 지원함 (for문, list comprehension 없이)\n",
    "- 선형대수와 관련된 다양한 기능을 제공함\n",
    "- C, C++, 포트란 등의 언어와 통합 가능"
   ]
  },
  {
   "attachments": {},
   "cell_type": "markdown",
   "metadata": {},
   "source": [
    "import numpy as np\n",
    "\n",
    "- numpy의 호출 방법\n",
    "- 일반적으로 numpy는 np라는 alias(별칭) 이용해서 호출함\n",
    "- 특별한 이유는 없음 세계적인 약속 같은 것"
   ]
  },
  {
   "attachments": {},
   "cell_type": "markdown",
   "metadata": {},
   "source": [
    "< Array creation >\n",
    "\n",
    "test_array = np.array([1, 4, 5, 8], float) \n",
    "print(test_array)\n",
    "type(test_array[3])\n",
    "\n",
    "- numpy는 np.array 함수를 활용하여 배열을 생성함 -> ndarray\n",
    "- numpy는 하나의 데이터 type만 배열에 넣을 수 있음\n",
    "- List와 가장 큰 차이점, Dynamic typing not supported\n",
    "- C의 Array를 사용하여 배열을 생성함\n",
    "\n",
    "< caution >\n",
    "\n",
    "- np.array()를 이용해 배열을 만들고 연산을 하는 경우 : 2차원 리스트에서 계산함\n",
    "### np.array([[1,2],[3,4]])와 같이 ()안에 2차원 리스트를 넣어준다"
   ]
  },
  {
   "cell_type": "code",
   "execution_count": 4,
   "metadata": {},
   "outputs": [
    {
     "name": "stdout",
     "output_type": "stream",
     "text": [
      "Requirement already satisfied: numpy in /Library/Frameworks/Python.framework/Versions/3.10/lib/python3.10/site-packages (1.24.1)\n",
      "\u001b[33mWARNING: You are using pip version 22.0.4; however, version 23.0 is available.\n",
      "You should consider upgrading via the '/usr/local/bin/python3 -m pip install --upgrade pip' command.\u001b[0m\u001b[33m\n",
      "\u001b[0mNote: you may need to restart the kernel to use updated packages.\n"
     ]
    }
   ],
   "source": [
    "pip install numpy"
   ]
  },
  {
   "cell_type": "code",
   "execution_count": 6,
   "metadata": {},
   "outputs": [
    {
     "name": "stdout",
     "output_type": "stream",
     "text": [
      "[1. 2. 3. 4. 5.]\n",
      "<class 'numpy.float64'>\n"
     ]
    }
   ],
   "source": [
    "import numpy as np\n",
    "test_array = np.array(['1',2,'3',4,5],float)\n",
    "print(test_array)\n",
    "print(type(test_array[3]))  \n",
    "# numpy.float64 : 하나의 데이터가 차지하는 공간이 64bit (메모리 공간의 수정)"
   ]
  },
  {
   "attachments": {},
   "cell_type": "markdown",
   "metadata": {},
   "source": [
    "< Array creation >\n",
    "\n",
    "- shape : numpy array의 object의 dimension 구성을 반환함\n",
    "    - Array (vector, matrix, tensor)의 크기, 형태 등에 대한 정보\n",
    "    - (z축, y축, x축) 순서로 이루어짐 -> 일반적인 수학 직교좌표계의 x,y,z로 이해\n",
    "\n",
    "- ndim – number of dimension (rank와 동치)\n",
    "- size – data의 개수 (부피와 비슷)\n",
    "\n",
    "- dtype : numpy array의 데이터 type을 반환함\n",
    "    - Ndarray의 single element가 가지는 data type\n",
    "    - 각 element가 차지하는 memory의 크기가 결정됨"
   ]
  },
  {
   "cell_type": "code",
   "execution_count": 6,
   "metadata": {},
   "outputs": [
    {
     "name": "stdout",
     "output_type": "stream",
     "text": [
      "[1. 4. 5. 8.]\n",
      "<class 'numpy.float64'>\n",
      "float64\n",
      "(4,)\n"
     ]
    }
   ],
   "source": [
    "test_array = np.array([1, 4, 5, \"8\"], float) # String Type의 데이터를 입력해도\n",
    "\n",
    "print(test_array)\n",
    "print(type(test_array[3])) # Float Type으로 자동 형변환을 실시\n",
    "print(test_array.dtype) # Array(배열) 전체의 데이터 Type을 반환함 \n",
    "print(test_array.shape) # Array(배열) 의 shape을 반환함\n"
   ]
  },
  {
   "cell_type": "code",
   "execution_count": 7,
   "metadata": {},
   "outputs": [
    {
     "name": "stdout",
     "output_type": "stream",
     "text": [
      "[[1 2 3]\n",
      " [4 5 6]]\n",
      "[[1.  2.  3. ]\n",
      " [4.5 5.  6. ]]\n"
     ]
    }
   ],
   "source": [
    "test_array = np.array([[1,2,3],[4.5,5,6]],dtype=int)\n",
    "test_array2 = np.array([[1,2,3],[4.5,5,6]],dtype=np.float32)\n",
    "print(test_array)\n",
    "print(test_array2)\n"
   ]
  },
  {
   "attachments": {},
   "cell_type": "markdown",
   "metadata": {},
   "source": [
    "< reshape >\n",
    "\n",
    "- Array의 shape의 크기를 변경함 (element의 갯수는 동일)\n",
    "- Array의 size만 같다면 다차원으로 자유로이 변형가능\n",
    "- reshape(z,y,x)꼴로 reshape가 되고, \n",
    "- -1은 size를 기반으로 나머지 setting된 숫자들을 기반으로 적절히 결정됨\n",
    "\n",
    "< flatten >\n",
    "\n",
    "- 다차원 array를 1차원 array로 변환"
   ]
  },
  {
   "cell_type": "code",
   "execution_count": 5,
   "metadata": {},
   "outputs": [
    {
     "ename": "NameError",
     "evalue": "name 'np' is not defined",
     "output_type": "error",
     "traceback": [
      "\u001b[0;31m---------------------------------------------------------------------------\u001b[0m",
      "\u001b[0;31mNameError\u001b[0m                                 Traceback (most recent call last)",
      "Cell \u001b[0;32mIn [5], line 2\u001b[0m\n\u001b[1;32m      1\u001b[0m test_matrix \u001b[39m=\u001b[39m [[\u001b[39m1\u001b[39m,\u001b[39m2\u001b[39m,\u001b[39m3\u001b[39m,\u001b[39m4\u001b[39m],[\u001b[39m5\u001b[39m,\u001b[39m6\u001b[39m,\u001b[39m7\u001b[39m,\u001b[39m8\u001b[39m]]\n\u001b[0;32m----> 2\u001b[0m \u001b[39mprint\u001b[39m(np\u001b[39m.\u001b[39marray(test_matrix)\u001b[39m.\u001b[39mshape)\n\u001b[1;32m      4\u001b[0m new_array \u001b[39m=\u001b[39m np\u001b[39m.\u001b[39marray(test_matrix)\u001b[39m.\u001b[39mreshape(\u001b[39m4\u001b[39m,\u001b[39m2\u001b[39m)\n\u001b[1;32m      5\u001b[0m \u001b[39mprint\u001b[39m(new_array)\n",
      "\u001b[0;31mNameError\u001b[0m: name 'np' is not defined"
     ]
    }
   ],
   "source": [
    "test_matrix = [[1,2,3,4],[5,6,7,8]]\n",
    "print(np.array(test_matrix).shape)\n",
    "\n",
    "new_array = np.array(test_matrix).reshape(4,2)\n",
    "print(new_array)\n",
    "new_array = np.array(test_matrix).reshape(-1,4)\n",
    "print(new_array)\n",
    "new_array = np.array(test_matrix).flatten()\n",
    "print(new_array)\n"
   ]
  },
  {
   "attachments": {},
   "cell_type": "markdown",
   "metadata": {},
   "source": [
    "< indexing >\n",
    "\n",
    "- List와 달리 이차원 배열에서 [0,0] 과 같은 표기법을 제공함\n",
    "- Matrix 일경우 앞은 row 뒤는 column을 의미함\n",
    "\n",
    "1) [z,y,x]와 같은 표기법 : 일반 데카르트 좌표계처럼 생각\n",
    "2) [z][y][x] 와 같은 표기법 : 일반 데카르트 좌표계처럼 생각\n",
    "-> 1,2번 둘다 거꾸로 읽기 <---- 방향으로!\n",
    "\n",
    "< 2개만 있을 때 >\n",
    "3) [x][y]와 같은 표기법 : 일반 컴퓨터 좌표계처럼 생각\n"
   ]
  },
  {
   "cell_type": "code",
   "execution_count": 25,
   "metadata": {},
   "outputs": [
    {
     "name": "stdout",
     "output_type": "stream",
     "text": [
      "[[1 2 3]\n",
      " [4 5 6]]\n",
      "1\n",
      "1\n",
      "[[ 5 12  3]\n",
      " [ 4  5  6]]\n"
     ]
    }
   ],
   "source": [
    "a = np.array([[1, 2, 3], [4, 5, 6]], int)\n",
    "print(a)\n",
    "print(a[0,0]) # Two dimensional array representation #1 \n",
    "print(a[0][0]) # Two dimensional array representation #2\n",
    "\n",
    "a[0,0] = 12 # Matrix 0,0 에 12 할당 print(a)\n",
    "a[0][0] = 5 # Matrix 0,0 에 12 할당 print(a)\n",
    "print(a)"
   ]
  },
  {
   "attachments": {},
   "cell_type": "markdown",
   "metadata": {},
   "source": [
    "< slicing >\n",
    "\n",
    "- List와 달리 행과 열 부분을 나눠서 slicing이 가능함\n",
    "- Matrix의 부분 집합을 추출할 때 유용함\n",
    "- [ Row, Column ]순 : 컴퓨터식 좌표계로 범위 설정 (-y방향으로 row, +x 방향으로 column)\n",
    "- [ Row ]순 : 입력받는 값이 하나만 있다면 Row를 의미, Column은 전체로 선택됨"
   ]
  },
  {
   "cell_type": "code",
   "execution_count": 26,
   "metadata": {},
   "outputs": [
    {
     "name": "stdout",
     "output_type": "stream",
     "text": [
      "[[ 3  4  5]\n",
      " [ 8  9 10]]\n",
      "[7 8]\n",
      "[[ 6  7  8  9 10]]\n"
     ]
    }
   ],
   "source": [
    "a = np.array([[1, 2, 3, 4, 5], [6, 7, 8, 9, 10]], int)\n",
    "\n",
    "print(a[:,2:]) # 전체 Row의 2열 이상\n",
    "print(a[1,1:3]) # 1 Row의 1열 ~ 2열\n",
    "print(a[1:3]) # 1 Row ~ 2Row의 전체"
   ]
  },
  {
   "cell_type": "code",
   "execution_count": 36,
   "metadata": {},
   "outputs": [
    {
     "name": "stdout",
     "output_type": "stream",
     "text": [
      "[[ 3  4]\n",
      " [ 7  8]\n",
      " [11 12]\n",
      " [15 16]]\n",
      "[[ 9 10 11 12]\n",
      " [13 14 15 16]]\n",
      "[[ 1  3]\n",
      " [ 5  7]\n",
      " [ 9 11]\n",
      " [13 15]]\n",
      "[[ 1  3]\n",
      " [13 15]]\n"
     ]
    }
   ],
   "source": [
    "a = np.array([[1,2,3,4],[5,6,7,8],[9,10,11,12],[13,14,15,16]],int)\n",
    "\n",
    "print(a[:,2:])\n",
    "print(a[2:])\n",
    "print(a[:,::2])\n",
    "print(a[::3,::2])"
   ]
  },
  {
   "attachments": {},
   "cell_type": "markdown",
   "metadata": {},
   "source": [
    "< arange >\n",
    "\n",
    "- array의 범위를 지정하여, 값의 list를 생성하는 명령어\n",
    "- list의 range와 같은 효과, integer로 0부터 29까지 배열추출\n",
    "- floating point도 표시가능함"
   ]
  },
  {
   "cell_type": "code",
   "execution_count": 41,
   "metadata": {},
   "outputs": [
    {
     "name": "stdout",
     "output_type": "stream",
     "text": [
      "[0, 1, 2, 3, 4, 5, 6, 7, 8, 9, 10, 11, 12, 13, 14, 15, 16, 17, 18, 19, 20, 21, 22, 23, 24, 25, 26, 27, 28, 29]\n",
      "[ 0  1  2  3  4  5  6  7  8  9 10 11 12 13 14 15 16 17 18 19 20 21 22 23\n",
      " 24 25 26 27 28 29]\n",
      "[0.  0.5 1.  1.5 2.  2.5 3.  3.5 4.  4.5]\n",
      "[[ 0  1  2  3  4  5]\n",
      " [ 6  7  8  9 10 11]\n",
      " [12 13 14 15 16 17]\n",
      " [18 19 20 21 22 23]\n",
      " [24 25 26 27 28 29]]\n"
     ]
    }
   ],
   "source": [
    "a = list(range(30))\n",
    "print(a)\n",
    "a = np.arange(30)\n",
    "print(a)\n",
    "a = np.arange(0,5,0.5)  # floating point도 표시가능함\n",
    "print(a)\n",
    "a = np.arange(30).reshape(5,6)\n",
    "print(a)\n",
    "\n",
    "\n"
   ]
  },
  {
   "attachments": {},
   "cell_type": "markdown",
   "metadata": {},
   "source": [
    "< ones, zeros and empty >\n",
    "\n",
    "- zeros : 0으로 가득찬 ndarray 생성\n",
    "- np.zeros(shape, dtype, order)\n",
    "\n",
    "- ones : 1로 가득찬 ndarrary 생성\n",
    "- np.ones(shape, dtype, order)\n",
    "\n",
    "- empty : shape만 주어지고 비어있는 ndarray 생성 \n",
    "- (memory initialization이 되지 않음)\n",
    "\n",
    " \n",
    "- shape = (x) or (x,) : 인수가 1개일 경우 벡터로 생각\n",
    "- shape = (y,x) : 인수가 2개일 경우 컴퓨터적 좌표계로 생각 (rank = 2)\n",
    "- shape = (z,y,x): 인수가 3개일 경우 z, y, x 순서로 거꾸로 생각 (rank = 3)\n",
    "\n",
    "\n"
   ]
  },
  {
   "cell_type": "code",
   "execution_count": 66,
   "metadata": {},
   "outputs": [
    {
     "name": "stdout",
     "output_type": "stream",
     "text": [
      "[0 0 0 0 0 0 0 0 0 0]\n",
      "[[0. 0. 0. 0. 0.]\n",
      " [0. 0. 0. 0. 0.]]\n",
      "[[1. 1.]\n",
      " [1. 1.]\n",
      " [1. 1.]\n",
      " [1. 1.]\n",
      " [1. 1.]]\n",
      "[[1 1 1 1 1]\n",
      " [1 1 1 1 1]]\n",
      "[1 1 1 1 1 1 1 1 1 1]\n",
      "[[0.         0.         0.4472136  0.0531494  0.18257419]\n",
      " [0.4472136  0.2125976  0.36514837 0.4472136  0.4783446 ]\n",
      " [0.54772256 0.4472136  0.85039041 0.73029674 0.4472136 ]]\n"
     ]
    }
   ],
   "source": [
    "a = np.zeros(shape=(10), dtype=np.int8)  # 10 - zero vector 생성\n",
    "print(a)\n",
    "a = np.zeros((2,5)) # 2 by 5 - zero matrix 생성\n",
    "print(a)\n",
    "\n",
    "a = np.ones(shape=(5,2))\n",
    "print(a)\n",
    "a = np.ones(shape=(2,5), dtype=np.int32)\n",
    "print(a)\n",
    "\n",
    "b = np.empty(shape=(10,),dtype=np.int8)\n",
    "print(b)\n",
    "\n",
    "c = np.empty(shape=(3,5))\n",
    "print(c)\n",
    "\n"
   ]
  },
  {
   "attachments": {},
   "cell_type": "markdown",
   "metadata": {},
   "source": [
    "< something_like >\n",
    "\n",
    "- 기존 ndarray의 shape 크기 만큼 1, 0 또는 empty array를 반환\n",
    "\n",
    "\n",
    "< identity >\n",
    "\n",
    "- 단위 행렬(i 행렬)을 생성함\n",
    "\n",
    "\n",
    "< eye >\n",
    "\n",
    "- 대각선의 성분을 전부 1로 처리함\n",
    "- 대각선인 1인 행렬, k값(시작하는 x좌표)의 시작 index의 변경이 가능\n",
    "\n",
    "\n",
    "< diag >\n",
    "\n",
    "- 대각 행렬의 값을 추출함\n",
    "- k값(시작하는 x좌표)의 시작 index의 변경이 가능\n",
    "\n",
    "\n",
    "< random sampling >\n",
    "\n",
    "- 데이터 분포에 따른 sampling으로 array를 생성\n",
    "\n"
   ]
  },
  {
   "cell_type": "code",
   "execution_count": 80,
   "metadata": {},
   "outputs": [
    {
     "name": "stdout",
     "output_type": "stream",
     "text": [
      "[[1 1 1 1 1 1]\n",
      " [1 1 1 1 1 1]\n",
      " [1 1 1 1 1 1]\n",
      " [1 1 1 1 1 1]\n",
      " [1 1 1 1 1 1]]\n",
      "[[1 0 0]\n",
      " [0 1 0]\n",
      " [0 0 1]]\n",
      "[[ 0  1  2  3  4  5]\n",
      " [ 6  7  8  9 10 11]\n",
      " [12 13 14 15 16 17]\n",
      " [18 19 20 21 22 23]\n",
      " [24 25 26 27 28 29]]\n"
     ]
    },
    {
     "data": {
      "text/plain": [
       "array([ 2,  9, 16, 23])"
      ]
     },
     "execution_count": 80,
     "metadata": {},
     "output_type": "execute_result"
    }
   ],
   "source": [
    "test_matrix = np.arange(30).reshape(5,6)\n",
    "print(np.ones_like(test_matrix))\n",
    "\n",
    "test_matrix = np.identity(n=3, dtype=np.int8)\n",
    "print(test_matrix)\n",
    "\n",
    "np.identity(5,dtype =np.int8)\n",
    "\n",
    "np.eye(5)\n",
    "np.eye(N=3, M=5, dtype=np.int8)\n",
    "np.eye(N=3, M=5, k=2, dtype=np.int8)\n",
    "\n",
    "matrix = np.arange(30).reshape(5,6)\n",
    "print(matrix)\n",
    "np.diag(matrix, k =2)\n",
    "\n",
    "np.random.uniform()\n",
    "\n"
   ]
  },
  {
   "attachments": {},
   "cell_type": "markdown",
   "metadata": {},
   "source": [
    "< sum >\n",
    "\n",
    "- ndarray의 element들 간의 합을 구함, list의 sum 기능과 동일\n",
    "- 각 축마다 계산한 합을 원소로 하는 새로운 matrix를 생성\n",
    "\n",
    "< axis >\n",
    "\n",
    "- 모든 operation function을 실행할 때, 기준이 되는 dimension 축\n",
    "- 컴퓨터적 사고 기준 : x축 <-> axis = 0 , y축 <-> axis = 1\n",
    "\n"
   ]
  },
  {
   "cell_type": "code",
   "execution_count": 3,
   "metadata": {},
   "outputs": [
    {
     "name": "stdout",
     "output_type": "stream",
     "text": [
      "[ 1  2  3  4  5  6  7  8  9 10]\n",
      "55.0\n",
      "[[ 1  2  3  4]\n",
      " [ 5  6  7  8]\n",
      " [ 9 10 11 12]]\n",
      "[10 26 42]\n",
      "[15 18 21 24]\n"
     ]
    }
   ],
   "source": [
    "import numpy as np\n",
    "\n",
    "test_array = np.arange(1,11)\n",
    "print(test_array)\n",
    "print(test_array.sum(dtype=np.float64))\n",
    "\n",
    "test_array = np.arange(1,13).reshape(3,4)\n",
    "\n",
    "print(test_array)\n",
    "print(test_array.sum(axis=1))\n",
    "print(test_array.sum(axis=0))\n"
   ]
  },
  {
   "attachments": {},
   "cell_type": "markdown",
   "metadata": {},
   "source": [
    "< 평균 & 표준편차 >\n",
    "\n",
    "mean & std\n",
    "\n",
    "- ndarray의 element들 간의 평균 또는 표준 편차를 반환"
   ]
  },
  {
   "cell_type": "code",
   "execution_count": 14,
   "metadata": {},
   "outputs": [
    {
     "name": "stdout",
     "output_type": "stream",
     "text": [
      "[[ 1  2  3  4]\n",
      " [ 5  6  7  8]\n",
      " [ 9 10 11 12]]\n",
      "6.5\n",
      "[5 6 7 8]\n",
      "3.452052529534663\n",
      "[3.26598632 3.26598632 3.26598632 3.26598632]\n"
     ]
    }
   ],
   "source": [
    "test_array = np.arange(1,13).reshape(3,4)\n",
    "print(test_array)\n",
    "\n",
    "print(test_array.mean())\n",
    "print(test_array.mean(axis=0, dtype=int))\n",
    "\n",
    "print(test_array.std())\n",
    "print(test_array.std(axis = 0, dtype = float))"
   ]
  },
  {
   "cell_type": "markdown",
   "metadata": {},
   "source": [
    "< concatenate > : 병합 (string처럼)\n",
    "\n",
    "- Numpy array를 합치는 함수\n",
    "- vstack : 위아래로 합침 (y방향) / vertical stack\n",
    "- concatenate with axis = 0 : 위아래로 합침 (y방향)\n",
    "\n",
    "- hstack : 좌우로 합침 (x방향) / horizonal stack\n",
    "- concatenate with axis = 1 : 위아래로 합침 (x방향)"
   ]
  },
  {
   "cell_type": "code",
   "execution_count": 24,
   "metadata": {},
   "outputs": [
    {
     "name": "stdout",
     "output_type": "stream",
     "text": [
      "[[1 2 3]\n",
      " [2 3 4]]\n",
      "[1 2 3 2 3 4]\n",
      "[[1]\n",
      " [2]\n",
      " [3]\n",
      " [2]\n",
      " [3]\n",
      " [4]]\n",
      "[[1 2]\n",
      " [2 3]\n",
      " [3 4]]\n",
      "[[1]\n",
      " [2]\n",
      " [3]\n",
      " [2]\n",
      " [3]\n",
      " [4]]\n",
      "[[1 2]\n",
      " [2 3]\n",
      " [3 4]]\n"
     ]
    }
   ],
   "source": [
    "a = np.array([1,2,3])\n",
    "b = np.array([2,3,4])\n",
    "\n",
    "print(np.vstack((a,b)))\n",
    "print(np.hstack((a,b)))\n",
    "\n",
    "c = np.array([1,2,3]).reshape(3,1)\n",
    "d = np.array([2,3,4]).reshape(3,1)\n",
    "\n",
    "print(np.vstack((c,d)))\n",
    "print(np.hstack((c,d)))\n",
    "\n",
    "c = np.array([[1], [2], [3]])\n",
    "d = np.array([[2], [3], [4]])\n",
    "\n",
    "print(np.vstack((c,d)))\n",
    "print(np.hstack((c,d)))\n",
    "\n",
    "\n"
   ]
  },
  {
   "cell_type": "code",
   "execution_count": 35,
   "metadata": {},
   "outputs": [
    {
     "name": "stdout",
     "output_type": "stream",
     "text": [
      "[[1 2 3]\n",
      " [2 3 4]]\n",
      "[[1 2 5]\n",
      " [3 4 6]]\n"
     ]
    }
   ],
   "source": [
    "a = np.array([[1,2,3]])\n",
    "b = np.array([[2,3,4]])\n",
    "\n",
    "c = np.array([[1,2],[3,4]])\n",
    "d = np.array([[5,6]])\n",
    "\n",
    "print(np.concatenate((a,b),axis=0))\n",
    "print(np.concatenate((c,d.T),axis=1))"
   ]
  },
  {
   "attachments": {},
   "cell_type": "markdown",
   "metadata": {},
   "source": [
    "< array operations b/t arrays >\n",
    "\n",
    "- Numpy는 array간의 기본적인 사칙 연산을 지원함"
   ]
  },
  {
   "cell_type": "code",
   "execution_count": 41,
   "metadata": {},
   "outputs": [
    {
     "name": "stdout",
     "output_type": "stream",
     "text": [
      "[[ 2  4  6]\n",
      " [ 8 10 12]]\n",
      "[[0 0 0]\n",
      " [0 0 0]]\n",
      "[[ 1  4  9]\n",
      " [16 25 36]]\n"
     ]
    }
   ],
   "source": [
    "test_a = np.array([[1,2,3],[4,5,6]], int)\n",
    "print(test_a + test_a)\n",
    "print(test_a - test_a)\n",
    "print(test_a * test_a)"
   ]
  },
  {
   "attachments": {},
   "cell_type": "markdown",
   "metadata": {},
   "source": [
    "< Element-wise operations >\n",
    "\n",
    "- Array간 shape이 같을 때 일어나는 연산 : * 연산\n",
    "- 각 element끼리 (같은 위치에 ㅇ)"
   ]
  },
  {
   "cell_type": "code",
   "execution_count": 43,
   "metadata": {},
   "outputs": [
    {
     "name": "stdout",
     "output_type": "stream",
     "text": [
      "[[  1   4   9  16]\n",
      " [ 25  36  49  64]\n",
      " [ 81 100 121 144]]\n"
     ]
    }
   ],
   "source": [
    "matrix_a = np.arange(1,13).reshape(3,4)\n",
    "\n",
    "print(matrix_a * matrix_a)"
   ]
  },
  {
   "attachments": {},
   "cell_type": "markdown",
   "metadata": {},
   "source": [
    "< Dot product >\n",
    "\n",
    "< 일반 행렬곱 >\n",
    "- Matrix의 기본 연산 : @ 연산\n",
    "- dot 함수 사용 : .dot 연산\n",
    "\n",
    "< 내적 >\n",
    "- np.inner 연산"
   ]
  },
  {
   "cell_type": "code",
   "execution_count": 50,
   "metadata": {},
   "outputs": [
    {
     "name": "stdout",
     "output_type": "stream",
     "text": [
      "[[ 58  64]\n",
      " [139 154]]\n",
      "[[ 58  64]\n",
      " [139 154]]\n",
      "[[ 58  64]\n",
      " [139 154]]\n"
     ]
    }
   ],
   "source": [
    "test_a = np.arange(1,7).reshape(2,3)\n",
    "test_b = np.arange(7,13).reshape(3,2)\n",
    "\n",
    "print(test_a.dot(test_b))   # @ 연산 = 일반 행렬곱\n",
    "print(test_a @ test_b)  # .dot 연산 = 일반 행렬곱\n",
    "print(np.inner(test_a, test_b.T))   # np.inner연산 = 내적 = 전치후 일반 행렬곱"
   ]
  },
  {
   "attachments": {},
   "cell_type": "markdown",
   "metadata": {},
   "source": [
    "< transpose >\n",
    "\n",
    "- transpose 또는 T attribute 사용\n",
    "-> array.transpose() or array.T"
   ]
  },
  {
   "cell_type": "code",
   "execution_count": 53,
   "metadata": {},
   "outputs": [
    {
     "name": "stdout",
     "output_type": "stream",
     "text": [
      "[[1 2 3]\n",
      " [4 5 6]]\n",
      "[[1 4]\n",
      " [2 5]\n",
      " [3 6]]\n",
      "[[1 4]\n",
      " [2 5]\n",
      " [3 6]]\n",
      "[[17 22 27]\n",
      " [22 29 36]\n",
      " [27 36 45]]\n"
     ]
    }
   ],
   "source": [
    "test_a = np.arange(1,7).reshape(2,3)\n",
    "print(test_a)\n",
    "\n",
    "print(test_a.T)\n",
    "print(test_a.transpose())\n",
    "print(test_a.T.dot(test_a))"
   ]
  },
  {
   "attachments": {},
   "cell_type": "markdown",
   "metadata": {},
   "source": [
    "< broadcasting >\n",
    "\n",
    "- Shape이 다른 배열 간 연산을 지원하는 기능\n",
    "- Scalar - vector / vector - matrix / scalar - matrix 간의 연산 모두 지원"
   ]
  },
  {
   "cell_type": "code",
   "execution_count": 56,
   "metadata": {},
   "outputs": [
    {
     "name": "stdout",
     "output_type": "stream",
     "text": [
      "[[4. 5. 6.]\n",
      " [7. 8. 9.]]\n",
      "[[-2. -1.  0.]\n",
      " [ 1.  2.  3.]]\n",
      "[[ 3.  6.  9.]\n",
      " [12. 15. 18.]]\n",
      "[[0.33333333 0.66666667 1.        ]\n",
      " [1.33333333 1.66666667 2.        ]]\n",
      "[[0. 0. 1.]\n",
      " [1. 1. 2.]]\n",
      "[[  1.   8.  27.]\n",
      " [ 64. 125. 216.]]\n"
     ]
    }
   ],
   "source": [
    "test_matrix = np.array([[1,2,3],[4,5,6]], float)\n",
    "scalar = 3\n",
    "\n",
    "# matrix - scalar 덧셈\n",
    "print(test_matrix + scalar)\n",
    "\n",
    "# matrix - scalar 뺄셈\n",
    "print(test_matrix - scalar)\n",
    "\n",
    "# matrix - scalar 곱셈\n",
    "print(test_matrix * scalar)\n",
    "\n",
    "# matrix - scalar 나눗셈\n",
    "print(test_matrix / scalar)\n",
    "\n",
    "# matrix - scalar 몫\n",
    "print(test_matrix // scalar)\n",
    "\n",
    "# matrix - scalar 제곱\n",
    "print(test_matrix ** scalar)"
   ]
  },
  {
   "attachments": {},
   "cell_type": "markdown",
   "metadata": {},
   "source": [
    "< Numpy performance #1 >\n",
    "\n",
    "- timeit: jupyter 환경에서 코드의 퍼포먼스를 체크하는 함수"
   ]
  },
  {
   "cell_type": "code",
   "execution_count": 58,
   "metadata": {},
   "outputs": [
    {
     "name": "stdout",
     "output_type": "stream",
     "text": [
      "945 µs ± 47.4 µs per loop (mean ± std. dev. of 7 runs, 1,000 loops each)\n",
      "788 µs ± 8.72 µs per loop (mean ± std. dev. of 7 runs, 1,000 loops each)\n",
      "11.4 µs ± 28.3 ns per loop (mean ± std. dev. of 7 runs, 100,000 loops each)\n"
     ]
    }
   ],
   "source": [
    "def sclar_vector_product(scalar, vector): \n",
    "    result = []\n",
    "    for value in vector: \n",
    "        result.append(scalar * value)\n",
    "        \n",
    "    return result \n",
    "\n",
    "iternation_max = 10000\n",
    "\n",
    "vector = list(range(iternation_max)) \n",
    "scalar = 2\n",
    "\n",
    "%timeit sclar_vector_product(scalar, vector) # for loop을 이용한 성능\n",
    "%timeit [scalar * value for value in range(iternation_max)] # list comprehension을 이용한 성능 \n",
    "%timeit np.arange(iternation_max) * scalar # numpy를 이용한 성능"
   ]
  },
  {
   "attachments": {},
   "cell_type": "markdown",
   "metadata": {},
   "source": [
    "< Numpy performance #2 >\n",
    "\n",
    "- 일반적으로 속도는 아래 순\n",
    "for loop < list comprehension < numpy\n",
    "\n",
    "- 100,000,000번의 loop이 돌 때 약4배이상의 성능차이를 보임\n",
    "- Numpy는 C로 구현되어 있어, 성능을 확보하는 대신 파이썬의 가장 큰 특징인 dynamic typing을 포기함\n",
    "- 대용량 계산에서는 가장 흔히 사용됨\n",
    "- Concatenate 처럼 계산이 아닌, 할당에서는 연산 속도의 이점이 없음"
   ]
  },
  {
   "attachments": {},
   "cell_type": "markdown",
   "metadata": {},
   "source": [
    "< All & Any >\n",
    "\n",
    "- Array의 데이터 전부(and) 또는 일부(or)가 조건에 만족 여부 반환\n",
    "- any -> 하나라도 조건에 만족한다면 true\n",
    "- all -> 모두가 조건에 만족한다면 true\n",
    "\n",
    "< Comparison operation >\n",
    "\n",
    "- Numpy는 배열의 크기가 동일 할 때, element간 비교의 결과를 Boolean type으로 반환하여 돌려줌\n",
    "\n",
    "< np.where >\n",
    "\n",
    "1) 조건을 만족하는 Index값 반환 : \n",
    "    -> where(condition)\n",
    "\n",
    "2) 조건을 만족할 때 True parameter의 값 반환 / 만족하지 않을 때 False parameter의 값 반환 :\n",
    "    -> where(conidition, True, False)\n",
    "\n",
    "- np.isnan() : Not a Number\n",
    "- np.isfinite() : is finite number\n",
    "\n"
   ]
  },
  {
   "cell_type": "code",
   "execution_count": 62,
   "metadata": {},
   "outputs": [
    {
     "data": {
      "text/plain": [
       "array([0, 1, 2, 3, 4, 5, 6, 7, 8, 9])"
      ]
     },
     "execution_count": 62,
     "metadata": {},
     "output_type": "execute_result"
    }
   ],
   "source": [
    "a = np.arange(10)\n",
    "a\n"
   ]
  },
  {
   "cell_type": "code",
   "execution_count": 61,
   "metadata": {},
   "outputs": [
    {
     "data": {
      "text/plain": [
       "array([False, False, False, False, False, False, False, False, False,\n",
       "       False])"
      ]
     },
     "execution_count": 61,
     "metadata": {},
     "output_type": "execute_result"
    }
   ],
   "source": [
    "a<0"
   ]
  },
  {
   "cell_type": "code",
   "execution_count": 63,
   "metadata": {},
   "outputs": [
    {
     "data": {
      "text/plain": [
       "(True, False)"
      ]
     },
     "execution_count": 63,
     "metadata": {},
     "output_type": "execute_result"
    }
   ],
   "source": [
    "np.any(a>5), np.any(a<0)"
   ]
  },
  {
   "cell_type": "code",
   "execution_count": 64,
   "metadata": {},
   "outputs": [
    {
     "data": {
      "text/plain": [
       "(False, True)"
      ]
     },
     "execution_count": 64,
     "metadata": {},
     "output_type": "execute_result"
    }
   ],
   "source": [
    "np.all(a>5), np.all(a<10)"
   ]
  },
  {
   "cell_type": "code",
   "execution_count": 66,
   "metadata": {},
   "outputs": [
    {
     "data": {
      "text/plain": [
       "array([3, 3, 2])"
      ]
     },
     "execution_count": 66,
     "metadata": {},
     "output_type": "execute_result"
    }
   ],
   "source": [
    "a = np.array([1, 3, 0], float)\n",
    "np.where(a>0, 3, 2)"
   ]
  },
  {
   "cell_type": "code",
   "execution_count": 67,
   "metadata": {},
   "outputs": [
    {
     "data": {
      "text/plain": [
       "(array([0, 1]),)"
      ]
     },
     "execution_count": 67,
     "metadata": {},
     "output_type": "execute_result"
    }
   ],
   "source": [
    "np.where(a>0)"
   ]
  },
  {
   "cell_type": "code",
   "execution_count": 70,
   "metadata": {},
   "outputs": [
    {
     "data": {
      "text/plain": [
       "array([False,  True, False])"
      ]
     },
     "execution_count": 70,
     "metadata": {},
     "output_type": "execute_result"
    }
   ],
   "source": [
    "a = np.array([1, np.NaN, np.Inf], float)\n",
    "np.isnan(a)"
   ]
  },
  {
   "cell_type": "code",
   "execution_count": 71,
   "metadata": {},
   "outputs": [
    {
     "data": {
      "text/plain": [
       "array([ True, False, False])"
      ]
     },
     "execution_count": 71,
     "metadata": {},
     "output_type": "execute_result"
    }
   ],
   "source": [
    "np.isfinite(a)"
   ]
  },
  {
   "attachments": {},
   "cell_type": "markdown",
   "metadata": {},
   "source": [
    "< argmax & argmin >\n",
    "\n",
    "- array내 최대값 또는 최소값의 index를 반환함\n",
    "- axis 기반의 반환"
   ]
  },
  {
   "cell_type": "code",
   "execution_count": 72,
   "metadata": {},
   "outputs": [
    {
     "data": {
      "text/plain": [
       "(5, 0)"
      ]
     },
     "execution_count": 72,
     "metadata": {},
     "output_type": "execute_result"
    }
   ],
   "source": [
    "a = np.array([1,2,4,5,8,78,23,3])\n",
    "np.argmax(a), np.argmin(a)"
   ]
  },
  {
   "cell_type": "code",
   "execution_count": 75,
   "metadata": {},
   "outputs": [
    {
     "data": {
      "text/plain": [
       "(array([3, 1, 1]), array([1, 1, 1, 1]))"
      ]
     },
     "execution_count": 75,
     "metadata": {},
     "output_type": "execute_result"
    }
   ],
   "source": [
    "a = np.array([[1,2,4,7],[9,88,6,45],[9,76,3,4]])\n",
    "np.argmax(a, axis=1), np.argmax(a, axis=0)"
   ]
  },
  {
   "attachments": {},
   "cell_type": "markdown",
   "metadata": {},
   "source": [
    "< boolean index >\n",
    "\n",
    "- array의 [index]에 condition(boolean 조건)을 넣는 경우 filter로서 작용함\n",
    "- True인 index가 아니라 value를 반환함\n",
    "\n",
    "- numpy는 배열은 특정 조건에 따른 값을 배열 형태로 추출할 수 있음\n",
    "- Comparison operation 함수들도 모두 사용가능\n",
    "- 조건이 True인 index의 element만 추출\n",
    "\n",
    "< fancy index >\n",
    "\n",
    "- numpy는 array를 index value로 사용해서 값을 추출하는 방법\n",
    "- Matrix 형태의 데이터도 가능\n",
    "- 단, b는 반드시 모든 원소가 int여야 함 : 정수로 선언ㄴ\n",
    "-> a[b] : b를 index로 인식해서 b의 각 원소(인덱스)마다 a의 값을 반환\n",
    "-> a.take(b) : bracket index와 같은 효과"
   ]
  },
  {
   "cell_type": "code",
   "execution_count": 76,
   "metadata": {},
   "outputs": [
    {
     "data": {
      "text/plain": [
       "array([False,  True, False, False, False,  True,  True,  True])"
      ]
     },
     "execution_count": 76,
     "metadata": {},
     "output_type": "execute_result"
    }
   ],
   "source": [
    "test_array = np.array([1,4,0,2,3,8,9,7], float)\n",
    "test_array > 3"
   ]
  },
  {
   "cell_type": "code",
   "execution_count": 77,
   "metadata": {},
   "outputs": [
    {
     "data": {
      "text/plain": [
       "array([4., 8., 9., 7.])"
      ]
     },
     "execution_count": 77,
     "metadata": {},
     "output_type": "execute_result"
    }
   ],
   "source": [
    "test_array[test_array >3]"
   ]
  },
  {
   "cell_type": "code",
   "execution_count": 78,
   "metadata": {},
   "outputs": [
    {
     "data": {
      "text/plain": [
       "array([1., 0., 2.])"
      ]
     },
     "execution_count": 78,
     "metadata": {},
     "output_type": "execute_result"
    }
   ],
   "source": [
    "condition = test_array < 3\n",
    "test_array[condition]"
   ]
  },
  {
   "cell_type": "code",
   "execution_count": 82,
   "metadata": {},
   "outputs": [
    {
     "data": {
      "text/plain": [
       "array([2., 2., 4., 8., 6., 4.])"
      ]
     },
     "execution_count": 82,
     "metadata": {},
     "output_type": "execute_result"
    }
   ],
   "source": [
    "a = np.array([2,4,6,8], float)\n",
    "b = np.array([0,0,1,3,2,1], int)    # 반드시 integer로 선언\n",
    "a[b]    # b배열의 값을 index로 하여 a의 값들을 추출함\n"
   ]
  },
  {
   "cell_type": "code",
   "execution_count": 83,
   "metadata": {},
   "outputs": [
    {
     "data": {
      "text/plain": [
       "array([2., 2., 4., 8., 6., 4.])"
      ]
     },
     "execution_count": 83,
     "metadata": {},
     "output_type": "execute_result"
    }
   ],
   "source": [
    "a.take(b)   # take 함수 : bracket index와 같은 효과"
   ]
  },
  {
   "cell_type": "code",
   "execution_count": 84,
   "metadata": {},
   "outputs": [
    {
     "data": {
      "text/plain": [
       "array([ 1.,  4., 16., 16.,  4.])"
      ]
     },
     "execution_count": 84,
     "metadata": {},
     "output_type": "execute_result"
    }
   ],
   "source": [
    "a = np.array([[1,4],[9,16]], float)\n",
    "b = np.array([0,0,1,1,0], int)\n",
    "c = np.array([0,1,1,1,1], int)\n",
    "a[b,c]  # b를 row index, c를 column index로 변환하여 표시함"
   ]
  },
  {
   "cell_type": "code",
   "execution_count": null,
   "metadata": {},
   "outputs": [],
   "source": []
  }
 ],
 "metadata": {
  "kernelspec": {
   "display_name": "Python 3",
   "language": "python",
   "name": "python3"
  },
  "language_info": {
   "codemirror_mode": {
    "name": "ipython",
    "version": 3
   },
   "file_extension": ".py",
   "mimetype": "text/x-python",
   "name": "python",
   "nbconvert_exporter": "python",
   "pygments_lexer": "ipython3",
   "version": "3.10.5"
  },
  "orig_nbformat": 4,
  "vscode": {
   "interpreter": {
    "hash": "aee8b7b246df8f9039afb4144a1f6fd8d2ca17a180786b69acc140d282b71a49"
   }
  }
 },
 "nbformat": 4,
 "nbformat_minor": 2
}
