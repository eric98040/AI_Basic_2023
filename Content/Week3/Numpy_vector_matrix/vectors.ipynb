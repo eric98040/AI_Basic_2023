{
 "cells": [
  {
   "attachments": {},
   "cell_type": "markdown",
   "metadata": {},
   "source": [
    "< 벡터 >\n",
    "\n",
    "\n",
    "- 벡터는 숫자를 원소로 가지는 리스트(list) 또는 배열(array)입니다\n",
    "- 보통 행벡터로 처리\n",
    "\n",
    "- 공간에서 한 점을 나타냄 & 보통 기준점(원점)으로부터 상대적 위치를 표현함\n",
    "\n",
    "- 벡터에 숫자를 곱해주면(스칼라배) 길이만 변함\n",
    "    - 0보다 작으면 반대 방향이 됨\n",
    "    - 1보다 크면 길이가 늘어나고, 1보다 작으면 길이가 줄어듦\n",
    "\n",
    "- 벡터끼리 같은 크기를 가지면 덧셈, 뺄셈을 계산할 수 있음\n",
    "\n",
    "< 아다마르 곱(hadamard product) = 성분곱 >\n",
    "\n",
    "- 벡터끼리 같은 모양을 가지면 성분곱을 계산할 수 있음\n",
    "- 성분끼리의 곱셈으로 표현가능\n",
    "- [m X n] * [m X n] = [m X n] (상-상-상)\n",
    "\n",
    "< 일반 행렬 곱(Matrix multiplication) >\n",
    "\n",
    "- [m X n] * [n X p] = [m X p] (상-우-상)\n",
    "\n",
    "\n"
   ]
  },
  {
   "attachments": {},
   "cell_type": "markdown",
   "metadata": {},
   "source": [
    "< 벡터의 덧셈 >\n",
    "\n",
    "- 두 벡터의 덧셈을 다른 벡터로부터의 상대적 위치 이동을 표현"
   ]
  },
  {
   "cell_type": "code",
   "execution_count": 2,
   "metadata": {},
   "outputs": [
    {
     "name": "stdout",
     "output_type": "stream",
     "text": [
      "[1, 5, 7] [1 5 7]\n"
     ]
    }
   ],
   "source": [
    "import numpy as np\n",
    "\n",
    "x = [1, 5, 7]\n",
    "y = np.array([1, 5, 7])\n",
    "print(x,y)"
   ]
  },
  {
   "attachments": {},
   "cell_type": "markdown",
   "metadata": {},
   "source": [
    "< 벡터의 노름(norm) >\n",
    "\n",
    "- 벡터의 norm은 원점에서부터의 거리를 말함\n",
    "- 임의의 차원 d에 대해 성립 (모든 차원에 대해 성립 = 성분 원소의 개수에 상관 X : x1, x2,..xd)\n",
    "\n",
    "- L1 norm : 각 성분의 변화량의 절대값을 모두 더함 (sigma(i=1~d) (abs(xi) )\n",
    "    - 좌표평면에서 각 좌표축을 따라 움직인 거리들의 합\n",
    "    - Robust 학습, Lasso 회귀\n",
    "\n",
    "- L2 norm : 피타고라스 정리를 이용해 유클리드 거리를 계산함 (root(sigma(i=1~d) ((xi)^2))\n",
    "    - Laplace 근사, Ridge 회귀\n",
    "    \n",
    "\n",
    "- norm의 종류에 따라 기하학적 성질이 달라짐\n"
   ]
  },
  {
   "cell_type": "code",
   "execution_count": 6,
   "metadata": {},
   "outputs": [],
   "source": [
    "from math import sqrt\n",
    "\n",
    "def l1_norm(x) :\n",
    "    # 입력받는 x가 벡터임\n",
    "    x_norm = np.abs(x)\n",
    "    x_norm = np.sum(x_norm)\n",
    "    return x_norm\n",
    "\n",
    "def l2_norm(x):\n",
    "    x_norm = x * x\n",
    "    x_norm = sum(x_norm)\n",
    "    x_norm = sqrt(x_norm)\n",
    "    return x_norm"
   ]
  },
  {
   "attachments": {},
   "cell_type": "markdown",
   "metadata": {},
   "source": [
    "< 두 벡터 사이의 거리를 구하기 >\n",
    "\n",
    "- 두 점이 주어졌을 때 두 점 사이의 거리를 구하기\n",
    "- 두 벡터 사이의 거리를 계산할 때 = 벡터의 뺄셈을 이용\n",
    "- L1, L2 - norm을 이용함\n",
    "\n",
    "< 두 벡터 사이의 각을 구하기 >\n",
    "\n",
    "- 2차원, 3차원... 임의의 d차원에서 사용가능\n",
    "- L2 - norm에서만 사용가능\n",
    "- 제 2 cos법칙에 의해 두 벡터 사이의 각도를 계산할 수 있음\n",
    "- cos(theta) = <a,b> / ||a||*||b||"
   ]
  },
  {
   "cell_type": "code",
   "execution_count": null,
   "metadata": {},
   "outputs": [],
   "source": [
    "def angle(x,y) : \n",
    "    v = np.inner(x,y) / (l2_norm(x) * l2_norm(y))\n",
    "    theta = np.arccos(v)\n",
    "    return theta"
   ]
  },
  {
   "attachments": {},
   "cell_type": "markdown",
   "metadata": {},
   "source": [
    "< 내적을 어떻게 해석할까 >\n",
    "\n",
    "- 내적은 정사영된 벡터의 길이와 관련있음 \n",
    "- 기준 벡터의 크기 * 정사영한 벡터 크기\n",
    "- 두 벡터 사이의 유사도를 측정하는데 사용가능 \n",
    "\n",
    "- proj(x) : 벡터 y로 정사영된 벡터 x의 그림자를 의미\n",
    "    - proj(x)의 길이 = ||x|| * cos(theta)가 됨\n",
    "\n",
    "- 내적은 정사영의 길이를 벡터 y의 길이 ||y||만큼 조정한 값\n",
    "\n"
   ]
  }
 ],
 "metadata": {
  "kernelspec": {
   "display_name": "Python 3",
   "language": "python",
   "name": "python3"
  },
  "language_info": {
   "codemirror_mode": {
    "name": "ipython",
    "version": 3
   },
   "file_extension": ".py",
   "mimetype": "text/x-python",
   "name": "python",
   "nbconvert_exporter": "python",
   "pygments_lexer": "ipython3",
   "version": "3.10.5"
  },
  "orig_nbformat": 4,
  "vscode": {
   "interpreter": {
    "hash": "aee8b7b246df8f9039afb4144a1f6fd8d2ca17a180786b69acc140d282b71a49"
   }
  }
 },
 "nbformat": 4,
 "nbformat_minor": 2
}
