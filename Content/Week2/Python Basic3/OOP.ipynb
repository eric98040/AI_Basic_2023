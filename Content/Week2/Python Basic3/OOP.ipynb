{
 "cells": [
  {
   "attachments": {},
   "cell_type": "markdown",
   "metadata": {},
   "source": [
    "< OOP >\n",
    "\n",
    "- Class :\n",
    "    - 객체를 정의하는 설계도\n",
    "    - 연관되어 있는 변수와 메서드의 집합\n",
    "\n",
    "- 객체  : \"실체\"에 초점\n",
    "\n",
    "    < 개념 >\n",
    "    - 소프트웨어 세계에 구현'할' 대상\n",
    "    - 클래스에 선언된 모양 그대로 생성된 실체\n",
    "\n",
    "    < 특징 >\n",
    "    - '클래스의 인스턴스(instance)' 라고도 부름\n",
    "    - 모든 인스턴스를 대표하는 포괄적인 의미를 가짐\n",
    "    - OOP의 관점에서 클래스의 타입으로 선언되었을 때 '객체'라고 부름\n",
    "    - 행위(action)와 상태(attribute)를 가짐\n",
    "    \n",
    "- 인스턴스(Instance) : \"관계\"에 초점\n",
    "\n",
    "    < 개념 >\n",
    "    - 설계도를 바탕으로 소프트웨어 세계에 '구현된 구체적인 실체' (= 메모리에 할당)\n",
    "    - 객체를 소프트웨어에 실체화하면 그것을 '인스턴스'라고 부름\n",
    "    - 실체화된 인스턴스는 메모리에 할당된다\n",
    "\n",
    "    < 특징 >\n",
    "    - 인스턴스는 객체에 포함된다고 볼 수 있다\n",
    "    - OOP의 관점에서 객체가 메모리에 할당되어 있으면(=소프트웨어 세상에 구현이 되면) '인스턴스'라고 부름\n",
    "    - 추상적인 개념(또는 명세)과 구체적인 객체 사이의 관계에 초점을 맞출 경우에 사용\n",
    "        - '~의 인스턴스'의 형태로 사용된다\n",
    "        - 객체는 클래스의 인스턴스다\n",
    "        - 객체 간의 링크는 클래스 간의 연관관계의 인스턴스다\n",
    "        - 실행 프로세스는 프로그램의 인스턴스다\n",
    "    - 인스턴스라는 용어는 반드시 클래스와 객체 사이의 관계로 한정지어서 사용할 필요X\n",
    "    - 인스턴스는 어떤 원본으로부터 '생성된 복제본'을 의미\n",
    "\n",
    "- 클래스, 객체, 인스턴스의 차이\n",
    "\n",
    "    - Class vs Object \n",
    "        - 클래스는 객체를 정의하는 설계도\n",
    "        - 객체는 설계도로 구현한 모든 대상\n",
    "\n",
    "    - 객체(Object) VS 인스턴스(Instance)\n",
    "\n",
    "    - 클래스의 타입으로 선언되었을 때 객체라고 부르고, 그 객체가 메모리에 할당되어 실제 사용될 때 인스턴스라고 부른다.\n",
    "    - 객체는 현실 세계에 가깝고, 인스턴스는 소프트웨어 세계에 가깝다.\n",
    "    - 객체는 ‘실체’, 인스턴스는 ‘관계’에 초점을 맞춘다.\n",
    "    - 객체를 ‘클래스의 인스턴스’라고도 부른다.\n",
    "    - ‘방금 인스턴스화하여 레퍼런스를 할당한’ 객체를 인스턴스라고 말하지만, 이는 원본(추상적인 개념)으로부터 생성되었다는 것에 의미를 부여하는 것일 뿐 엄격하게 객체와 인스턴스를 나누긴 어렵다.\n",
    "\n",
    "    \n",
    "\n",
    "\n"
   ]
  },
  {
   "attachments": {},
   "cell_type": "markdown",
   "metadata": {},
   "source": [
    "< OOP 프로그래밍 개요 >\n",
    "\n",
    "- 객체 : 실생활에서 일종의 물건\n",
    "    - 객체는 상태(속성, 멤버 변수)와 행위(메소드, 멤버 함수)를 가진다. (attribute, method) : (member variable, member function 이라고도 불린다.)\n",
    "\n",
    "- Class : 객체를 정의하는 설계도\n",
    "- Instance : 설계도를 통해서 소프트웨어 세계에 구현된 실제 구현체 (=메모리에 할당)\n",
    "\n",
    "< Class 선언하기 >\n",
    "- class 선언, object는 python3에서 자동 상속\n",
    "\n",
    "class SoccerPlayer(object) :\n",
    "class 예약어 , class 이름 , 상속받는 개체명\n",
    "\n",
    "< Python naming rule >\n",
    "\n",
    "- snake_case : 띄어쓰기 부분에 '_'를 추가 \n",
    "    - 뱀처럼 늘여쓰기, 파이썬 함수/변수명에 사용\n",
    "\n",
    "- CamelCase : 띄어쓰기 부분에 대문자\n",
    "    - 낙타의 등 모양, 파이썬 Class명에 사용\n",
    "\n",
    "\n",
    "< Attribute 추가하기 >\n",
    "\n",
    "- Attribute 추가는 __init__, self와 함께!\n",
    "- __init__은 객체 초기화 예약 함수\n",
    "\n",
    "< method 구현하기 >\n",
    "- method(행위) 추가는 기존 함수와 같으나, 반드시 self를 추가해야만 class 함수로 인정됨\n",
    "- def function_name (self, parameters..)\n",
    "\n",
    "< objects 사용하기 >\n",
    "- object 이름 선언과 함게 초기값 입력 받기\n",
    "- 객체명 = class명(__init__함수 interface, 초기값)\n",
    "\n",
    "- < self > : self = 생성된 인스턴스 자신\n",
    "\n",
    "< __의 의미 >\n",
    "\n",
    "- _는 특수한 예약함수와 변수, 그리고 함수명 변경(맨글링)으로 사용\n",
    "_ __main__\n",
    "- __add__ (실제 + 연산을 했을 때 return문 안의 결과를 반환해주는 함수)\n",
    "- __str__ (print문을 객체에 적용해주면 실행되는 함수)\n",
    "- __eq__\n",
    "\n"
   ]
  },
  {
   "cell_type": "code",
   "execution_count": 7,
   "metadata": {},
   "outputs": [
    {
     "name": "stdout",
     "output_type": "stream",
     "text": [
      "Hello, My name is Jaewon. My back number is 10\n",
      "JaewonPatric\n",
      "선수의 등번호를 변경합니다 : From 7 to 99\n"
     ]
    }
   ],
   "source": [
    "class SoccerPlayer :\n",
    "    \n",
    "    def __init__(self, name : str , position : str , back_number : int) : \n",
    "        self.name = name\n",
    "        self.position = position\n",
    "        self.back_number = back_number\n",
    "        \n",
    "    def __str__(self) -> str:\n",
    "        return f\"Hello, My name is {self.name}. My back number is {self.back_number}\"\n",
    "    \n",
    "    def __add__(self,other) :\n",
    "        return self.name + other.name\n",
    "    \n",
    "    def change_back_number(self,new_number) :\n",
    "        print(\"선수의 등번호를 변경합니다 : From {} to {}\".format(self.back_number,new_number))\n",
    "        self.back_number = new_number\n",
    "    \n",
    "\n",
    "patric = SoccerPlayer('Patric','FW',7)\n",
    "eric = SoccerPlayer('Jaewon','CB',10)\n",
    "print(eric)\n",
    "print(eric+patric)\n",
    "patric.change_back_number(99)\n",
    "\n",
    "        \n",
    "        \n",
    "    "
   ]
  },
  {
   "attachments": {},
   "cell_type": "markdown",
   "metadata": {},
   "source": [
    "< 구현 가능한 OOP 만들기 > - 노트북\n",
    " \n",
    "- Note를 정리하는 프로그램\n",
    "- 사용자는 Note에 뭔가를 적을 수 있다.\n",
    "- Note에는 Content가 있고, 내용을 제거할 수 있다.\n",
    "- 두 개의 노트북을 합쳐 하나로 만들 수 있다.\n",
    "- Note는 Notebook에 삽입된다.\n",
    "- Notebook은 Note가 삽입될 때 페이지를 생성하며, 최고 300페이지까지 저장 가능하다.\n",
    "- 300 페이지가 넘으면 더 이상 노트를 삽입하지 못한다."
   ]
  },
  {
   "cell_type": "code",
   "execution_count": 10,
   "metadata": {},
   "outputs": [
    {
     "name": "stdout",
     "output_type": "stream",
     "text": [
      "hello\n",
      "My name is Jaewon Kim\n",
      "\n"
     ]
    }
   ],
   "source": [
    "class Note :\n",
    "    \n",
    "    def __init__(self,content : str) :\n",
    "        self.content = content\n",
    "    \n",
    "    def write_content(self,new_content : str) :\n",
    "        self.content+=f'\\n{new_content}'\n",
    "    \n",
    "    def remove_content(self) :\n",
    "        self.content = ''\n",
    "        \n",
    "test = Note('hello')\n",
    "test.write_content('My name is Jaewon Kim')\n",
    "print(test.content)\n",
    "test.remove_content()\n",
    "print(test.content)\n",
    "test.write_content(\"Process reloaded\")\n",
    "    \n",
    "    \n",
    "    \n",
    "    "
   ]
  },
  {
   "cell_type": "code",
   "execution_count": null,
   "metadata": {},
   "outputs": [],
   "source": []
  }
 ],
 "metadata": {
  "kernelspec": {
   "display_name": "Python 3",
   "language": "python",
   "name": "python3"
  },
  "language_info": {
   "codemirror_mode": {
    "name": "ipython",
    "version": 3
   },
   "file_extension": ".py",
   "mimetype": "text/x-python",
   "name": "python",
   "nbconvert_exporter": "python",
   "pygments_lexer": "ipython3",
   "version": "3.10.5"
  },
  "orig_nbformat": 4,
  "vscode": {
   "interpreter": {
    "hash": "aee8b7b246df8f9039afb4144a1f6fd8d2ca17a180786b69acc140d282b71a49"
   }
  }
 },
 "nbformat": 4,
 "nbformat_minor": 2
}
