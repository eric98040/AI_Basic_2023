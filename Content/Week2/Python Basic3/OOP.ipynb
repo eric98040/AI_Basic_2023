{
 "cells": [
  {
   "attachments": {},
   "cell_type": "markdown",
   "metadata": {},
   "source": [
    "< OOP >\n",
    "\n",
    "- Class :\n",
    "    - 객체를 정의하는 설계도\n",
    "    - 연관되어 있는 변수와 메서드의 집합\n",
    "\n",
    "- 객체  : \"실체\"에 초점\n",
    "\n",
    "    < 개념 >\n",
    "    - 소프트웨어 세계에 구현'할' 대상\n",
    "    - 클래스에 선언된 모양 그대로 생성된 실체\n",
    "\n",
    "    < 특징 >\n",
    "    - '클래스의 인스턴스(instance)' 라고도 부름\n",
    "    - 모든 인스턴스를 대표하는 포괄적인 의미를 가짐\n",
    "    - OOP의 관점에서 클래스의 타입으로 선언되었을 때 '객체'라고 부름\n",
    "    - 행위(action)와 상태(attribute)를 가짐\n",
    "    \n",
    "- 인스턴스(Instance) : \"관계\"에 초점\n",
    "\n",
    "    < 개념 >\n",
    "    - 설계도를 바탕으로 소프트웨어 세계에 '구현된 구체적인 실체' (= 메모리에 할당)\n",
    "    - 객체를 소프트웨어에 실체화하면 그것을 '인스턴스'라고 부름\n",
    "    - 실체화된 인스턴스는 메모리에 할당된다\n",
    "\n",
    "    < 특징 >\n",
    "    - 인스턴스는 객체에 포함된다고 볼 수 있다\n",
    "    - OOP의 관점에서 객체가 메모리에 할당되어 있으면(=소프트웨어 세상에 구현이 되면) '인스턴스'라고 부름\n",
    "    - 추상적인 개념(또는 명세)과 구체적인 객체 사이의 관계에 초점을 맞출 경우에 사용\n",
    "        - '~의 인스턴스'의 형태로 사용된다\n",
    "        - 객체는 클래스의 인스턴스다\n",
    "        - 객체 간의 링크는 클래스 간의 연관관계의 인스턴스다\n",
    "        - 실행 프로세스는 프로그램의 인스턴스다\n",
    "    - 인스턴스라는 용어는 반드시 클래스와 객체 사이의 관계로 한정지어서 사용할 필요X\n",
    "    - 인스턴스는 어떤 원본으로부터 '생성된 복제본'을 의미\n",
    "\n",
    "- 클래스, 객체, 인스턴스의 차이\n",
    "\n",
    "    - Class vs Object \n",
    "        - 클래스는 객체를 정의하는 설계도\n",
    "        - 객체는 설계도로 구현한 모든 대상\n",
    "\n",
    "    - 객체(Object) VS 인스턴스(Instance)\n",
    "\n",
    "    - 클래스의 타입으로 선언되었을 때 객체라고 부르고, 그 객체가 메모리에 할당되어 실제 사용될 때 인스턴스라고 부른다.\n",
    "    - 객체는 현실 세계에 가깝고, 인스턴스는 소프트웨어 세계에 가깝다.\n",
    "    - 객체는 ‘실체’, 인스턴스는 ‘관계’에 초점을 맞춘다.\n",
    "    - 객체를 ‘클래스의 인스턴스’라고도 부른다.\n",
    "    - ‘방금 인스턴스화하여 레퍼런스를 할당한’ 객체를 인스턴스라고 말하지만, 이는 원본(추상적인 개념)으로부터 생성되었다는 것에 의미를 부여하는 것일 뿐 엄격하게 객체와 인스턴스를 나누긴 어렵다.\n",
    "\n",
    "    \n",
    "\n",
    "\n"
   ]
  },
  {
   "attachments": {},
   "cell_type": "markdown",
   "metadata": {},
   "source": [
    "< OOP 프로그래밍 개요 >\n",
    "\n",
    "- 객체 : 실생활에서 일종의 물건\n",
    "    - 객체는 상태(속성, 멤버 변수)와 행위(메소드, 멤버 함수)를 가진다. (attribute, method) : (member variable, member function 이라고도 불린다.)\n",
    "\n",
    "- Class : 객체를 정의하는 설계도\n",
    "- Instance : 설계도를 통해서 소프트웨어 세계에 구현된 실제 구현체 (=메모리에 할당)\n",
    "\n",
    "< Class 선언하기 >\n",
    "- class 선언, object는 python3에서 자동 상속\n",
    "\n",
    "class SoccerPlayer(object) :\n",
    "class 예약어 , class 이름 , 상속받는 개체명\n",
    "\n",
    "< Python naming rule >\n",
    "\n",
    "- snake_case : 띄어쓰기 부분에 '_'를 추가 \n",
    "    - 뱀처럼 늘여쓰기, 파이썬 함수/변수명에 사용\n",
    "\n",
    "- CamelCase : 띄어쓰기 부분에 대문자\n",
    "    - 낙타의 등 모양, 파이썬 Class명에 사용\n",
    "\n",
    "\n",
    "< Attribute 추가하기 >\n",
    "\n",
    "- Attribute 추가는 __init__, self와 함께!\n",
    "- __init__은 객체 초기화 예약 함수\n",
    "\n",
    "< method 구현하기 >\n",
    "- method(행위) 추가는 기존 함수와 같으나, 반드시 self를 추가해야만 class 함수로 인정됨\n",
    "- def function_name (self, parameters..)\n",
    "\n",
    "< objects 사용하기 >\n",
    "- object 이름 선언과 함게 초기값 입력 받기\n",
    "- 객체명 = class명(__init__함수 interface, 초기값)\n",
    "\n",
    "- < self > : self = 생성된 인스턴스 자신\n",
    "\n",
    "< __의 의미 >\n",
    "\n",
    "- _는 특수한 예약함수와 변수, 그리고 함수명 변경(맨글링)으로 사용\n",
    "_ __main__\n",
    "- __add__ (실제 + 연산을 했을 때 return문 안의 결과를 반환해주는 함수)\n",
    "- __str__ (print문을 객체에 적용해주면 실행되는 함수)\n",
    "- __eq__\n",
    "\n"
   ]
  },
  {
   "cell_type": "code",
   "execution_count": 7,
   "metadata": {},
   "outputs": [
    {
     "name": "stdout",
     "output_type": "stream",
     "text": [
      "Hello, My name is Jaewon. My back number is 10\n",
      "JaewonPatric\n",
      "선수의 등번호를 변경합니다 : From 7 to 99\n"
     ]
    }
   ],
   "source": [
    "class SoccerPlayer :\n",
    "    \n",
    "    def __init__(self, name : str , position : str , back_number : int) : \n",
    "        self.name = name\n",
    "        self.position = position\n",
    "        self.back_number = back_number\n",
    "        \n",
    "    def __str__(self) -> str:\n",
    "        return f\"Hello, My name is {self.name}. My back number is {self.back_number}\"\n",
    "    \n",
    "    def __add__(self,other) :\n",
    "        return self.name + other.name\n",
    "    \n",
    "    def change_back_number(self,new_number) :\n",
    "        print(\"선수의 등번호를 변경합니다 : From {} to {}\".format(self.back_number,new_number))\n",
    "        self.back_number = new_number\n",
    "    \n",
    "\n",
    "patric = SoccerPlayer('Patric','FW',7)\n",
    "eric = SoccerPlayer('Jaewon','CB',10)\n",
    "print(eric)\n",
    "print(eric+patric)\n",
    "patric.change_back_number(99)\n",
    "\n",
    "        \n",
    "        \n",
    "    "
   ]
  },
  {
   "attachments": {},
   "cell_type": "markdown",
   "metadata": {},
   "source": [
    "< 구현 가능한 OOP 만들기 > - 노트북\n",
    " \n",
    "- Note를 정리하는 프로그램\n",
    "- 사용자는 Note에 뭔가를 적을 수 있다.\n",
    "- Note에는 Content가 있고, 내용을 제거할 수 있다.\n",
    "- 두 개의 노트북을 합쳐 하나로 만들 수 있다.\n",
    "- Note는 Notebook에 삽입된다.\n",
    "- Notebook은 Note가 삽입될 때 페이지를 생성하며, 최고 300페이지까지 저장 가능하다.\n",
    "- 300 페이지가 넘으면 더 이상 노트를 삽입하지 못한다.\n",
    "\n",
    "** 어차피 고정값이면(상수) def __init__(안에) attribute를 parameter에 넣을 필요가 없음"
   ]
  },
  {
   "cell_type": "code",
   "execution_count": 42,
   "metadata": {},
   "outputs": [
    {
     "name": "stdout",
     "output_type": "stream",
     "text": [
      "My name is Jaewon Kim\n",
      "Process reloaded\n",
      "저의 이름은 김재원입니다.\n",
      "프로세스 재실행\n",
      "Process reloaded 프로세스 재실행\n"
     ]
    }
   ],
   "source": [
    "class Note :\n",
    "    \n",
    "    def __init__(self,content= None) :\n",
    "        self.content = content\n",
    "    \n",
    "    def write_content(self,new_content : str) :\n",
    "        \n",
    "        self.content= new_content\n",
    "        \n",
    "    \n",
    "    def remove_all(self) :\n",
    "        self.content = ''\n",
    "        \n",
    "    def __add__(self, other ) :\n",
    "        return self.content +' '+ other.content\n",
    "    \n",
    "    def __str__(self) : \n",
    "        return self.content\n",
    "        \n",
    "test = Note('hello')\n",
    "test.write_content('My name is Jaewon Kim')\n",
    "print(test.content)\n",
    "test.remove_all()\n",
    "test.write_content(\"Process reloaded\")  \n",
    "print(test.content)\n",
    "\n",
    "new_test = Note('안녕하세요!')\n",
    "new_test.write_content(\"저의 이름은 김재원입니다.\")\n",
    "print(new_test.content)\n",
    "new_test.remove_all()\n",
    "new_test.write_content(\"프로세스 재실행\")\n",
    "print(new_test.content)\n",
    "print(test + new_test)\n",
    "\n"
   ]
  },
  {
   "cell_type": "code",
   "execution_count": 55,
   "metadata": {},
   "outputs": [
    {
     "name": "stdout",
     "output_type": "stream",
     "text": [
      "1\n",
      "{}\n",
      "{1: <__main__.Note object at 0x11140bcd0>, 99: <__main__.Note object at 0x11196f460>}\n",
      "Process reloaded\n",
      "None\n",
      "프로세스 재실행\n",
      "3\n"
     ]
    }
   ],
   "source": [
    "class NoteBook : \n",
    "    \n",
    "    def __init__(self,title) :\n",
    "        self.title = title\n",
    "        self.page_number = 1    # total page number\n",
    "        self.notes ={}  # storage를 dictionary 타입으로 정함\n",
    "        \n",
    "    def add_notes(self,note, page = 0) :\n",
    "        # note 1개는 무조건 1개의 페이지만 차지함\n",
    "        \n",
    "        if self.page_number<300 :   # 중복여부와 관계없이 그냥 누적 추가횟수가 300페이지를 넘으면 out\n",
    "            # 노트를 추가할 수 있음\n",
    "            if not page :   # page ==0 일 때 : page 입력을 안해주면\n",
    "                self.notes[self.page_number] = note\n",
    "                self.page_number+=1\n",
    "            \n",
    "            else :\n",
    "                # page != 0 일 때 : page 입력을 해주면\n",
    "                self.notes[page] = note\n",
    "                self.page_number+=1             \n",
    "                \n",
    "      \n",
    "        else : \n",
    "            print(\"Page is over 300. You can't add more notes \")\n",
    "            \n",
    "    def remove_note(self, page_number) : \n",
    "        if page_number in self.notes.keys() : \n",
    "            return self.notes.pop(page_number)\n",
    "        else :\n",
    "            print(\"Selected page does not exist.\")\n",
    "            \n",
    "    def get_number_of_pages(self):\n",
    "        return len(self.notes.keys())\n",
    "            \n",
    "            \n",
    "notebook_test = NoteBook('너의 이름은')\n",
    "print(notebook_test.page_number)\n",
    "print(notebook_test.notes)\n",
    "\n",
    "notebook_test.add_notes(test)\n",
    "notebook_test.add_notes(new_test,99)\n",
    "print(notebook_test.notes)\n",
    "print(notebook_test.notes.get(1))\n",
    "print(notebook_test.notes.get(2))\n",
    "print(notebook_test.notes.get(99))\n",
    "print(notebook_test.page_number)\n",
    "\n",
    "    "
   ]
  },
  {
   "attachments": {},
   "cell_type": "markdown",
   "metadata": {},
   "source": [
    "< OOP 특징 >\n",
    "\n",
    "- Inheritance, Polymorphism, Visibility\n",
    "\n",
    "< Inheritance >\n",
    "- 부모 클래스로부터 속성과 Method(행위, 상태(속성))를 물려받은 자식 클래스를 생성하는 것\n",
    "\n",
    "< Polymorphism > : 다형성\n",
    "- 같은 이름 메소드의 내부 로직을 다르게 작성\n",
    "- Dynamic Typing 특성으로 인해 파이썬에서는 같은 부모클래스의 상속에서 주로 발생\n",
    "- 중요한 OOP의 개념, but 너무 깊이 알 필요는 없음\n",
    "\n",
    "< Visibility > : 가시성\n",
    "- 객체를 정보를 볼 수 있는 레벨을 조절하는 것\n",
    "- 누구나 객체 안의 모든 변수를 볼 필요가 없음\n",
    "    1) 객체를 사용하는 사용자가 임의로 정보 수정\n",
    "    2) 필요 없는 정보에는 접근할 필요가 없음\n",
    "    3) 만약 제품으로 판매한다면? 소스의 보호\n",
    "\n",
    "    [Encapsulation]\n",
    "    - 캡슐화 또는 정보 은닉\n",
    "    - class를 설계할 때, 클래스 간 간섭/정보공유의 최소화\n",
    "    - 심판 클래스가 축구선수 클래스 가족 정보를 알아야 하나?\n",
    "    - 캡슐을 던지듯, 인터페이스만 알아서 써야함\n",
    "\n",
    "    "
   ]
  },
  {
   "cell_type": "code",
   "execution_count": 58,
   "metadata": {},
   "outputs": [
    {
     "name": "stdout",
     "output_type": "stream",
     "text": [
      "My name is Jaewon. My age is 23.\n"
     ]
    }
   ],
   "source": [
    "class Person : \n",
    "    \n",
    "    def __init__(self, name, age) :\n",
    "        self.name = name\n",
    "        self.age = age\n",
    "\n",
    "    def __str__(self) :\n",
    "        return \"My name is {}. My age is {}.\".format(self.name,self.age)\n",
    "    \n",
    "    \n",
    "class Korean(Person) : \n",
    "    \n",
    "    pass\n",
    "\n",
    "\n",
    "first_korean= Korean(\"Jaewon\",23)\n",
    "print(first_korean)"
   ]
  },
  {
   "attachments": {},
   "cell_type": "markdown",
   "metadata": {},
   "source": [
    "\n",
    "-  Parent_class.__init__(self, a, b,...) : 부모 클래스의 __init__ method를 가져옴\n",
    "\n",
    "-  super().__init__(self, a, b,...) : \n",
    "\n",
    "    - 부모 클래스의 모든 method, attribute(행위, 속성)를 가져옴\n",
    "\n",
    "    -  부모 클래스로부터 상속할 때 : __init__의 괄호() 안에 부모 클래스에 있던 변수가 다 들어가있어야 함!!\n",
    "\n",
    "- Override 할 경우 : 동일한 이름의 부모 함수 무효화\n",
    "    \n",
    "    - 다만, 부모 클래스에서 구현되었던 함수를 다시 호출하고 싶을 때\n",
    "        - super().method_name"
   ]
  },
  {
   "attachments": {},
   "cell_type": "markdown",
   "metadata": {},
   "source": [
    "1) Child 클래스는 Parent 클래스를 상속 받는다. 이는 Child 클래스내에 Parent 클래스의 메소드를 모두 가져오기 하는 것이라고 생각하면 쉽습니다.\n",
    "\n",
    "2) 그러나 Parent 클래스와 Child 클래스는 모두 __init__()이라는 메소드를 가지고 있다. 따라서 super()를 사용하지 않으면, 부모 클래스의 __init__()는 자식 클래스의 __init__()에 의해 overriding(덮어쓰기) 됩니다.\n",
    "\n",
    "3) Child 클래스의 __init__() 메소드에 Parent 클래스의 __init__() 메소드의 변수를 가지고 오고 싶다!!\n",
    "\n",
    "4) Child 클래스의 __init__() 메소드내에서 super().__init__()을 입력하면 Parent 클래스의 __init__()에 있는 클래스 변수들을 가지고 올 수 있습니다.\n",
    "\n",
    "5) 이를 볼때 super()는 상속받은 부모 클래스를 의미한다고 볼 수 있습니다.\n",
    "\n",
    "6) 그러나 Parent 클래스의 _init__() 메소드에 argument가 있다면 Child 클래스는 _init__()에 **kwargs를 반드시 입력해 주어야 합니다. 또한 super().__init__()에도 반드시 **kwargs를 인자로 전달해 주어야 합니다.\n",
    "\n",
    "7) 6)을 하지 않으면 __init__() missing required positional arguments 에러가 발생합니다."
   ]
  },
  {
   "attachments": {},
   "cell_type": "markdown",
   "metadata": {},
   "source": [
    "< Python 3.x 문법 >\n",
    "    - super().__init__()\n",
    "    - super().__init__(**kwargs)\n",
    "\n",
    "< Python 2.x 문법 >\n",
    "    - super(ClassName, self).__init__()\n",
    "    - super(ClassName, self).__init__(**kwargs)"
   ]
  },
  {
   "cell_type": "code",
   "execution_count": 75,
   "metadata": {},
   "outputs": [
    {
     "name": "stdout",
     "output_type": "stream",
     "text": [
      "My name is Jaewon, I'm 23years old.\n",
      "My salary is 30000$, my hired date is 3/2.\n",
      "My name is Eric, I'm 25years old.\n",
      "5000\n",
      "12/21\n"
     ]
    }
   ],
   "source": [
    "class Person :\n",
    "    def __init__(self, name, age, gender) :\n",
    "        self.name = name\n",
    "        self.age = age\n",
    "        self.gender = gender\n",
    "        \n",
    "    def about_me(self) : \n",
    "        print(f\"My name is {self.name}, I'm {self.age}years old.\")\n",
    "        \n",
    "    def __str__(self) -> str:\n",
    "        return f\"My name is {self.name}, I'm {self.age}years old.\"\n",
    "    \n",
    "\n",
    "class Employee(Person) :\n",
    "    def __init__(self, name, age, gender, salary, hire_date):\n",
    "        super().__init__(name, age, gender) # 부모 객체 사용\n",
    "        self.salary = salary     # 속성값 추가\n",
    "        self.hire_date = hire_date\n",
    "        \n",
    "    def do_work(self) :\n",
    "        print(\"I work very hard.\")\n",
    "        \n",
    "    def about_me(self):\n",
    "        super().about_me()\n",
    "        print(f\"My salary is {self.salary}$, my hired date is {self.hire_date}.\")\n",
    "        \n",
    "class Employer(Person) :\n",
    "    def __init__(self, salary, hire_date, **kwargs):\n",
    "        super().__init__(**kwargs) # 부모 객체 사\n",
    "        self.salary = salary     # 속성값 추가\n",
    "        self.hire_date = hire_date\n",
    "        \n",
    "\n",
    "jaewon = Employee('Jaewon', 23, 'male', 30000, '3/2')\n",
    "jaewon.about_me()\n",
    "\n",
    "eric = Employer(5000, \"12/21\", name = 'Eric', gender = 'male', age = 25)\n",
    "eric.about_me()\n",
    "print(eric.salary)\n",
    "print(eric.hire_date)\n",
    "\n"
   ]
  },
  {
   "attachments": {},
   "cell_type": "markdown",
   "metadata": {},
   "source": [
    "< Polymorphism > : 다형성\n",
    "\n",
    "- 같은 이름 메소드의 '내부 로직을 다르게 작성'\n",
    "- Dynamic Typing 특성으로 인해 파이썬에서는 같은 부모클래스의 상속에서 주로 발생\n",
    "- 중요한 OOP의 개념, but 너무 깊이 알 필요는 없음\n"
   ]
  },
  {
   "cell_type": "code",
   "execution_count": 77,
   "metadata": {},
   "outputs": [
    {
     "name": "stdout",
     "output_type": "stream",
     "text": [
      "Missy: Meow!\n",
      "Mr. Mistoffelees: Meow!\n",
      "Lassie: Woof!\n"
     ]
    }
   ],
   "source": [
    "# Polymorphism cod\n",
    "class Animal :\n",
    "    def __init__(self,name) :\n",
    "        self.name = name\n",
    "        \n",
    "    def talk(self) : \n",
    "        raise NotImplementedError(\"Subclass must implement abstract method\")\n",
    "    \n",
    "class Cat(Animal) :\n",
    "    def talk(self) :\n",
    "        return \"Meow!\"\n",
    "    \n",
    "class Dog(Animal) :\n",
    "    def talk(self) :\n",
    "        return \"Woof!\"\n",
    "    \n",
    "animals = [Cat('Missy'), Cat('Mr. Mistoffelees'), Dog('Lassie')]\n",
    "\n",
    "for animal in animals :\n",
    "    print(animal.name + ': ' + animal.talk())"
   ]
  },
  {
   "attachments": {},
   "cell_type": "markdown",
   "metadata": {},
   "source": [
    "< Visibility > : 가시성\n",
    "- 객체를 정보를 볼 수 있는 레벨을 조절하는 것\n",
    "- 누구나 객체 안의 모든 변수를 볼 필요가 없음\n",
    "    1) 객체를 사용하는 사용자가 임의로 정보 수정\n",
    "    2) 필요 없는 정보에는 접근할 필요가 없음\n",
    "    3) 만약 제품으로 판매한다면? 소스의 보호\n",
    "\n",
    "    [Encapsulation]\n",
    "    - 캡슐화 또는 정보 은닉\n",
    "    - class를 설계할 때, 클래스 간 간섭/정보공유의 최소화\n",
    "    - 심판 클래스가 축구선수 클래스 가족 정보를 알아야 하나?\n",
    "    - 캡슐을 던지듯, 인터페이스만 알아서 써야함"
   ]
  },
  {
   "attachments": {},
   "cell_type": "markdown",
   "metadata": {},
   "source": [
    "- Product 객체를 Inventory 객체에 추가 \n",
    "- Inventory에는 오직 Product 객체만 들어감\n",
    "- Inventory에 Product가 몇 개인지 확인이 필요\n",
    "- Inventory에 Product items는 직접 접근이 불가"
   ]
  },
  {
   "cell_type": "code",
   "execution_count": 97,
   "metadata": {},
   "outputs": [
    {
     "name": "stdout",
     "output_type": "stream",
     "text": [
      "New item added\n",
      "New item added\n"
     ]
    },
    {
     "ename": "AttributeError",
     "evalue": "'Inventory' object has no attribute 'items'",
     "output_type": "error",
     "traceback": [
      "\u001b[0;31m---------------------------------------------------------------------------\u001b[0m",
      "\u001b[0;31mAttributeError\u001b[0m                            Traceback (most recent call last)",
      "Cell \u001b[0;32mIn [97], line 23\u001b[0m\n\u001b[1;32m     21\u001b[0m my_inventory\u001b[39m.\u001b[39madd_new_item(Product())\n\u001b[1;32m     22\u001b[0m my_inventory\u001b[39m.\u001b[39madd_new_item(Product())\n\u001b[0;32m---> 23\u001b[0m \u001b[39mprint\u001b[39m(my_inventory\u001b[39m.\u001b[39;49mitems)\n",
      "\u001b[0;31mAttributeError\u001b[0m: 'Inventory' object has no attribute 'items'"
     ]
    }
   ],
   "source": [
    "class Product :\n",
    "    pass\n",
    "\n",
    "class Inventory :\n",
    "    def __init__(self) -> None:\n",
    "        self.__items = []\n",
    "        self.test = 'abc'\n",
    "        \n",
    "    def add_new_item(self,product) :\n",
    "        if type(product) is Product :\n",
    "            self.__items.append(product)\n",
    "            print(\"New item added\")\n",
    "        else :\n",
    "            raise ValueError(\"Invalid Item\")\n",
    "        \n",
    "    def get_number_of_items(self):\n",
    "        return len(self.__items)\n",
    "    \n",
    "\n",
    "my_inventory = Inventory()\n",
    "my_inventory.add_new_item(Product())\n",
    "my_inventory.add_new_item(Product())\n",
    "print(my_inventory.items)\n",
    "# my_inventory.items.append(\"abc\")\n",
    "# my_inventory.items.append(\"abc\")\n",
    "# my_inventory.items.append(\"abc\")\n",
    "# my_inventory.items.append(\"abc\")\n",
    "# print(my_inventory.items)"
   ]
  },
  {
   "attachments": {},
   "cell_type": "markdown",
   "metadata": {},
   "source": [
    "- Product 객체를 Inventory 객체에 추가 \n",
    "- Inventory에는 오직 Product 객체만 들어감\n",
    "- Inventory에 Product가 몇 개인지 확인이 필요\n",
    "- Inventory에 Product items는 접근이 허용"
   ]
  },
  {
   "cell_type": "code",
   "execution_count": 98,
   "metadata": {},
   "outputs": [
    {
     "name": "stdout",
     "output_type": "stream",
     "text": [
      "New item added\n",
      "New item added\n",
      "2\n",
      "3\n",
      "[<__main__.Product object at 0x112909cf0>, <__main__.Product object at 0x11142a9b0>, <__main__.Product object at 0x11142b490>]\n"
     ]
    }
   ],
   "source": [
    "class Product :\n",
    "    pass\n",
    "\n",
    "class Inventory :\n",
    "    def __init__(self) -> None:\n",
    "        self.__items = []\n",
    "\n",
    "    @property   # property 데코레이터 : 숨겨진 변수를 반환하게 해줌\n",
    "    def items(self) :\n",
    "        return self.__items\n",
    "        \n",
    "    def add_new_item(self,product) :\n",
    "        if type(product) is Product :\n",
    "            self.__items.append(product)\n",
    "            print(\"New item added\")\n",
    "        else :\n",
    "            raise ValueError(\"Invalid Item\")\n",
    "        \n",
    "    def get_number_of_items(self):\n",
    "        return len(self.__items)\n",
    "    \n",
    "\n",
    "my_inventory = Inventory()\n",
    "my_inventory.add_new_item(Product())\n",
    "my_inventory.add_new_item(Product())\n",
    "print(my_inventory.get_number_of_items())\n",
    "\n",
    "\n",
    "items = my_inventory.items  # property 데코레이터로 함수를 변수처럼 호출\n",
    "items.append(Product())\n",
    "print(my_inventory.get_number_of_items())\n",
    "print(my_inventory.items)\n",
    "# my_inventory.items.append(\"abc\")\n",
    "# my_inventory.items.append(\"abc\")\n",
    "# my_inventory.items.append(\"abc\")\n",
    "# my_inventory.items.append(\"abc\")\n",
    "# print(my_inventory.items)"
   ]
  },
  {
   "attachments": {},
   "cell_type": "markdown",
   "metadata": {},
   "source": [
    "< Decorator >\n",
    "\n",
    "- first-class objects :\n",
    "    - 일급 함수 또는 일급 객체\n",
    "    - 변수나 데이터 구조에 할당이 가능한 객체\n",
    "    - parameter로 전달이 가능 + return 값으로 사용\n",
    "\n",
    "    - Python함수는 일급함수\n",
    "    - python의 함수가 매개변수로 전달이 되거나, 반환값으로 사용\n",
    "    \n",
    "\n",
    "\n",
    "- inner function \n",
    "    - 함수 내에 또 다른 함수가 존재\n",
    "    - closures : inner function을 return 값으로 반환\n",
    "\n",
    "\n",
    "- decorator \n",
    "    - 복잡한 클로져 함수를 간단하게!\n",
    "    - *args, **kwargs의 parameter에 @선언된 함수의 parameter가 inner함수에 그대로 들어감 (한 단계 아래 내부적으로 선언된 함수의 매개변수로 들어감) \n",
    "\n",
    "    - @function_name(argument)로 작성할 시 : 가장 밖(외부) 함수의 인수에 argument가 들어감\n",
    "    - wrapper 함수의 parameter : @선언된 함수 자체가 들어감\n",
    "    - inner 함수의 paramter : @선언된 함수의 매개변수가 들어감\n"
   ]
  },
  {
   "cell_type": "code",
   "execution_count": 106,
   "metadata": {},
   "outputs": [
    {
     "name": "stdout",
     "output_type": "stream",
     "text": [
      "Hello, Python\n",
      "<title>This is python class<title>\n",
      "<p>Data Academy<p>\n"
     ]
    }
   ],
   "source": [
    "# closure examples\n",
    "\n",
    "def print_msg(msg) :\n",
    "    def printer():\n",
    "        print(msg)\n",
    "    return printer\n",
    "\n",
    "another = print_msg(\"Hello, Python\")\n",
    "another()\n",
    "\n",
    "def tag_func(tag, text) :\n",
    "    text = text\n",
    "    tag = tag\n",
    "    \n",
    "    def inner_func():\n",
    "        return '<{0}>{1}<{0}>'.format(tag, text)\n",
    "    \n",
    "    return inner_func\n",
    "\n",
    "h1_func = tag_func('title','This is python class')\n",
    "p_func = tag_func('p','Data Academy')\n",
    "\n",
    "print(h1_func())\n",
    "print(p_func())"
   ]
  },
  {
   "cell_type": "code",
   "execution_count": 115,
   "metadata": {},
   "outputs": [
    {
     "name": "stdout",
     "output_type": "stream",
     "text": [
      "%%%%%%%%%%%%%%%%%%%%%%%%%%%%%%\n",
      "!!!!!!!!!!!!!!!!!!!!!!!!!!!!!!\n",
      "Jaewon\n",
      "!!!!!!!!!!!!!!!!!!!!!!!!!!!!!!\n",
      "%%%%%%%%%%%%%%%%%%%%%%%%%%%%%%\n"
     ]
    }
   ],
   "source": [
    "# decorator function\n",
    "\n",
    "# *args, **kwargs의 parameter에 @ 선언된 함수의 parameter가 inner함수에 그대로 들어감\n",
    "\n",
    "def star(func) : \n",
    "    def inner(*args, **kwargs):\n",
    "        print(args[1]*30)\n",
    "        func(*args,**kwargs)\n",
    "        print(args[1]*30)\n",
    "    return inner\n",
    "\n",
    "def percent(func):\n",
    "    def inner(*args, **kwargs):\n",
    "        print('%'*30)\n",
    "        func(*args, **kwargs)\n",
    "        print('%'*30)\n",
    "    return inner\n",
    "\n",
    "@percent\n",
    "@star\n",
    "def printer(msg, mark):\n",
    "    print(msg)\n",
    "            \n",
    "printer(\"Jaewon\", '!')\n",
    "\n"
   ]
  },
  {
   "cell_type": "code",
   "execution_count": 117,
   "metadata": {},
   "outputs": [
    {
     "name": "stdout",
     "output_type": "stream",
     "text": [
      "562949953421312\n",
      "562949953421312\n"
     ]
    }
   ],
   "source": [
    "def generate_power(exponent) :\n",
    "    def wrapper(f):\n",
    "        def inner(*args):\n",
    "            result = f(*args)\n",
    "            return exponent**result\n",
    "        return inner\n",
    "    return wrapper\n",
    "\n",
    "@generate_power(2)\n",
    "# 2가 exponent에 들어가고, raise_two가 f에 들어가고, n이 *args에 들어감\n",
    "def raise_two(n):\n",
    "    return n**2\n",
    "\n",
    "print(raise_two(7))\n",
    "print(2**49)"
   ]
  },
  {
   "cell_type": "code",
   "execution_count": null,
   "metadata": {},
   "outputs": [],
   "source": []
  }
 ],
 "metadata": {
  "kernelspec": {
   "display_name": "Python 3",
   "language": "python",
   "name": "python3"
  },
  "language_info": {
   "codemirror_mode": {
    "name": "ipython",
    "version": 3
   },
   "file_extension": ".py",
   "mimetype": "text/x-python",
   "name": "python",
   "nbconvert_exporter": "python",
   "pygments_lexer": "ipython3",
   "version": "3.10.5"
  },
  "orig_nbformat": 4,
  "vscode": {
   "interpreter": {
    "hash": "aee8b7b246df8f9039afb4144a1f6fd8d2ca17a180786b69acc140d282b71a49"
   }
  }
 },
 "nbformat": 4,
 "nbformat_minor": 2
}
