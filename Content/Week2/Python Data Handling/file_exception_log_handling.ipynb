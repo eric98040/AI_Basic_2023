{
 "cells": [
  {
   "attachments": {},
   "cell_type": "markdown",
   "metadata": {},
   "source": [
    "< File >\n",
    "\n",
    "\n",
    "< Exception >\n",
    "\n",
    "1) 예상 가능한 예외 (if문으로 처리)\n",
    "    - 발생 여부를 사전에 인지할 수 있는 예외\n",
    "    - 사용자의 잘못된 입력, 파일 호출 시 파일 없음\n",
    "    - 개발자가 반드시 명시적으로 정의 해야함\n",
    "\n",
    "2) 예상이 불가능한 예외 (exception handling으로 처리)\n",
    "    - 인터프리터 과정에서 발생하는 예외, 개발자 실수\n",
    "    - 리스트 범위를 넘어가는 값 호출, 정수0으로 나눔\n",
    "    - 수행 불가시 인터프리터가 자동으로 호출\n",
    "\n",
    "\n",
    "< Exception Handling >\n",
    "\n",
    "- 예외가 발생할 경우 후속 조치 등 대처 필요\n",
    "    1) 없는 파일 호출 -> 파일 없음을 알림\n",
    "    2) 게임 이상 종료 -> 게임 정보 저장\n",
    "\n",
    "- 프로그램 = 제품, 모든 잘못된 상황에 대한 대처가 필요\n",
    "\n",
    "- if ~else 구문 : 정상적인 로직에 의해 처리되어야 함\n",
    "- try ~except 구문 : 사용자가 잘못 입력해서 에러가 발생함\n",
    "\n",
    "- try ~ except 문법 (try->except->else->finally)\n",
    "    - else, finally는 추천하지 않음\n",
    "    - try :\n",
    "        예외 발생 가능 코드\n",
    "      except <Exception Type> :\n",
    "        예외 발생시 대응하는 코드\n",
    "      else :\n",
    "        예외가 발생하지 않을 시 대응하는 코드\n",
    "      finally :\n",
    "        try 절에서 예외의 발생여부와 관계없이 항상 실행되는 절\n",
    "\n",
    "\n",
    "- raise 구문\n",
    "  - 필요에 따라 강제로 Exception을 발생\n",
    "  -> raise <Exception Type> (예외정보)\n",
    "\n",
    "- assert 구문\n",
    "  - 특정 조건에 만족하지 않을 경우 예외 발생\n",
    "  -> assert 예외 조건\n",
    "  True / False 중 하나를 발생시켜서 False일 경우 AssertionError를 발생시킴\n",
    "\n",
    "\n",
    "\n",
    "  \n",
    "\n",
    "\n",
    "< Built-in Exception > \n",
    "- 기본적으로 제공하는 예외\n",
    "  - IndexError : list의 index범위를 넘어갈 때\n",
    "  - NameError : 존재하지 않은 변수를 호출할 때\n",
    "  - ZeroDivisionError : 0으로 숫자를 나눌 때\n",
    "  - ValueError : 반환할 수 없는 문자/숫자를 변환할 때\n",
    "  - FileNotFoundError : 존재하지 않는 파일을 호출할 때\n"
   ]
  },
  {
   "cell_type": "code",
   "execution_count": 1,
   "metadata": {},
   "outputs": [
    {
     "name": "stdout",
     "output_type": "stream",
     "text": [
      "Not divided by 0\n",
      "10.0\n",
      "2\n",
      "name 'v' is not defined\n",
      "5.0\n",
      "3\n",
      "name 'v' is not defined\n",
      "3.3\n",
      "4\n",
      "name 'v' is not defined\n",
      "2.5\n",
      "5\n",
      "name 'v' is not defined\n",
      "2.0\n",
      "list index out of range\n",
      "1.7\n",
      "list index out of range\n",
      "1.4\n",
      "list index out of range\n",
      "1.2\n",
      "list index out of range\n",
      "1.1\n",
      "list index out of range\n"
     ]
    }
   ],
   "source": [
    "a = [1,2,3,4,5]\n",
    "\n",
    "for i in range(10) :\n",
    "    try :\n",
    "        print(round(10/i,1))\n",
    "        print(a[i])\n",
    "        print(v)\n",
    "    except ZeroDivisionError :\n",
    "        print(\"Not divided by 0\")\n",
    "        \n",
    "    except IndexError as e :\n",
    "        print(e)\n",
    "        \n",
    "    except Exception as e : # 추천하지 않음 / 어디서 예외가 발생했는지 확인 불가\n",
    "        print(e)"
   ]
  },
  {
   "cell_type": "code",
   "execution_count": 2,
   "metadata": {},
   "outputs": [
    {
     "name": "stdout",
     "output_type": "stream",
     "text": [
      "정수값으로 변환된 숫자 - 12\n"
     ]
    },
    {
     "ename": "ValueError",
     "evalue": "숫자값을 입력하지 않으셨습니다",
     "output_type": "error",
     "traceback": [
      "\u001b[0;31m---------------------------------------------------------------------------\u001b[0m",
      "\u001b[0;31mValueError\u001b[0m                                Traceback (most recent call last)",
      "Cell \u001b[0;32mIn [2], line 6\u001b[0m\n\u001b[1;32m      4\u001b[0m \u001b[39mfor\u001b[39;00m digit \u001b[39min\u001b[39;00m value :\n\u001b[1;32m      5\u001b[0m     \u001b[39mif\u001b[39;00m digit \u001b[39mnot\u001b[39;00m \u001b[39min\u001b[39;00m \u001b[39m'\u001b[39m\u001b[39m0123456789\u001b[39m\u001b[39m'\u001b[39m:\n\u001b[0;32m----> 6\u001b[0m         \u001b[39mraise\u001b[39;00m \u001b[39mValueError\u001b[39;00m(\u001b[39m\"\u001b[39m\u001b[39m숫자값을 입력하지 않으셨습니다\u001b[39m\u001b[39m\"\u001b[39m)\n\u001b[1;32m      7\u001b[0m \u001b[39mprint\u001b[39m(\u001b[39m\"\u001b[39m\u001b[39m정수값으로 변환된 숫자 -\u001b[39m\u001b[39m\"\u001b[39m,\u001b[39mint\u001b[39m(value))\n",
      "\u001b[0;31mValueError\u001b[0m: 숫자값을 입력하지 않으셨습니다"
     ]
    }
   ],
   "source": [
    "# string 입력받아서 int형으로 반환하는 함수\n",
    "while True :\n",
    "    value = input(\"변환할 정수 값을 입력해주세요\")\n",
    "    for digit in value :\n",
    "        if digit not in '0123456789':\n",
    "            raise ValueError(\"숫자값을 입력하지 않으셨습니다\")\n",
    "    print(\"정수값으로 변환된 숫자 -\",int(value))"
   ]
  },
  {
   "cell_type": "code",
   "execution_count": null,
   "metadata": {},
   "outputs": [],
   "source": [
    "def get_binary_number(decimal_number) :\n",
    "    assert isinstance(decimal_number, int)\n",
    "    return bin(decimal_number)  \n",
    "\n",
    "print(get_binary_number(10))"
   ]
  },
  {
   "attachments": {},
   "cell_type": "markdown",
   "metadata": {},
   "source": [
    "\n",
    "< File handling >\n",
    "\n",
    "- File system \n",
    "  - OS에서 파일을 저장하는 \"트리구조\" 저장체계\n",
    "\n",
    "- File from wiki\n",
    "  - 컴퓨터 등의 기기에서 의미있는 정보를 담는 논리적인 단위\n",
    "  - 모든 프로그램은 파일로 구성되어 있고, 파일을 사용한다\n",
    "\n",
    "< 파일의 종류 >\n",
    "\n",
    "- 기본적인 파일 종류로 text 파일과 binary 파일로 나눔\n",
    "- 컴퓨터는 text 파일을 처리하기 위해 binary 파일로 변환시킴\n",
    "- 모든 text 파일도 실제는 binary 파일, ASCII/Unicode 문자열 집합으로 저장되어 있어 사람이 읽을 수 있음\n",
    "\n",
    "  1) Binary 파일\n",
    "    - 컴퓨터만 이해할 수 있는 형태인 이진(법)형식으로 저장된 파일\n",
    "    - 일반적으로 메모장으로 열면 내용이 깨져 보임 (메모장 해설 불가) -> 어플리케이션에 종속됨\n",
    "    - 엑셀파일, 워드 파일 등등\n",
    "\n",
    "  2) Text 파일\n",
    "    - 인간도 이해할 수 있는 형태인 문자열 형식으로 저장된 파일\n",
    "    - 메모장으로 열면 내용 확인 가능\n",
    "    - 메모장에 저장된 파일, HTML 파일, 파이썬 코드 파일 등\n",
    "\n",
    "\n",
    "< Python File I/O >\n",
    "\n",
    "- 파이썬은 파일 처리를 위해 \"open\" 키워드를 사용함\n",
    "\n",
    "  f = open(\"<파일 이름>\", \"접근 모드\")\n",
    "  f.close()\n",
    "\n",
    "  with open(\"<파일 이름>\", \"접근 모드\") as f : \n",
    "\n",
    "-> \"<파일 이름>\"에 해당하는 대상 파일이 같은 폴더에 있어야 함\n",
    "\n",
    "  1) f.read() : txt 파일 안의 내용을 문자열로 반환\n",
    "  2) f.readlines() : 한 줄씩 읽어 ListType으로 반환함 (시작할때 모든 것을 메모리에 올림)\n",
    "  3) f.readline() : 실행 시 마다 한 줄씩 읽어오기 (한 줄씩 읽어오면서 그때마다 메모리에 올림)\n",
    "\n",
    "\n",
    "- 파일 열기 모드\n",
    "  - r : read (읽기모드 : 파일을 읽기만 할 때 사용)\n",
    "  - w : write (쓰기모드 : 파일에 내용을 쓸 때 사용)\n",
    "  - a : append (추가모드 : 파일의 마지막에 새로운 내용을 추가시킬 때 사용)\n",
    "\n",
    "  "
   ]
  },
  {
   "cell_type": "code",
   "execution_count": null,
   "metadata": {},
   "outputs": [],
   "source": [
    "f = open(\"i_have_a_dream.txt\",\"r\")\n",
    "contents = f.read()\n",
    "print(contents)\n",
    "f.close()\n",
    "\n",
    "with open(\"i_have_a_dream.txt\",\"r\") as my_file:\n",
    "    contents = my_file.read()\n",
    "    print(type(contents),contents)\n",
    "    \n",
    "    \n",
    "with open(\"i_have_a_dream.txt\",\"r\") as my_file:\n",
    "    content_list = my_file.readlines()\n",
    "    print(type(content_list))\n",
    "    print(content_list)\n",
    "    \n",
    "    \n",
    "with open(\"i_have_a_dream.txt\",\"r\") as my_file:\n",
    "    i = 0\n",
    "    while True :\n",
    "        line = my_file.readline()\n",
    "        if not line :\n",
    "            break\n",
    "        print(str(i) + \"===\" + line.replace('\\n',''))\n",
    "        i+=1\n",
    "\n",
    "    \n",
    "    "
   ]
  },
  {
   "cell_type": "code",
   "execution_count": null,
   "metadata": {},
   "outputs": [],
   "source": [
    "f = open(\"count_log.txt\",\"w\", encoding='utf8') \n",
    "for i in range(1,11):\n",
    "    data = f\"{i}번째 줄입니다.\\n\"\n",
    "    f.write(data)\n",
    "f.close()\n",
    "\n",
    "f = open(\"count_log.txt\",\"a\", encoding='utf8') \n",
    "for i in range(1,11):\n",
    "    data = f\"{i}번째 줄입니다.\\n\"\n",
    "    f.write(data)\n",
    "f.close()"
   ]
  },
  {
   "attachments": {},
   "cell_type": "markdown",
   "metadata": {},
   "source": [
    "< OS Module >\n",
    "\n",
    "- os 모듈을 사용하여 Directory 다루기 (폴더 만들기)\n",
    "\n",
    "1) \n",
    "\n",
    "import os\n",
    "os.mkdir(\"log)\n",
    "\n",
    "2)\n",
    "\n",
    "try :\n",
    "    os.mkdir(\"abc)\n",
    "except FileExistsError as e :\n",
    "    print(\"Already created\") \n",
    "\n",
    "- 파일이 있는지 여부를 확인 & 없으면 만들기\n",
    "if os.path.exists(\"abc\")\n",
    "\n",
    "- 디렉토리가 있는지 확인하기\n",
    "if not os.path.isdir(\"log\") :\n",
    "    os.mkdir(\"log\")\n",
    "\n",
    "- 최근에는 pathlib 모듈을 사용하여 path를 객체로 다룸"
   ]
  },
  {
   "cell_type": "code",
   "execution_count": 9,
   "metadata": {},
   "outputs": [
    {
     "name": "stdout",
     "output_type": "stream",
     "text": [
      "/Users/eric/Documents/AI/AI Basic 2023/Content/Week2/Python Data Handling\n",
      "/Users/eric/Documents/AI/AI Basic 2023/Content/Week2\n",
      "[PosixPath('/Users/eric/Documents/AI/AI Basic 2023/Content/Week2'), PosixPath('/Users/eric/Documents/AI/AI Basic 2023/Content'), PosixPath('/Users/eric/Documents/AI/AI Basic 2023'), PosixPath('/Users/eric/Documents/AI'), PosixPath('/Users/eric/Documents'), PosixPath('/Users/eric'), PosixPath('/Users'), PosixPath('/')]\n"
     ]
    }
   ],
   "source": [
    "import pathlib\n",
    "\n",
    "# current working directory\n",
    "cwd = pathlib.Path.cwd()\n",
    "print(cwd)\n",
    "print(cwd.parent)\n",
    "print(list(cwd.parents))"
   ]
  },
  {
   "attachments": {},
   "cell_type": "markdown",
   "metadata": {},
   "source": [
    "< Log 파일 생성하기 >\n",
    "\n",
    "- 1) 디렉토리가 있는지 (os.path.isdir(\"디렉토리 이름\")), 없으면 os.mkdir(\"디렉토리 이름\")\n",
    "- 2) 파일이 있는지 확인 (os.path.exists(\"디렉토리 이름\")), 없으면 open(\"디렉토리 이름\",\"w\")\n"
   ]
  },
  {
   "cell_type": "code",
   "execution_count": 18,
   "metadata": {},
   "outputs": [],
   "source": [
    "import os\n",
    "if not os.path.isdir(\"log\") :\n",
    "    os.mkdir(\"log\")\n",
    "if not os.path.exists(\"log/count_log.txt\") :\n",
    "    f = open(\"log/count_log.txt\",'w',encoding='utf8')\n",
    "    f.write(\"기록이 시작됩니다\\n\")\n",
    "    f.close()\n",
    "    \n",
    "with open(\"log/count_log.txt\",'a') as f:\n",
    "    import random, datetime\n",
    "    for i in range(1,11):\n",
    "        stamp = str(datetime.datetime.now())\n",
    "        value = random.random() * 100000\n",
    "        log_line = stamp + \"\\t\" + str(value) + \"값이 생성되었습니다\" + \"\\n\"\n",
    "        f.write(log_line)\n"
   ]
  },
  {
   "attachments": {},
   "cell_type": "markdown",
   "metadata": {},
   "source": [
    "< Pickle > : dump & load\n",
    "\n",
    "- 객체는 원래 메모리에 올라가있음 but interpreter가 끝나면 메모리에서 사라짐\n",
    "\n",
    "- 하나의 객체를 파일로 저장해서 사용 : 영속화시킴\n",
    "\n",
    "- 파이썬의 객체를 영속화(persistence)하는 built-in 객체\n",
    "- 데이터, object 등 실행중 정보를 저장 -> 불러와서 사용\n",
    "- 저장해야 하는 정보, 계산 결과(모델) 등 활용이 많음 "
   ]
  },
  {
   "cell_type": "code",
   "execution_count": 22,
   "metadata": {},
   "outputs": [
    {
     "name": "stdout",
     "output_type": "stream",
     "text": [
      "[1, 2, 3, 4, 5]\n",
      "[1, 2, 3, 4, 5]\n"
     ]
    }
   ],
   "source": [
    "import pickle\n",
    "\n",
    "f = open(\"list.pickle\",'wb')\n",
    "test = [1,2,3,4,5]\n",
    "pickle.dump(test,f)\n",
    "f.close()\n",
    "\n",
    "print(test)\n",
    "del test\n",
    "# print(test)\n",
    "\n",
    "\n",
    "f= open(\"list.pickle\",'rb') \n",
    "test_pickle = pickle.load(f)\n",
    "print(test_pickle)\n",
    "f.close()"
   ]
  },
  {
   "cell_type": "code",
   "execution_count": 24,
   "metadata": {},
   "outputs": [
    {
     "data": {
      "text/plain": [
       "25"
      ]
     },
     "execution_count": 24,
     "metadata": {},
     "output_type": "execute_result"
    }
   ],
   "source": [
    "import pickle\n",
    "\n",
    "class Multiply :\n",
    "    \n",
    "    def __init__(self,multiplier) :\n",
    "        self.multiplier = multiplier\n",
    "    \n",
    "    def multiply(self, number):\n",
    "        return number * self.multiplier\n",
    "    \n",
    "    \n",
    "test = Multiply(5)\n",
    "test.multiply(10)\n",
    "\n",
    "f = open(\"multiply_object.pickle\",'wb')\n",
    "pickle.dump(test,f)\n",
    "f.close()\n",
    "\n",
    "del test\n",
    "\n",
    "f = open(\"multiply_object.pickle\",'rb')\n",
    "test_pickle = pickle.load(f)\n",
    "test_pickle.multiply(5)\n",
    "        "
   ]
  },
  {
   "attachments": {},
   "cell_type": "markdown",
   "metadata": {},
   "source": [
    "< Logging Handling >\n",
    "\n",
    "- 로그 남기기 logging\n",
    "\n",
    "    - 프로그램이 실행되는 동안 일어나는 정보를 기록을 남기기\n",
    "    - 유저의 접근, 프로그램의 Exception, 특정 함수의 사용\n",
    "    - Console 화면에 출력, 파일에 남기기, DB에 남기기 등등\n",
    "    - 기록된 로그를 분석하여 의미있는 결과를 도출할 수 있음\n",
    "    - 실행시점에서 남겨야 하는 기록, 개발시점에서 남겨야 하는 기록\n",
    "\n",
    "\n",
    "- print vs logging\n",
    "    - 기록을 print로 남기는 것도 가능함\n",
    "    - 그러나 Console 창에만 남기는 기록은 분석시 사용불가\n",
    "    - 때로는 레벨별(개발, 운영)로 기록을 남길 필요도 있음\n",
    "    - 모듈별로 별도의 logging을 남길 필요도 있음\n",
    "    - 이러한 기능을 체계적으로 지원하는 모듈이 필요함\n",
    "\n",
    "\n",
    "< Logging 모듈 >\n",
    "\n",
    "- Python의 기본 log관리 모듈\n",
    "- 프로그램 진행 상황에 따라 다른 level의 log를 출력함\n",
    "- 개발 시점(debug), 운영 시점(info,warning)마다 다른 log가 남을 수 있도록 지원함\n",
    "- debug > info > warning > error > Critical\n",
    "- log 관리시 가장 기본이 되는 정보\n",
    "\n",
    "< Logging Level >\n",
    "\n",
    "< debug>\n",
    "\n",
    "개발시 처리 기록을 남겨야하는 로그 정보를 남김\n",
    "- 다음 함수로 A 를 호출함\n",
    "- 변수 A 를 무엇으로 변경함\n",
    "\n",
    "< info >\n",
    "\n",
    "처리가 진행되는 동안의 정보를 알림\n",
    "- 서버가 시작되었음\n",
    "- 서버가 종료됨\n",
    "- 사용자 A가 프로그램에 접속함\n",
    "\n",
    "< warning >\n",
    "\n",
    "사용자가 잘못 입력한 정보나 처리는 가능하나 원래 개 발시 의도치 않는 정보가 들어왔을 때 알림\n",
    "- Str입력을 기대했으나, Int가 입력됨 -> Str casting으로 처리함\n",
    "- 함수에 argument로 이차원 리스트를 기대했으나 -> 일차원 리스트가 들어옴, 이차원으로 변환후 처리\n",
    "\n",
    "< error >\n",
    "잘못된 처리로 인해 에러가 났으나, 프로그램은 동작할 수 있음을 알림\n",
    "- 파일에 기록을 해야하는데 파일이 없음 --> Exception 처리후 사용자에게 알림\n",
    "- 외부서비스와 연결 불가\n",
    "\n",
    "< critical >\n",
    "잘못된 처리로 데이터 손실이나 더이상 프로그램이 동 작할 수 없음을 알림\n",
    "- 잘못된 접근으로 해당 파일이 삭제됨 - 사용자의 의한 강제 종료\n",
    "\n",
    "\n",
    "    "
   ]
  },
  {
   "cell_type": "code",
   "execution_count": 37,
   "metadata": {},
   "outputs": [
    {
     "name": "stderr",
     "output_type": "stream",
     "text": [
      "WARNING:root:조심해!\n",
      "ERROR:root:에러났어!\n",
      "CRITICAL:root:망했다..\n"
     ]
    }
   ],
   "source": [
    "import logging\n",
    "\n",
    "if __name__ == \"__main__\" :\n",
    "\n",
    "    logger = logging.getLogger(\"main\")  # logger 선언\n",
    "    logging.basicConfig(level = logging.DEBUG)\n",
    "    logger.setLevel(logging.INFO)\n",
    "\n",
    "    stream_hander = logging.FileHandler(\n",
    "        \"my.log\", mode = 'a', encoding = 'utf8') # logger의 output 방법 선언\n",
    "    logger.addHandler(stream_hander)    # logger의 output 등록\n",
    "\n",
    "    logging.debug(\"틀렸잖아\")\n",
    "    logging.info(\"확인해\")\n",
    "    logging.warning(\"조심해!\")\n",
    "    logging.error(\"에러났어!\")\n",
    "    logging.critical(\"망했다..\")\n"
   ]
  },
  {
   "attachments": {},
   "cell_type": "markdown",
   "metadata": {},
   "source": [
    "< 실제 프로그램을 사용하기 위해 여러 설정이 필요 >\n",
    "\n",
    "- 데이터 파일 위치\n",
    "- 파일 저장 장소\n",
    "- Operation Type 등을 설정해줘야 함\n",
    "\n",
    "< 설정하는 방법 >\n",
    "- 이러한 정보를 설정해줄 방법이 필요\n",
    "- 1) configparser - 파일에\n",
    "\n",
    "    - 프로그램의 실행 설정을 file에 저장함\n",
    "    - Section, Key, Value 값의 형태로 설정된 설정 파일을 사용\n",
    "    - 설정파일을 Dict Type으로 호출후 사용\n",
    "\n",
    "- 2) argparser - 실행시점에 \n",
    "\n",
    "    - Console 창에서 프로그램 실행시 Setting 정보를 저장함\n",
    "    - 거의 모든 Console 기반 Python 프로그램 기본으로 제공\n",
    "    - 특수 모듈도 많이 존재하지만(TF), 일반적으로 argparse를 사용\n",
    "    - Command-Line Option 이라고 부름"
   ]
  },
  {
   "cell_type": "code",
   "execution_count": 40,
   "metadata": {},
   "outputs": [
    {
     "name": "stdout",
     "output_type": "stream",
     "text": [
      "status : Single\n",
      "name : Derek\n",
      "value : Yes\n",
      "age : 30\n",
      "single : True\n"
     ]
    }
   ],
   "source": [
    "import configparser\n",
    "config = configparser.ConfigParser()\n",
    "config.sections()\n",
    "config.read('example.cfg') \n",
    "config.sections()\n",
    "\n",
    "for key in config['SectionOne']: \n",
    "    value = config['SectionOne'][key]\n",
    "    print(f\"{key} : {value}\")\n"
   ]
  },
  {
   "cell_type": "code",
   "execution_count": 41,
   "metadata": {},
   "outputs": [
    {
     "name": "stderr",
     "output_type": "stream",
     "text": [
      "usage: ipykernel_launcher.py [-h] [-a A_VALUE] [-b B_VALUE]\n",
      "ipykernel_launcher.py: error: unrecognized arguments: -f /Users/eric/Library/Jupyter/runtime/kernel-0dab5780-5cd3-4684-a071-648535a04864.json\n"
     ]
    },
    {
     "ename": "SystemExit",
     "evalue": "2",
     "output_type": "error",
     "traceback": [
      "An exception has occurred, use %tb to see the full traceback.\n",
      "\u001b[0;31mSystemExit\u001b[0m\u001b[0;31m:\u001b[0m 2\n"
     ]
    },
    {
     "name": "stderr",
     "output_type": "stream",
     "text": [
      "/Users/eric/Library/Python/3.10/lib/python/site-packages/IPython/core/interactiveshell.py:3386: UserWarning: To exit: use 'exit', 'quit', or Ctrl-D.\n",
      "  warn(\"To exit: use 'exit', 'quit', or Ctrl-D.\", stacklevel=1)\n"
     ]
    }
   ],
   "source": [
    "import argparse\n",
    "parser = argparse.ArgumentParser(description='Sum two integers.')\n",
    "# Argument\n",
    "# 짧은 이름, 긴 이름, 표시명, Help 설명, Type\n",
    "parser.add_argument('-a', \"--a_value\", dest=\"A_value\", help=\"A integers\", type=int)\n",
    "parser.add_argument('-b', \"--b_value\", dest=\"B_value\", help=\"B integers\", type=int)\n",
    "\n",
    "args = parser.parse_args()\n",
    "print(args)\n",
    "print(args.a)\n",
    "print(args.b) \n",
    "print(args.a + args.b)"
   ]
  },
  {
   "attachments": {},
   "cell_type": "markdown",
   "metadata": {},
   "source": [
    "< Logging formmater >\n",
    "\n",
    "- Log의 결과값의 format을 지정해줄 수 있음"
   ]
  },
  {
   "cell_type": "code",
   "execution_count": 42,
   "metadata": {},
   "outputs": [],
   "source": [
    "formatter = logging.Formatter('%(asctime)s %(levelname)s %(process)d %(message)s')\n"
   ]
  },
  {
   "cell_type": "code",
   "execution_count": null,
   "metadata": {},
   "outputs": [],
   "source": [
    "logger.info('Open file {0}'.format(\"customers.csv\",))\n",
    "try:\n",
    "   with open(\"customers.csv\", \"r\") as customer_data:\n",
    "     customer_reader = csv.reader(customer_data, delimiter=',', quotechar='\"')\n",
    "     for customer in customer_reader:\n",
    "            if customer[10].upper() == \"USA\": \n",
    "                #customer 데이터의 offset 10번째 값 \n",
    "                logger.info('ID {0} added'.format(customer[0],)) \n",
    "                customer_USA_only_list.append(customer) #즉 country 필드가 “USA” 것만\n",
    "except FileNotFoundError as e:\n",
    "     logger.error('File NOT found {0}'.format(e,))"
   ]
  }
 ],
 "metadata": {
  "kernelspec": {
   "display_name": "Python 3",
   "language": "python",
   "name": "python3"
  },
  "language_info": {
   "codemirror_mode": {
    "name": "ipython",
    "version": 3
   },
   "file_extension": ".py",
   "mimetype": "text/x-python",
   "name": "python",
   "nbconvert_exporter": "python",
   "pygments_lexer": "ipython3",
   "version": "3.10.5"
  },
  "orig_nbformat": 4,
  "vscode": {
   "interpreter": {
    "hash": "aee8b7b246df8f9039afb4144a1f6fd8d2ca17a180786b69acc140d282b71a49"
   }
  }
 },
 "nbformat": 4,
 "nbformat_minor": 2
}
