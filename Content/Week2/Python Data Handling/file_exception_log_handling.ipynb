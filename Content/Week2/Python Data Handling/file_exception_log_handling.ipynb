{
 "cells": [
  {
   "attachments": {},
   "cell_type": "markdown",
   "metadata": {},
   "source": [
    "< File >\n",
    "\n",
    "\n",
    "< Exception >\n",
    "\n",
    "1) 예상 가능한 예외 (if문으로 처리)\n",
    "    - 발생 여부를 사전에 인지할 수 있는 예외\n",
    "    - 사용자의 잘못된 입력, 파일 호출 시 파일 없음\n",
    "    - 개발자가 반드시 명시적으로 정의 해야함\n",
    "\n",
    "2) 예상이 불가능한 예외 (exception handling으로 처리)\n",
    "    - 인터프리터 과정에서 발생하는 예외, 개발자 실수\n",
    "    - 리스트 범위를 넘어가는 값 호출, 정수0으로 나눔\n",
    "    - 수행 불가시 인터프리터가 자동으로 호출\n",
    "\n",
    "\n",
    "< Exception Handling >\n",
    "\n",
    "- 예외가 발생할 경우 후속 조치 등 대처 필요\n",
    "    1) 없는 파일 호출 -> 파일 없음을 알림\n",
    "    2) 게임 이상 종료 -> 게임 정보 저장\n",
    "\n",
    "- 프로그램 = 제품, 모든 잘못된 상황에 대한 대처가 필요\n",
    "\n",
    "- if ~else 구문 : 정상적인 로직에 의해 처리되어야 함\n",
    "- try ~except 구문 : 사용자가 잘못 입력해서 에러가 발생함\n",
    "\n",
    "- try ~ except 문법 (try->except->else->finally)\n",
    "    - else, finally는 추천하지 않음\n",
    "    - try :\n",
    "        예외 발생 가능 코드\n",
    "      except <Exception Type> :\n",
    "        예외 발생시 대응하는 코드\n",
    "      else :\n",
    "        예외가 발생하지 않을 시 대응하는 코드\n",
    "      finally :\n",
    "        try 절에서 예외의 발생여부와 관계없이 항상 실행되는 절\n",
    "\n",
    "\n",
    "- raise 구문\n",
    "  - 필요에 따라 강제로 Exception을 발생\n",
    "  -> raise <Exception Type> (예외정보)\n",
    "\n",
    "- assert 구문\n",
    "  - 특정 조건에 만족하지 않을 경우 예외 발생\n",
    "  -> assert 예외 조건\n",
    "  True / False 중 하나를 발생시켜서 False일 경우 AssertionError를 발생시킴\n",
    "\n",
    "\n",
    "\n",
    "  \n",
    "\n",
    "\n",
    "< Built-in Exception > \n",
    "- 기본적으로 제공하는 예외\n",
    "  - IndexError : list의 index범위를 넘어갈 때\n",
    "  - NameError : 존재하지 않은 변수를 호출할 때\n",
    "  - ZeroDivisionError : 0으로 숫자를 나눌 때\n",
    "  - ValueError : 반환할 수 없는 문자/숫자를 변환할 때\n",
    "  - FileNotFoundError : 존재하지 않는 파일을 호출할 때\n",
    "\n",
    "\n",
    "\n",
    "\n",
    "< Log handling >\n",
    "\n",
    "\n"
   ]
  },
  {
   "cell_type": "code",
   "execution_count": 5,
   "metadata": {},
   "outputs": [
    {
     "name": "stdout",
     "output_type": "stream",
     "text": [
      "Not divided by 0\n",
      "10.0\n",
      "2\n",
      "name 'v' is not defined\n",
      "5.0\n",
      "3\n",
      "name 'v' is not defined\n",
      "3.3\n",
      "4\n",
      "name 'v' is not defined\n",
      "2.5\n",
      "5\n",
      "name 'v' is not defined\n",
      "2.0\n",
      "list index out of range\n",
      "1.7\n",
      "list index out of range\n",
      "1.4\n",
      "list index out of range\n",
      "1.2\n",
      "list index out of range\n",
      "1.1\n",
      "list index out of range\n"
     ]
    }
   ],
   "source": [
    "a = [1,2,3,4,5]\n",
    "\n",
    "for i in range(10) :\n",
    "    try :\n",
    "        print(round(10/i,1))\n",
    "        print(a[i])\n",
    "        print(v)\n",
    "    except ZeroDivisionError :\n",
    "        print(\"Not divided by 0\")\n",
    "        \n",
    "    except IndexError as e :\n",
    "        print(e)\n",
    "        \n",
    "    except Exception as e : # 추천하지 않음 / 어디서 예외가 발생했는지 확인 불가\n",
    "        print(e)"
   ]
  },
  {
   "cell_type": "code",
   "execution_count": 6,
   "metadata": {},
   "outputs": [
    {
     "name": "stdout",
     "output_type": "stream",
     "text": [
      "정수값으로 변환된 숫자 - 1234\n"
     ]
    },
    {
     "ename": "ValueError",
     "evalue": "숫자값을 입력하지 않으셨습니다",
     "output_type": "error",
     "traceback": [
      "\u001b[0;31m---------------------------------------------------------------------------\u001b[0m",
      "\u001b[0;31mValueError\u001b[0m                                Traceback (most recent call last)",
      "Cell \u001b[0;32mIn [6], line 6\u001b[0m\n\u001b[1;32m      4\u001b[0m \u001b[39mfor\u001b[39;00m digit \u001b[39min\u001b[39;00m value :\n\u001b[1;32m      5\u001b[0m     \u001b[39mif\u001b[39;00m digit \u001b[39mnot\u001b[39;00m \u001b[39min\u001b[39;00m \u001b[39m'\u001b[39m\u001b[39m0123456789\u001b[39m\u001b[39m'\u001b[39m:\n\u001b[0;32m----> 6\u001b[0m         \u001b[39mraise\u001b[39;00m \u001b[39mValueError\u001b[39;00m(\u001b[39m\"\u001b[39m\u001b[39m숫자값을 입력하지 않으셨습니다\u001b[39m\u001b[39m\"\u001b[39m)\n\u001b[1;32m      7\u001b[0m \u001b[39mprint\u001b[39m(\u001b[39m\"\u001b[39m\u001b[39m정수값으로 변환된 숫자 -\u001b[39m\u001b[39m\"\u001b[39m,\u001b[39mint\u001b[39m(value))\n",
      "\u001b[0;31mValueError\u001b[0m: 숫자값을 입력하지 않으셨습니다"
     ]
    }
   ],
   "source": [
    "# string 입력받아서 int형으로 반환하는 함수\n",
    "while True :\n",
    "    value = input(\"변환할 정수 값을 입력해주세요\")\n",
    "    for digit in value :\n",
    "        if digit not in '0123456789':\n",
    "            raise ValueError(\"숫자값을 입력하지 않으셨습니다\")\n",
    "    print(\"정수값으로 변환된 숫자 -\",int(value))"
   ]
  },
  {
   "cell_type": "code",
   "execution_count": null,
   "metadata": {},
   "outputs": [],
   "source": [
    "def get_binary_number(decimal_number) :\n",
    "    assert isinstance(decimal_number, int)\n",
    "    return bin(decimal_number)  \n",
    "\n",
    "print(get_binary_number(10))"
   ]
  }
 ],
 "metadata": {
  "kernelspec": {
   "display_name": "Python 3",
   "language": "python",
   "name": "python3"
  },
  "language_info": {
   "codemirror_mode": {
    "name": "ipython",
    "version": 3
   },
   "file_extension": ".py",
   "mimetype": "text/x-python",
   "name": "python",
   "nbconvert_exporter": "python",
   "pygments_lexer": "ipython3",
   "version": "3.10.5"
  },
  "orig_nbformat": 4,
  "vscode": {
   "interpreter": {
    "hash": "aee8b7b246df8f9039afb4144a1f6fd8d2ca17a180786b69acc140d282b71a49"
   }
  }
 },
 "nbformat": 4,
 "nbformat_minor": 2
}
