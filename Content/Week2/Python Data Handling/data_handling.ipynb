{
 "cells": [
  {
   "attachments": {},
   "cell_type": "markdown",
   "metadata": {},
   "source": [
    "< 기본적인 형태의 데이터들 >\n",
    "\n",
    "- CSV, 웹(html), XML, JSON\n",
    "\n",
    "< Comma Separate Value >\n",
    "\n",
    "- CSV, 필드를 쉼표(,)로 구분한 텍스트 파일\n",
    "- 엑셀 양식의 데이터를 프로그램에 상관없이 쓰기 위한 데이터 형식이라고 생각하면 쉬움\n",
    "- 탭(TSV), 빈칸(SSV) 등으로 구분해서 만들기도 함\n",
    "- 통칭하여 character-separated values (CSV) 부름 \n",
    "- 엑셀에서는 “다름 이름 저장” 기능으로 사용 가능\n",
    "\n"
   ]
  },
  {
   "attachments": {},
   "cell_type": "markdown",
   "metadata": {},
   "source": [
    "< 엑셀로 csv 파일 만들기 >\n",
    "\n",
    "1) 파일 다운로드 - https://bit.ly/2KGjLxR \n",
    "2)파일열기\n",
    "3)파일→다른이름으로저장→CSV(쉼표로분리)선택후→파일명입력 \n",
    "4) 엑셀 종료 후 Notepad로 파일 열어보기\n",
    "\n",
    "< 파이썬으로 csv 파일 읽기/쓰기 >\n",
    "\n",
    "-Text 파일 형태로 데이터 처리 예제\n",
    "- 예제 데이터: customer.csv (https://bit.ly/3psoUZb)\n",
    "- 일반적 textfile을 처리하듯 파일을 읽어온 후, 한 줄 한 줄씩 데이터를 처리함"
   ]
  },
  {
   "cell_type": "code",
   "execution_count": 2,
   "metadata": {},
   "outputs": [
    {
     "name": "stdout",
     "output_type": "stream",
     "text": [
      "Header :\t ['customerNumber', 'customerName', 'contactLastName', 'contactFirstName', 'phone', 'addressLine1', 'addressLine2', 'city', 'state', 'postalCode', 'country', 'salesRepEmployeeNumber', 'creditLimit\\n']\n",
      "Data 0 \t\t ['103', '\"Atelier graphique\"', 'Schmitt', '\"Carine \"', '40.32.2555', '\"54', ' rue Royale\"', 'NULL', 'Nantes', 'NULL', '44000', 'France', '1370', '21000\\n']\n",
      "Data 1 \t\t ['112', '\"Signal Gift Stores\"', 'King', 'Jean', '7025551838', '\"8489 Strong St.\"', 'NULL', '\"Las Vegas\"', 'NV', '83030', 'USA', '1166', '71800\\n']\n",
      "Data 2 \t\t ['114', '\"Australian Collectors', ' Co.\"', 'Ferguson', 'Peter', '\"03 9520 4555\"', '\"636 St Kilda Road\"', '\"Level 3\"', 'Melbourne', 'Victoria', '3004', 'Australia', '1611', '117300\\n']\n",
      "Data 3 \t\t ['119', '\"La Rochelle Gifts\"', 'Labrune', '\"Janine \"', '40.67.8555', '\"67', ' rue des Cinquante Otages\"', 'NULL', 'Nantes', 'NULL', '44000', 'France', '1370', '118200\\n']\n",
      "Data 4 \t\t ['121', '\"Baane Mini Imports\"', 'Bergulfsen', '\"Jonas \"', '\"07-98 9555\"', '\"Erling Skakkes gate 78\"', 'NULL', 'Stavern', 'NULL', '4110', 'Norway', '1504', '81700\\n']\n",
      "Data 5 \t\t ['124', '\"Mini Gifts Distributors Ltd.\"', 'Nelson', 'Susan', '4155551450', '\"5677 Strong St.\"', 'NULL', '\"San Rafael\"', 'CA', '97562', 'USA', '1165', '210500\\n']\n",
      "Data 6 \t\t ['125', '\"Havel & Zbyszek Co\"', 'Piestrzeniewicz', '\"Zbyszek \"', '\"(26) 642-7555\"', '\"ul. Filtrowa 68\"', 'NULL', 'Warszawa', 'NULL', '01-012', 'Poland', 'NULL', '0\\n']\n",
      "Data 7 \t\t ['128', '\"Blauer See Auto', ' Co.\"', 'Keitel', 'Roland', '\"+49 69 66 90 2555\"', '\"Lyonerstr. 34\"', 'NULL', 'Frankfurt', 'NULL', '60528', 'Germany', '1504', '59700\\n']\n",
      "Data 8 \t\t ['129', '\"Mini Wheels Co.\"', 'Murphy', 'Julie', '6505555787', '\"5557 North Pendale Street\"', 'NULL', '\"San Francisco\"', 'CA', '94217', 'USA', '1165', '64600\\n']\n",
      "Data 9 \t\t ['131', '\"Land of Toys Inc.\"', 'Lee', 'Kwai', '2125557818', '\"897 Long Airport Avenue\"', 'NULL', 'NYC', 'NY', '10022', 'USA', '1323', '114900\\n']\n",
      "122\n"
     ]
    }
   ],
   "source": [
    "# CSV 파일 읽기\n",
    "\n",
    "line_counter = 0 #파일의 총 줄수를 세는 변수 \n",
    "data_header = [] #data의 필드값을 저장하는 list \n",
    "customer_list = [] #cutomer 개별 List를 저장하는 List\n",
    "\n",
    "with open(\"customers.csv\") as customer_data : #customer.csv 파일을 customer_data 객체에 저장\n",
    "    \n",
    "    while True :\n",
    "        data = customer_data.readline() #customer.csv에 한줄씩 data 변수에 저장\n",
    "        \n",
    "        if not data :   #데이터가 없을 때, Loop 종료\n",
    "            break\n",
    "        \n",
    "        if line_counter == 0 :  #첫번째 데이터는 데이터의 필드\n",
    "            data_header = data.split(\",\")   #데이터의 필드는 data_header List에 저장, 데이터 저장시 “,”로 분리\n",
    "            \n",
    "        else :\n",
    "            customer_list.append(data.split(','))   #2차원 배열, 일반 데이터는 customer_list 객체에 저장, 데이터 저장시 “,”로 분리\n",
    "        \n",
    "        line_counter+=1\n",
    "        \n",
    "print(\"Header :\\t\", data_header)    # 데이터 필드 값 출력\n",
    "\n",
    "for i in range(10) :    # 데이터 출력 samples (10개만!)\n",
    "    print(\"Data\",i,\"\\t\\t\", customer_list[i])\n",
    "    \n",
    "print(len(customer_list))\n",
    "    \n",
    "    \n",
    "    \n",
    "    \n",
    "    "
   ]
  },
  {
   "cell_type": "code",
   "execution_count": 5,
   "metadata": {},
   "outputs": [
    {
     "name": "stdout",
     "output_type": "stream",
     "text": [
      "Header :\t ['customerNumber', 'customerName', 'contactLastName', 'contactFirstName', 'phone', 'addressLine1', 'addressLine2', 'city', 'state', 'postalCode', 'country', 'salesRepEmployeeNumber', 'creditLimit\\n']\n",
      "Data :\t\t ['112', '\"Signal Gift Stores\"', 'King', 'Jean', '7025551838', '\"8489 Strong St.\"', 'NULL', '\"Las Vegas\"', 'NV', '83030', 'USA', '1166', '71800\\n']\n",
      "Data :\t\t ['124', '\"Mini Gifts Distributors Ltd.\"', 'Nelson', 'Susan', '4155551450', '\"5677 Strong St.\"', 'NULL', '\"San Rafael\"', 'CA', '97562', 'USA', '1165', '210500\\n']\n",
      "Data :\t\t ['129', '\"Mini Wheels Co.\"', 'Murphy', 'Julie', '6505555787', '\"5557 North Pendale Street\"', 'NULL', '\"San Francisco\"', 'CA', '94217', 'USA', '1165', '64600\\n']\n",
      "Data :\t\t ['131', '\"Land of Toys Inc.\"', 'Lee', 'Kwai', '2125557818', '\"897 Long Airport Avenue\"', 'NULL', 'NYC', 'NY', '10022', 'USA', '1323', '114900\\n']\n",
      "Data :\t\t ['151', '\"Muscle Machine Inc\"', 'Young', 'Jeff', '2125557413', '\"4092 Furth Circle\"', '\"Suite 400\"', 'NYC', 'NY', '10022', 'USA', '1286', '138500\\n']\n",
      "Data :\t\t ['157', '\"Diecast Classics Inc.\"', 'Leong', 'Kelvin', '2155551555', '\"7586 Pompton St.\"', 'NULL', 'Allentown', 'PA', '70267', 'USA', '1216', '100600\\n']\n",
      "Data :\t\t ['161', '\"Technics Stores Inc.\"', 'Hashimoto', 'Juri', '6505556809', '\"9408 Furth Circle\"', 'NULL', 'Burlingame', 'CA', '94217', 'USA', '1165', '84600\\n']\n",
      "Data :\t\t ['168', '\"American Souvenirs Inc\"', 'Franco', 'Keith', '2035557845', '\"149 Spinnaker Dr.\"', '\"Suite 101\"', '\"New Haven\"', 'CT', '97823', 'USA', '1286', '0\\n']\n",
      "Data :\t\t ['173', '\"Cambridge Collectables Co.\"', 'Tseng', 'Jerry', '6175555555', '\"4658 Baden Av.\"', 'NULL', 'Cambridge', 'MA', '51247', 'USA', '1188', '43400\\n']\n",
      "Data :\t\t ['175', '\"Gift Depot Inc.\"', 'King', 'Julie', '2035552570', '\"25593 South Bay Ln.\"', 'NULL', 'Bridgewater', 'CT', '97562', 'USA', '1323', '84300\\n']\n",
      "34\n"
     ]
    }
   ],
   "source": [
    "# CSV 파일 쓰기\n",
    "\n",
    "line_counter = 0 \n",
    "data_header = []\n",
    "employee = [] \n",
    "customer_USA_only_list = [] \n",
    "customer = None\n",
    "\n",
    "with open (\"customers.csv\", \"r\") as customer_data:\n",
    "    while True:\n",
    "        data = customer_data.readline() \n",
    "        if not data:\n",
    "            break\n",
    "        \n",
    "        if line_counter==0:\n",
    "            data_header = data.split(\",\")\n",
    "            \n",
    "        else:\n",
    "            customer = data.split(\",\")  # 매 cycle마다 새롭게 갱신됨, 1차원 배열\n",
    "            \n",
    "            if customer[10].upper() == \"USA\": #customer 데이터의 offset 10번째 값\n",
    "                customer_USA_only_list.append(customer) #즉 country 필드가 “USA” 것만 \n",
    "                \n",
    "        line_counter+=1 #sutomer_USA_only_list에 저장\n",
    "            \n",
    "# customer : 1차원 배열\n",
    "# customer_USA_only_list : 2차원 배열\n",
    "            \n",
    "print (\"Header :\\t\", data_header) \n",
    "\n",
    "for i in range(10):\n",
    "    print (\"Data :\\t\\t\",customer_USA_only_list[i]) \n",
    "print (len(customer_USA_only_list))\n",
    "\n",
    "\n",
    "with open (\"customers_USA_only.csv\", \"w\") as customer_USA_only_csv: \n",
    "    for customer in customer_USA_only_list:\n",
    "        customer_USA_only_csv.write(\",\".join(customer).strip('\\n')+\"\\n\") #cutomer_USA_only_list 객체에 있는 데이터를 customers_USA_only.csv 파일에 쓰기\n",
    "         \n",
    "        \n",
    "        "
   ]
  },
  {
   "attachments": {},
   "cell_type": "markdown",
   "metadata": {},
   "source": [
    "< CSV 객체로 CSV 처리 >\n",
    "\n",
    "- Text파일 형태로 데이터 처리시 문장 내에 들어가 있는 “,” 등에 대해 전처리 과정이 필요\n",
    "- 파이썬에서는 간단히 CSV파일을 처리하기 위해 csv 객체를 제공함\n",
    "- 예제 데이터: korea_foot_traffic_data.csv (from http://www.data.go.kr) \n",
    "- 예제 데이터는 국내 주요 상권의 유동인구 현황 정보 \n",
    "- 한글로 되어있어 한글처리가 필요\n",
    "\n",
    "< CSV 객체 활용 >\n",
    "\n",
    "- csv.reader(), csv.writer()안에 들어가는 parameter\n",
    "\n",
    "- Attribute / Default / Meaning\n",
    "\n",
    "    - delimiter / , / 글자를 나누는 기준\n",
    "    - lineterminator / \\r\\n / 줄바꿈기준\n",
    "    - quotechar / \" / 문자열을 둘러싸는 신호 문자\n",
    "    - quoting / QUOTE_MINIMAL / 데이터 나누는 기준이 quotechar에 의해 둘러싸인 레벨"
   ]
  },
  {
   "cell_type": "code",
   "execution_count": 6,
   "metadata": {},
   "outputs": [
    {
     "ename": "FileNotFoundError",
     "evalue": "[Errno 2] No such file or directory: 'korea_floating_population_data.csv'",
     "output_type": "error",
     "traceback": [
      "\u001b[0;31m---------------------------------------------------------------------------\u001b[0m",
      "\u001b[0;31mFileNotFoundError\u001b[0m                         Traceback (most recent call last)",
      "Cell \u001b[0;32mIn [6], line 6\u001b[0m\n\u001b[1;32m      3\u001b[0m header \u001b[39m=\u001b[39m []\n\u001b[1;32m      4\u001b[0m rownum \u001b[39m=\u001b[39m \u001b[39m0\u001b[39m\n\u001b[0;32m----> 6\u001b[0m \u001b[39mwith\u001b[39;00m \u001b[39mopen\u001b[39;49m(\u001b[39m\"\u001b[39;49m\u001b[39mkorea_floating_population_data.csv\u001b[39;49m\u001b[39m\"\u001b[39;49m,\u001b[39m\"\u001b[39;49m\u001b[39mr\u001b[39;49m\u001b[39m\"\u001b[39;49m, encoding\u001b[39m=\u001b[39;49m\u001b[39m\"\u001b[39;49m\u001b[39mcp949\u001b[39;49m\u001b[39m\"\u001b[39;49m) \u001b[39mas\u001b[39;00m p_file: \n\u001b[1;32m      7\u001b[0m     csv_data \u001b[39m=\u001b[39m csv\u001b[39m.\u001b[39mreader(p_file) \u001b[39m#csv 객체를 이용해서 csv_data 읽기\u001b[39;00m\n\u001b[1;32m      8\u001b[0m     \u001b[39mfor\u001b[39;00m row \u001b[39min\u001b[39;00m csv_data: \u001b[39m#읽어온 데이터를 한 줄씩 처리\u001b[39;00m\n",
      "\u001b[0;31mFileNotFoundError\u001b[0m: [Errno 2] No such file or directory: 'korea_floating_population_data.csv'"
     ]
    }
   ],
   "source": [
    "import csv \n",
    "seoung_nam_data = [] \n",
    "header = []\n",
    "rownum = 0\n",
    "\n",
    "with open(\"korea_floating_population_data.csv\",\"r\", encoding=\"cp949\") as p_file: \n",
    "    csv_data = csv.reader(p_file) #csv 객체를 이용해서 csv_data 읽기\n",
    "    for row in csv_data: #읽어온 데이터를 한 줄씩 처리\n",
    "        if rownum == 0:\n",
    "            header = row #첫 번째 줄은 데이터 필드로 따로 저장\n",
    "        location = row[7]\n",
    "#“행정구역”필드 데이터 추출, 한글 처리로 유니코드 데이터를 cp949로 변환 \n",
    "        if location.find(u\"성남시\") != -1:\n",
    "            seoung_nam_data.append(row)\n",
    "#”행정구역” 데이터에 성남시가 들어가 있으면 seoung_nam_data List에 추가\n",
    "        rownum +=1\n",
    "        \n",
    "with open(\"seoung_nam_floating_population_data.csv\",\"w\", encoding=\"utf8\") as s_p_file: \n",
    "    writer = csv.writer(s_p_file, delimiter='\\t', quotechar=\"'\", quoting=csv.QUOTE_ALL) \n",
    "    # csv.writer를 사용해서 csv 파일 만들기 delimiter 필드 구분자\n",
    "    # quotechar는 필드 각 데이터는 묶는 문자, quoting는 묶는 범위\n",
    "\n",
    "    writer.writerow(header)\n",
    "    for row in seoung_nam_data:\n",
    "        writer.writerow(row)\n",
    "        \n",
    "# 유동 인구 데이터중 성남 데이터만 수집\n",
    "# 제목 필드 파일에 쓰기 \n",
    "# seoung_nam_data에 있는 정보 list에 쓰기"
   ]
  },
  {
   "cell_type": "code",
   "execution_count": null,
   "metadata": {},
   "outputs": [],
   "source": []
  }
 ],
 "metadata": {
  "kernelspec": {
   "display_name": "Python 3",
   "language": "python",
   "name": "python3"
  },
  "language_info": {
   "codemirror_mode": {
    "name": "ipython",
    "version": 3
   },
   "file_extension": ".py",
   "mimetype": "text/x-python",
   "name": "python",
   "nbconvert_exporter": "python",
   "pygments_lexer": "ipython3",
   "version": "3.10.5"
  },
  "orig_nbformat": 4,
  "vscode": {
   "interpreter": {
    "hash": "aee8b7b246df8f9039afb4144a1f6fd8d2ca17a180786b69acc140d282b71a49"
   }
  }
 },
 "nbformat": 4,
 "nbformat_minor": 2
}
