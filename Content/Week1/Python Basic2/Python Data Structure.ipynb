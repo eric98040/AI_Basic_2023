{
 "cells": [
  {
   "attachments": {},
   "cell_type": "markdown",
   "metadata": {},
   "source": [
    "< Python Basic Data structure >\n",
    "- 스택과 큐\n",
    "- 튜플과 집합\n",
    "- 사전\n",
    "- Collection 모듈"
   ]
  },
  {
   "attachments": {},
   "cell_type": "markdown",
   "metadata": {},
   "source": [
    "< Stack >\n",
    "- 나중에 넣은 데이터를 먼저 반환하도록 설계된 메모리 구조\n",
    "- Last in First out (LIFO)\n",
    "- Data의 입력을 Push, 출력을 Pop이라고 함\n",
    "\n",
    "< Stack with list >\n",
    "- 리스트를 사용하여 스택 구조를 구현 가능\n",
    "- Push를 .append(), Pop을 .pop()으로 사용\n",
    "\n",
    "< Method 종류 >\n",
    "- 함수마다 화면에 출력이 안되고 내부 연산이 일어나는 것(자체변화O)\n",
    "- 화면에 결과값만 출력되고 내부 연산은 없음(자체변화X)\n",
    "- .pop() 함수는 return(결과값 출력)을 하면서 동시에 자체변화가 일어남\n"
   ]
  },
  {
   "attachments": {},
   "cell_type": "markdown",
   "metadata": {},
   "source": [
    "< Queue >\n",
    "- 먼저 넣은 데이터를 먼저 반환하도록 설계된 메모리구조\n",
    "- First In First Out (FIFO)\n",
    "- 데이터의 입력을 Enqueue , 출력을 Dequeue라고 함\n",
    "- Stack과 반대되는 개념 \n",
    "\n",
    "< Stack with deque >\n",
    "from collections mport deque\n",
    "queue = deque()\n",
    "queue.popleft(), queue.pop()\n"
   ]
  },
  {
   "attachments": {},
   "cell_type": "markdown",
   "metadata": {},
   "source": [
    "< Tuple >\n",
    "- 값의 변경이 불가능한 리스트\n",
    "- 선언시 []가 아니라 ()을 이용\n",
    "- 리스트의 연산, 인덱싱, 슬라이싱 등을 동일하게 사용\n",
    "\n",
    "< Why? >\n",
    "- 프로그램을 작동하는 동안 변경되지 않은 데이터의 저장 (학번, 이름, 우편번호 등)\n",
    "- 함수 반환 값등 사용자의 실수에 의한 에러를 방지\n",
    "\n",
    "* 값이 하나인 튜플은 반드시 ,를 붙여야 함\n",
    "t  = (1,) :tuple , t = (1) : int"
   ]
  },
  {
   "attachments": {},
   "cell_type": "markdown",
   "metadata": {},
   "source": [
    "< Set >\n",
    "- 값을 순서없이 저장, 중복 불허하는 자료형\n",
    "- set 객체 선언을 이용하여 객체 생성\n",
    "- add(원소를 추가), remove/discard(원소 삭제), update(집합을 추가), clear(초기화)\n",
    "- 수학에서 활용하는 다양한 연산 가능\n",
    "    - 합집합 : | or union\n",
    "    - 차집합 : - or difference \n",
    "    - 교집합 : & or intersection\n",
    "    - 대칭차집합 : ^ "
   ]
  },
  {
   "attachments": {},
   "cell_type": "markdown",
   "metadata": {},
   "source": [
    "< Dictionary >\n",
    "\n",
    "- 데이터를 저장할 때는 구분 지을 수 있는 값을 함께 저장\n",
    "- 구분을 위한 데이터 고유 값을 key라고 함\n",
    "- key값을 관련하여 value를 관리함\n",
    "- key와 value를 매칭하여 key로 value를 검색\n",
    "- 다른 언어에서는 Hash Table이라는 용어를 사용\n",
    "\n",
    "- dict.items(), dict.keys(), dict.values()\n",
    "- for문 돌려서 참조하면 각 원소가 tuple로 나오거나 / key, value만 나옴\n",
    "\n",
    "- 수정 : 속성 값으로 접근 가능"
   ]
  },
  {
   "attachments": {},
   "cell_type": "markdown",
   "metadata": {},
   "source": [
    "< Collections >\n",
    "- List, Tupe, Dict에 대한 Built-in 확장 자료구조(모듈)\n",
    "- 편의성, 실행 효율 등을 사용자에게 제공함\n",
    "\n",
    "from collections import deque\n",
    "from collections import Counter\n",
    "from collections import OrderedDict\n",
    "from collections import defaultdict\n",
    "from collections import namedtuple\n",
    "\n",
    "< deque >\n",
    "- Stack과 Queue를 지원하는 모듈\n",
    "- 기존 List에 비해 효율적인 자료구조= 빠른 자료 저장 방식을 지원함\n",
    "- 효율적 메모리 구조로 처리속도 향상\n",
    "- rotate, reverse 등 linked List의 특성을 지원함\n",
    "- 기존 list 형태의 함수를 모두 지원함\n",
    "- append, appendleft, pop, popleft, rotate(+,-), extend, extendleft\n",
    "\n",
    "< OrderedDict >\n",
    "- Dict와 달리, 데이터를 입력한 순서대로 dict를 반환함\n",
    "- 그러나 dict도 python 3.6부터 입력한 순서를 보장하여 출력함\n",
    "\n",
    "< defaultdict >\n",
    "- Dict type의 값에 기본 값을 지정, 신규값 생성시 사용하는 방법\n",
    "- key가 없어도 생성시 동일한 기본 값으로 setting\n",
    "- d = defaultdict(object)   # Default dictionary를 생성\n",
    "- d = defaultdict(lambda : 0)   # Default 값을 0으로 설정함 \n",
    "- (parameter가 함수여야 하므로 lambda함수를 사용)\n",
    "print(d[\"first\"])\n",
    "\n",
    "< Counter >\n",
    "- Sequence type의 data element의 갯수를 dict 형태로 반환\n",
    "- Dict type, keyword parameter 등도 모두 처리 가능\n",
    "- c = Counter() ; list(c.elements())로 하면 list형태로 전환 가능\n",
    "- Counter 객체끼리  +/-/&/| 연산들을 모두 지원함\n",
    "\n",
    "< namedtuple >\n",
    "- Tuple 형태로 Data 구조체를 저장하는 방법\n",
    "- 저장되는 data의 variable을 사전에 지정해서 저장함\n",
    "\n",
    "\n",
    "\n"
   ]
  },
  {
   "cell_type": "code",
   "execution_count": null,
   "metadata": {},
   "outputs": [],
   "source": []
  }
 ],
 "metadata": {
  "kernelspec": {
   "display_name": "Python 3",
   "language": "python",
   "name": "python3"
  },
  "language_info": {
   "name": "python",
   "version": "3.10.5 (v3.10.5:f377153967, Jun  6 2022, 12:36:10) [Clang 13.0.0 (clang-1300.0.29.30)]"
  },
  "orig_nbformat": 4,
  "vscode": {
   "interpreter": {
    "hash": "aee8b7b246df8f9039afb4144a1f6fd8d2ca17a180786b69acc140d282b71a49"
   }
  }
 },
 "nbformat": 4,
 "nbformat_minor": 2
}
