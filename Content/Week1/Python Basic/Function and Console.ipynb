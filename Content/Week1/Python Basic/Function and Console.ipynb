{
 "cells": [
  {
   "attachments": {},
   "cell_type": "markdown",
   "metadata": {},
   "source": [
    "< 함수 >\n",
    "- 어떤 일을 수행하는 코드의 덩어리\n",
    "- 반복적인 수행을 1회만 작성 후 호출\n",
    "- 코드를 논리적인 단위로 분리\n",
    "- 캡슐화 : 인터페이스만 알면 타인의 코드 사용\n",
    "\n",
    "< 함수 선언 문법> : 함수 이름, parameter, indentation, return value(optional)\n",
    "\n",
    "def function_name (parameter #1, ... , ) :\n",
    "    수행문 #1 statements\n",
    "    수행문 #2 statements\n",
    "    return 반환값\n",
    "\n",
    "< 함수 수행 순서 >\n",
    "- 함수 부분을 제외한 메인 프로그램부터 시작\n",
    "- 함수 호출 시 함수부분을 수행 후 되돌아옴\n",
    "\n",
    "< parameter 매개변수 vs argument 인자 >\n",
    "- parameter : 함수의 입력 값 인터페이스\n",
    "- argument : 실제 parameter에 대입된 값\n",
    "\n",
    "< parameter 유무, 반환 값 유무에 따라 함수의 형태가 다름 >\n",
    "- 반환 값 없음 / parameter 없음 : 함수 내의 수행문만 수행\n",
    "- 반환 값 있음 / parameter 없음 : parameter 없이, 수행문 수행 후 결과값 반환\n",
    "- 반환 값 없음 / parameter 있음 : parameter를 사용, 수행문만 수행\n",
    "- 반환 값 있음 / parameter 있음 : parameter를 사용하여 수행문 수행 후 결과값 반환"
   ]
  },
  {
   "attachments": {},
   "cell_type": "markdown",
   "metadata": {},
   "source": [
    "< Console I/O >\n",
    "\n",
    "- 터미널 : mouse가 아닌 키보드로 명령을 입력, 프로그램 실행 \n",
    "    - Graphic User Interface, Command Line Interface\n",
    "    - CLI : GUI와 달리 Text를 사용하여 컴퓨터에 명령을 입력하는 인터페이스 체계\n",
    "        (Windows - CMD window, Windows Terminal / Mac,Linux - Terminal)\n",
    "\n",
    "\n",
    "< Console창 입출력 >\n",
    "- input() : console창에서 문자열을 입력받는 함수\n",
    "- print() : ,를 사용할 경우 print문이 연결됨\n",
    "\n",
    "< print formatting >\n",
    "- print문은 기본적인 출력 외에 출력의 양식, 형식을 지정가능 \n",
    "- % string, format function, fstring 3가지 방법\n",
    "\n",
    "< % - format >\n",
    "- \"%datatype\" %(variable) 형태로 출력 양식을 표현\n",
    "\n",
    "< str.format() 함수 >\n",
    "- \"....{datatype}....\".format(argument) \n",
    "\n",
    "< f-string >\n",
    "- f....{variable}...\"\n",
    "   \n",
    "- print(f'{name:.2f}') : 기본 왼쪽 정렬 & 소수점 아래 2칸까지만 표시(:필수!)\n",
    "- print(f'{name:20}') : 기본 왼쪽 정렬 & 총 20칸 할당\n",
    "- print(f'{name:>20}') : 오른쪽 정렬 & 총 20칸 할당\n",
    "- print(f'{name:*<20}') : 왼쪽 정렬 & 총 20칸 할당 & 나머지 칸은 *로 채우기\n",
    "- print(f'{name:*>20}') : 중앙 정렬 & 총 20칸 할당 & 나머지 칸은 *로 채우기\n",
    "- print(f'{name:*^20}') : 오른쪽 정렬 & 총 20칸 할당 & 나머지 칸은 *로 채우기\n",
    "- print(f'{number:10.2f}') : number를 넣되 총 10칸 할당 & 소수점 아래 2자리까지만 표시\n",
    "- print(f'{number:*<10.2f}') : 왼쪽 정렬 & 나머지 칸은 *로 채우기 & number를 넣되 총 10칸 할당 & 소수점 아래 2자리까지만 표시\n",
    "\n",
    "\n",
    "< 주의할 점 >\n",
    "- string의 경우 concatenation이 덧셈 순서에 따라 결과가 달라진다! \n",
    "- 일반 +와 +=는 반드시 구분할 것!\n",
    "\n",
    "\n",
    "\n"
   ]
  },
  {
   "cell_type": "code",
   "execution_count": 51,
   "metadata": {},
   "outputs": [
    {
     "name": "stdout",
     "output_type": "stream",
     "text": [
      "one two\n",
      "one two\n",
      "1 2\n",
      "1 2\n"
     ]
    }
   ],
   "source": [
    "print('%s %s'%(\"one\",\"two\"))\n",
    "print('{} {}'.format(\"one\",\"two\"))\n",
    "print('%d %d'%(1,2))\n",
    "print('{} {}'.format(1,2))\n"
   ]
  },
  {
   "cell_type": "code",
   "execution_count": 52,
   "metadata": {},
   "outputs": [
    {
     "name": "stdout",
     "output_type": "stream",
     "text": [
      "본 프로그램은 섭씨를 화씨로 변환해주는 프로그램입니다. \n",
      "섭씨온도 : 24.00\n",
      "화씨온도 : 75.20\n"
     ]
    }
   ],
   "source": [
    "# Lab : 화씨 변환기\n",
    "\n",
    "print(\"본 프로그램은 섭씨를 화씨로 변환해주는 프로그램입니다. \")\n",
    "celsius = float(input(\"변환하고 싶은 섭씨 온도를 입력해 주세요: \"))\n",
    "\n",
    "print(f'섭씨온도 : {celsius:.2f}')\n",
    "print(f'화씨온도 : {((celsius)*(9/5)+32):.2f}')"
   ]
  },
  {
   "cell_type": "code",
   "execution_count": 53,
   "metadata": {},
   "outputs": [
    {
     "name": "stdout",
     "output_type": "stream",
     "text": [
      "uoy evol I\n",
      "uoy evol I\n"
     ]
    }
   ],
   "source": [
    "# Reverse Sentence 만드는 법\n",
    "\n",
    "# < My solv >\n",
    "\n",
    "sentence = \"I love you\"\n",
    "\n",
    "new_sentence = sentence.split()[::-1]\n",
    "print(' '.join([ i[::-1] for i in new_sentence]))\n",
    "\n",
    "# < Solution >\n",
    "\n",
    "reverse_sentence = ''\n",
    "for char in sentence :\n",
    "    reverse_sentence= char + reverse_sentence \n",
    "print(reverse_sentence)"
   ]
  },
  {
   "cell_type": "code",
   "execution_count": 54,
   "metadata": {},
   "outputs": [
    {
     "name": "stdout",
     "output_type": "stream",
     "text": [
      "11\n"
     ]
    }
   ],
   "source": [
    "decimal = int(input(\"10진수를 입력해주세요: \"))\n",
    "result = ''\n",
    "while decimal > 0 :\n",
    "    remainder = decimal%2\n",
    "    decimal //= 2\n",
    "    result = str(remainder) + result\n",
    "    \n",
    "print(result)"
   ]
  },
  {
   "attachments": {},
   "cell_type": "markdown",
   "metadata": {},
   "source": [
    "< Loop and Control Lab >\n",
    "\n",
    "- 가변적인 중첩 반복문 (variable nested loops) \n",
    ": 실제 프로그램에서는 반복문은 사용자의 입력에 따라 가변적으로 반복되고 하나의 반복이 아닌 중복되어 반복이 일어남\n"
   ]
  },
  {
   "attachments": {},
   "cell_type": "markdown",
   "metadata": {},
   "source": [
    "< 숫자 찾기 게임 >"
   ]
  },
  {
   "cell_type": "code",
   "execution_count": 55,
   "metadata": {},
   "outputs": [
    {
     "name": "stdout",
     "output_type": "stream",
     "text": [
      "숫자를 맞춰보세요(1~100\n",
      "숫자가 너무 작습니다\n",
      "숫자가 너무 작습니다\n",
      "숫자가 너무 큽니다\n",
      "숫자가 너무 큽니다\n",
      "숫자가 너무 큽니다\n",
      "정답입니다. 입력한 숫자는 81입니다\n"
     ]
    }
   ],
   "source": [
    "# < My solv >\n",
    "\n",
    "import random\n",
    "answer = random.randint(1,100)\n",
    "print(\"숫자를 맞춰보세요(1~100\")\n",
    "\n",
    "while True :\n",
    "    res = int(input())\n",
    "    if res > answer :\n",
    "        print(\"숫자가 너무 큽니다\")\n",
    "        continue\n",
    "    elif res < answer :\n",
    "        print(\"숫자가 너무 작습니다\")\n",
    "        continue\n",
    "    else :\n",
    "        break\n",
    "\n",
    "\n",
    "print(f\"정답입니다. 입력한 숫자는 {answer}입니다\")\n",
    "\n",
    "\n",
    "# < Solution >\n",
    "\n",
    "import random\n",
    "true_value = random.randint(1,100)\n",
    "print(\"숫자를 맞춰보세요(1~100\")\n",
    "input_value = 1e9\n",
    "\n",
    "while true_value != input_value :\n",
    "    input_value = int(input())\n",
    "\n",
    "    if input_value > true_value :\n",
    "        print(\"숫자가 너무 큽니다\")\n",
    "    elif input_value < true_value:\n",
    "        print(\"숫자가 너무 작습니다\")\n",
    "    else :\n",
    "        break\n",
    "    \n",
    "print(f\"정답입니다. 입력한 숫자는 {true_value}입니다\")\n",
    "\n"
   ]
  },
  {
   "attachments": {},
   "cell_type": "markdown",
   "metadata": {},
   "source": [
    "< 연속적인 구구단 입력 >"
   ]
  },
  {
   "cell_type": "code",
   "execution_count": 56,
   "metadata": {},
   "outputs": [
    {
     "name": "stdout",
     "output_type": "stream",
     "text": [
      "구구단 몇 단을 계산할까요(1~9)?\n",
      "구구단 5단을 계산합니다.\n",
      "5 X 1 = 5\n",
      "5 X 2 = 10\n",
      "5 X 3 = 15\n",
      "5 X 4 = 20\n",
      "5 X 5 = 25\n",
      "5 X 6 = 30\n",
      "5 X 7 = 35\n",
      "5 X 8 = 40\n",
      "5 X 9 = 45\n",
      "구구단 몇 단을 계산할까요(1~9)?\n",
      "구구단 게임을 종료합니다.\n"
     ]
    }
   ],
   "source": [
    "# < My solv >\n",
    "\n",
    "while True : # while True 와 같이 무한 Loop을 사용하는 건 지양해야 함\n",
    "    \n",
    "    print(\"구구단 몇 단을 계산할까요(1~9)?\")\n",
    "    input_number = int(input())\n",
    "    if input_number == 0 :\n",
    "        print(\"구구단 게임을 종료합니다.\")\n",
    "        break\n",
    "    if 1<=input_number<=9:        \n",
    "        print(f\"구구단 {input_number}단을 계산합니다.\")\n",
    "        for i in range(1,10):\n",
    "            print(f\"{input_number} X {i} = {input_number*i}\")\n",
    "    else :\n",
    "        print(\"1~9 사이의 숫자를 넣어주세요 \")\n",
    "\n"
   ]
  },
  {
   "attachments": {},
   "cell_type": "markdown",
   "metadata": {},
   "source": [
    "< 사람 별 평균을 구하라 > : 이차원 리스트 처리하기"
   ]
  },
  {
   "cell_type": "code",
   "execution_count": 57,
   "metadata": {},
   "outputs": [
    {
     "name": "stdout",
     "output_type": "stream",
     "text": [
      "0번째 사람의 평균점수는 47.00점 입니다.\n",
      "1번째 사람의 평균점수는 72.33점 입니다.\n",
      "2번째 사람의 평균점수는 51.00점 입니다.\n",
      "3번째 사람의 평균점수는 63.33점 입니다.\n",
      "4번째 사람의 평균점수는 90.00점 입니다.\n",
      "[47.0, 72.33333333333333, 51.0, 63.333333333333336, 90.0]\n"
     ]
    }
   ],
   "source": [
    "# < My solv >\n",
    "\n",
    "kor_score = [49,79,20,100,80]\n",
    "math_score = [43,59,85,30,90]\n",
    "eng_score = [49,79,48,60,100]\n",
    "midterm_score = [kor_score,math_score,eng_score]\n",
    "person_score = [list(x) for x in zip(*midterm_score)]\n",
    "\n",
    "for idx,data in enumerate(person_score) :\n",
    "    print(f\"{idx}번째 사람의 평균점수는 {(sum(data)/len(data)):.2f}점 입니다.\")\n",
    "        \n",
    "    \n",
    "# < Solution >\n",
    "\n",
    "student_score = [0,0,0,0,0]\n",
    "i =0\n",
    "for subject in midterm_score :\n",
    "    for score in subject :\n",
    "        student_score[i]+=score\n",
    "        i+=1\n",
    "    i=0\n",
    "else :\n",
    "    a,b,c,d,e = student_score\n",
    "    student_average = [a/3,b/3,c/3,d/3,e/3]\n",
    "    print(student_average)\n",
    "    \n",
    "\n",
    "\n"
   ]
  },
  {
   "attachments": {},
   "cell_type": "markdown",
   "metadata": {},
   "source": [
    "< Debugging >\n",
    "- 코드의 오류를 발견하여 수정하는 과정\n",
    "- 오류의 '원인'을 알고 '해결책'을 찾아야 함\n",
    "- '문법적 에러'를 찾기 위한 에러 메세지 분석\n",
    "- '논리적 에러'를 찾기 위한 테스트도 중요\n",
    "\n",
    "< Examples >\n",
    "- Indentation\n",
    "- Typos\n",
    "- Capitalization\n"
   ]
  },
  {
   "cell_type": "code",
   "execution_count": null,
   "metadata": {},
   "outputs": [],
   "source": []
  }
 ],
 "metadata": {
  "kernelspec": {
   "display_name": "Python 3",
   "language": "python",
   "name": "python3"
  },
  "language_info": {
   "codemirror_mode": {
    "name": "ipython",
    "version": 3
   },
   "file_extension": ".py",
   "mimetype": "text/x-python",
   "name": "python",
   "nbconvert_exporter": "python",
   "pygments_lexer": "ipython3",
   "version": "3.10.5 (v3.10.5:f377153967, Jun  6 2022, 12:36:10) [Clang 13.0.0 (clang-1300.0.29.30)]"
  },
  "orig_nbformat": 4,
  "vscode": {
   "interpreter": {
    "hash": "aee8b7b246df8f9039afb4144a1f6fd8d2ca17a180786b69acc140d282b71a49"
   }
  }
 },
 "nbformat": 4,
 "nbformat_minor": 2
}
