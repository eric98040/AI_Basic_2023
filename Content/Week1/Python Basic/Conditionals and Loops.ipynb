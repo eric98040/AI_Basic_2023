{
 "cells": [
  {
   "attachments": {},
   "cell_type": "markdown",
   "metadata": {},
   "source": [
    "< Condition >\n",
    "- 조건에 따라 특정한 동작을 하게 하는 명령어\n",
    "- if / else / elif 등의 예약어를 사용\n",
    "\n",
    "\n",
    "< if - else문 >\n",
    "\n",
    "if <condition> :\n",
    "  < statement 1-1 >\n",
    "  < statement 1-2 >\n",
    "else:\n",
    "  < statement 2-1 >\n",
    "  < statement 2-2 >\n",
    "\n",
    "< 조건 판단 방법 >\n",
    "- 참/거짓의 구분을 위해서는 비교 연산자를 이용\n",
    "- x == y(값을 비교) , x is y(값과 메모리의 주소를 비교)\n",
    "- Python에서는 -5~256 사이의 숫자는 정적 메모리에 값을 할당해놓기 때문에 같은 숫자면 같은 메모리에 들어간다. \n",
    "\n",
    "- all(iterables) : and 조건으로 연결됨 (내부 원소들이 모두 True여야 True 반환)\n",
    "- any(iterables) : or 조건으로 연결됨 (내부 원소들 중 하나라도 True여야 True 반환)\n",
    "\n"
   ]
  },
  {
   "cell_type": "code",
   "execution_count": 9,
   "metadata": {},
   "outputs": [
    {
     "name": "stdout",
     "output_type": "stream",
     "text": [
      "True\n",
      "False\n"
     ]
    }
   ],
   "source": [
    "a = 100 ; b = 100 \n",
    "print(a is b)\n",
    "\n",
    "a = 300 ; b = 300 \n",
    "print(a is b)"
   ]
  },
  {
   "cell_type": "code",
   "execution_count": 10,
   "metadata": {},
   "outputs": [
    {
     "name": "stdout",
     "output_type": "stream",
     "text": [
      "False\n",
      "True\n"
     ]
    }
   ],
   "source": [
    "array = [True,True,False,True,False]\n",
    "print(all(array))\n",
    "print(any(array))"
   ]
  },
  {
   "attachments": {},
   "cell_type": "markdown",
   "metadata": {},
   "source": [
    "< 태어난 연도를 계산하여 학교 종류를 맞추는 프로그램 >\n",
    "\n",
    "- 나이는 현재년도 - 태어난 년도 +1 로 계산\n",
    "- 26세 이하 20세 이상이면 대학생, 20세 미만 17세 이상이면 고등학생,\n",
    "- 17세 미만 14세 이상이면 중학생, 14세 미만 8세 이상이면 초등학생, \n",
    "- 그 외의 경우는 학생이 아닙니다를 출력\n"
   ]
  },
  {
   "cell_type": "code",
   "execution_count": 11,
   "metadata": {},
   "outputs": [
    {
     "name": "stdout",
     "output_type": "stream",
     "text": [
      "대학생\n"
     ]
    }
   ],
   "source": [
    "birth_year = int(input(\"당신이 태어난 년도를 입력하세요 \"))\n",
    "current_year = 2023\n",
    "age = current_year - birth_year +1\n",
    "\n",
    "# 20<= age and age<= 26\n",
    "# all([20<= age, age<=26])와 같이 처리 가능\n",
    "\n",
    "if 20<= age <= 26 :\n",
    "    print(\"대학생\")\n",
    "elif 17<= age <20 :\n",
    "    print(\"고등학생\")\n",
    "elif 14<= age <17 :\n",
    "    print(\"중학생\")\n",
    "elif 8<= age <14 :\n",
    "    print(\"초등학생\")\n",
    "else:\n",
    "    print(\"학생이 아닙니다\")\n"
   ]
  },
  {
   "attachments": {},
   "cell_type": "markdown",
   "metadata": {},
   "source": [
    "< Loop >\n",
    "- 정해진 동작을 반복적으로 수행하게 하는 반복문\n",
    "- 반복문  : 반복 시작 조건, 종료 조건, 수행명령으로 구성됨\n",
    "- indentation, block으로 구분됨\n",
    "- for, while문으로 구성됨\n",
    "\n",
    "< 상식 >\n",
    "- 반복문 변수명 : 임시적인 반복 변수는 대부분 i,j,k으로 정함\n",
    "- 0부터 시작하는 반복문 : 대부분 0부터 시작 (2진수가 0부터 시작하기 때문에 이를 권장함)\n",
    "- 무한 loop : 반복 명령이 끝나지 않는 프로그래밍 오류 / Cpu, memory등 컴퓨터의 리소스를 과다하게 점유\n",
    "\n",
    "- for 문 : 반복 실행횟수를 명확하게 알 때\n",
    "- while문 : 반복 실행횟수가 명확하지 않을 때 (조건문이 False가 되는 순간 빠져나옴)\n",
    "\n",
    "< for - else, while - else >\n",
    "- 해당 반복문이 break 없이 실행이 끝났을 때 (잘 실행됐을 때) else문이 실행됨\n"
   ]
  },
  {
   "cell_type": "code",
   "execution_count": 12,
   "metadata": {},
   "outputs": [
    {
     "name": "stdout",
     "output_type": "stream",
     "text": [
      "구구단 2023단을 계산합니다.\n",
      "2023 X 1 = 2023\n",
      "2023 X 2 = 4046\n",
      "2023 X 3 = 6069\n",
      "2023 X 4 = 8092\n",
      "2023 X 5 = 10115\n",
      "2023 X 6 = 12138\n",
      "2023 X 7 = 14161\n",
      "2023 X 8 = 16184\n",
      "2023 X 9 = 18207\n"
     ]
    }
   ],
   "source": [
    "base_number = int(input(\"구구단 몇단을 계산할까요? \"))\n",
    "print(f\"구구단 {base_number}단을 계산합니다.\")\n",
    "\n",
    "for i in range(1,10) :\n",
    "    print(f\"{base_number} X {i} = {base_number*i}\")"
   ]
  },
  {
   "cell_type": "code",
   "execution_count": 13,
   "metadata": {},
   "outputs": [
    {
     "name": "stdout",
     "output_type": "stream",
     "text": [
      "123345\n"
     ]
    }
   ],
   "source": [
    "s = '123'\n",
    "b = '345'\n",
    "print(s+b)"
   ]
  },
  {
   "cell_type": "code",
   "execution_count": null,
   "metadata": {},
   "outputs": [],
   "source": []
  }
 ],
 "metadata": {
  "kernelspec": {
   "display_name": "Python 3",
   "language": "python",
   "name": "python3"
  },
  "language_info": {
   "codemirror_mode": {
    "name": "ipython",
    "version": 3
   },
   "file_extension": ".py",
   "mimetype": "text/x-python",
   "name": "python",
   "nbconvert_exporter": "python",
   "pygments_lexer": "ipython3",
   "version": "3.10.5 (v3.10.5:f377153967, Jun  6 2022, 12:36:10) [Clang 13.0.0 (clang-1300.0.29.30)]"
  },
  "orig_nbformat": 4,
  "vscode": {
   "interpreter": {
    "hash": "aee8b7b246df8f9039afb4144a1f6fd8d2ca17a180786b69acc140d282b71a49"
   }
  }
 },
 "nbformat": 4,
 "nbformat_minor": 2
}
