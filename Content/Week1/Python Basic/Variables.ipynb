{
 "cells": [
  {
   "attachments": {},
   "cell_type": "markdown",
   "metadata": {},
   "source": [
    "변수\n",
    "\n",
    "- 가장 기초적인 프로그래밍 문법 개념\n",
    "- 데이터 (값)을 저장하기 위한 메모리 공간의 프로그래밍상 이름\n",
    "\n",
    "- variable = value \n",
    "\n",
    "\n",
    "< 프로그래밍에서 >\n",
    "\n",
    "변수 : 값을 저장하는 장소\n",
    "\n",
    "변수는 '메모리 주소'를 가지고 있고, (메모리 특정영역에 물리적인 공간이 할당됨)\n",
    "\n",
    "값은 '메모리 주소'에 할당됨\n",
    "\n",
    "\n",
    "< 폰 노이만 아키텍처 >\n",
    "\n",
    "- 사용자가 컴퓨터에 값을 입력하 거나 프로그램을 실행할 경우 :\n",
    "1. 그 정보를 먼저 메모리에 저장\n",
    "2. CPU가 순차적으로 그 정보를 해석하고 계산하여 사용자에게 결과값 전달\n",
    "  \n",
    "\n",
    "< 변수 이름 작명법 >\n",
    "\n",
    "- 의미 있는 단어로 하는 것이 좋음\n",
    "- 대소문자가 구별됨\n",
    "- 특별한 의미가 있는 예약어는 사용하지 않음\n",
    "\n",
    "< 기본 자료형 primitive data types >\n",
    "- 수치자료형 (integer, float)\n",
    "- 문자형 (string)\n",
    "- 논리/불린 자료형(boolean)\n",
    "\n",
    "< Dynamic Typing >\n",
    "- 코드 실행시점에 데이터의 Type을 결정해주는 방법\n",
    "\n",
    "< 연산자와 피연산자 (Operator , operand) >\n",
    "- \"3+2\"에서 3,2는 피연산자, +는 연산자임\n",
    "- 연산의 순서는 수학에서 연산 순서와 같음\n"
   ]
  },
  {
   "attachments": {},
   "cell_type": "markdown",
   "metadata": {},
   "source": [
    "< List >\n",
    "- Sequence 자료형, 여러 데이터들의 집합\n",
    "- 다양한 데이터 타입이 하나의 List안에 다 들어감\n",
    "- 해당 list 변수에는 리스트 주소값이 들어감\n",
    "\n",
    "< Indexing >\n",
    "- list에 있는 값들은 주소(offset)를 가짐\n",
    "-> 주소를 사용해 할당된 값을 호출\n",
    "\n",
    "< Slicing >\n",
    "- list의 값들을 잘라서 쓰는 것이 슬라이싱\n",
    "- list의 주소 값을 기반으로 부분 값을 반환\n",
    "- 슬라이싱의 범위를 넘어갈 경우 자동으로 최대 범위를 지정\n",
    "\n",
    "< Concatenation, is_in >\n",
    "- + : 두 리스트 합치기\n",
    "- *n : 동일한 리스트 n번 반복\n",
    "- 'blue' in color : blue가 color에 있는가\n",
    "\n",
    "< append, extend, insert, remove, del >\n",
    "- 함수마다 화면에 출력이 안되고 내부 연산이 일어나는 것(자체변화O)\n",
    "- 화면에 결과값만 출력되고 내부 연산은 없음(자체변화X)\n",
    " \n",
    "< Packing, Unpacking >\n",
    "- 패킹 : 한 변수에 여러 개의 데이터를 넣는 것\n",
    "- 언패킹 : 한 변수의 데이터를 각각의 변수로 반환\n",
    "\n",
    "\n",
    "- list의 메모리 구조가 기본과는 다르다.\n",
    "    - 메모리 구조가 달라서, copy할 때 할당하는 방식으로 하면 주소값을 가져오게 되어 copy가 안됨\n",
    "    - copy 하는 방식 : 1차원 배열, 2차원 배열(deepcopy필요)은 서로 다르다"
   ]
  },
  {
   "cell_type": "code",
   "execution_count": null,
   "metadata": {},
   "outputs": [],
   "source": []
  }
 ],
 "metadata": {
  "kernelspec": {
   "display_name": "Python 3",
   "language": "python",
   "name": "python3"
  },
  "language_info": {
   "name": "python",
   "version": "3.10.5 (v3.10.5:f377153967, Jun  6 2022, 12:36:10) [Clang 13.0.0 (clang-1300.0.29.30)]"
  },
  "orig_nbformat": 4,
  "vscode": {
   "interpreter": {
    "hash": "aee8b7b246df8f9039afb4144a1f6fd8d2ca17a180786b69acc140d282b71a49"
   }
  }
 },
 "nbformat": 4,
 "nbformat_minor": 2
}
