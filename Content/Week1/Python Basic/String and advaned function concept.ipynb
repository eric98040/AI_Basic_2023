{
 "cells": [
  {
   "attachments": {},
   "cell_type": "markdown",
   "metadata": {},
   "source": [
    "< String >\n",
    "- sequence 자료형으로 문자형 data를 메모리에 저장\n",
    "- 영문자 한 글자씩 1byte의 메모리 공간이 할당됨\n",
    "- 컴퓨터는 문자를 직접적으로 인식 X\n",
    "- 모든 데이터는 2진수로 인식 -> 2진수를 문자로 변환하는 표준 규칙을 정함\n",
    "\n",
    "\n",
    "< 1byte >\n",
    "- 컴퓨터는 2진수로 데이터를 저장\n",
    "- 이진수 한 자릿수는 1bit로 저장됨\n",
    "- 1bit는 0 또는 1\n",
    "- 1 byte = 8 bit = 256까지 저장 가능\n",
    "\n",
    "< 프로그램 언어에서 데이터 타입 >\n",
    "- 각 타입 별로 메모리 공간을 할당 받은 크기가 다름\n",
    "    - 정수형 int : 4byte\n",
    "    - 정수형 long : 무제한\n",
    "    - 실수형 float : 8byte\n",
    "\n",
    "- 메모리 공간에 따라 표현할 수 있는 숫자범위가 다름\n",
    "- 데이터 타입은 메모리의 효율적 사용을 위해 매우 중요\n",
    "\n",
    "< 문자열 특징 - indexing >\n",
    "- 문자열의 각 문자는 개별 주소(offset)을 가짐\n",
    "- 이 주소를 사용해 할당된 값을 가져오는 것이 인덱싱\n",
    "- List와 같은 형태로 데이터를 처리함\n",
    "\n",
    "< 문자열 특징 - slicing >\n",
    "- 문자열의 주소값을 바탕으로 문자열의 부분값을 반환\n",
    "\n",
    "< raw string >\n",
    "- 특수문자 특수 기호인 \\ escape 글자를 무시하고 그대로 출력함\n",
    "- fstring 처럼 \"\"앞에 r를 붙임\n"
   ]
  },
  {
   "cell_type": "code",
   "execution_count": 3,
   "metadata": {},
   "outputs": [
    {
     "name": "stdout",
     "output_type": "stream",
     "text": [
      "이제 파이썬 기초 좀 그만 배우고 싶다!! \n",
      "ㄹㅇㅋㅋ\n",
      "이제 파이썬 기초 좀 그만 배우고 싶다!! \\nㄹㅇㅋㅋ\n"
     ]
    }
   ],
   "source": [
    "raw_string = \"이제 파이썬 기초 좀 그만 배우고 싶다!! \\nㄹㅇㅋㅋ\"\n",
    "print(raw_string)\n",
    "\n",
    "# raw string 적용\n",
    "raw_string = r\"이제 파이썬 기초 좀 그만 배우고 싶다!! \\nㄹㅇㅋㅋ\"\n",
    "print(raw_string)"
   ]
  },
  {
   "attachments": {},
   "cell_type": "markdown",
   "metadata": {},
   "source": [
    "< Call by object reference >\n",
    "\n",
    "[함수에서 parameter를 전달하는 방식]\n",
    "\n",
    "\n",
    "- 값에 의한 호출 : call by value\n",
    "    - 함수에 인자를 넘길 때 값만 넘김\n",
    "    - 함수 내 인자 값 변경시, 호출자에게 영향을 주지 않음\n",
    "\n",
    "- 참조의 의한 호출 : call by reference(주소)\n",
    "    - 함수에 인자를 넘길 때 메모리 주소를 넘김\n",
    "    - 함수 내에 인자 값 변경시, 호출자의 값도 변경됨\n",
    "\n",
    "- 객체 참조의 의한 호출 : call by object reference\n",
    "    - 파이썬은 객체의 주소가 함수로 전달되는 방식 : argument/object(ham)과 parameter(egg)이 서로 같은 메모리 주소를 가리킴\n",
    "    - 전달된 객체를 참조하여 변경 시 호출자에게 영향을 주나,\n",
    "    - 새로운 객체를 만들 경우 호출자에게 영향을 주지 않음 (서로 다른 객체를 가리킴, 연결 끊어짐)\n",
    "    \n",
    "\n"
   ]
  },
  {
   "cell_type": "code",
   "execution_count": 5,
   "metadata": {},
   "outputs": [
    {
     "name": "stdout",
     "output_type": "stream",
     "text": [
      "[2, 3]\n",
      "[0, 1, 5]\n"
     ]
    }
   ],
   "source": [
    "def spam(eggs) : \n",
    "    eggs.append(1)  # 기존 객체의 주소값에 [1]추가\n",
    "    eggs.append(5)\n",
    "    eggs = [2,3]    # 새로운 객체 생성\n",
    "    print(eggs)\n",
    "\n",
    "ham = [0]\n",
    "spam(ham)\n",
    "print(ham)"
   ]
  },
  {
   "cell_type": "code",
   "execution_count": 16,
   "metadata": {},
   "outputs": [
    {
     "name": "stdout",
     "output_type": "stream",
     "text": [
      "[1, 2, 3, 4, 5]\n",
      "[2, 1, 3, 4, 5]\n",
      "[2, 1, 3, 5, 4]\n"
     ]
    }
   ],
   "source": [
    "a = [1,2,3,4,5]\n",
    "\n",
    "def swap_value(x,y) :   # value만 교환\n",
    "    x,y = y,x\n",
    "    \n",
    "def swap_offset(offset_x,offset_y): # 주소 offset만 교환 (a 리스트의 전역 변수 값을 직접 변경)\n",
    "    a[offset_x], a[offset_y] = a[offset_y], a[offset_x]\n",
    "    \n",
    "def swap_reference(list, offset_x,offset_y) :   # list 자체를 교환 (리스트 객체의 주소 값을 받아 값을 변경)\n",
    "    list[offset_x], list[offset_y] = list[offset_y], list[offset_x]\n",
    "\n",
    "swap_value(a[0],a[1])   # 걊을 가리키는 주소값만 바뀜\n",
    "print(a)\n",
    "\n",
    "swap_offset(0,1)\n",
    "print(a)\n",
    "\n",
    "swap_reference(a,3,4)\n",
    "print(a)\n",
    "\n",
    "\n",
    "\n",
    "    \n",
    "    "
   ]
  },
  {
   "attachments": {},
   "cell_type": "markdown",
   "metadata": {},
   "source": [
    "< function - scoping rule > : 변수의 범위\n",
    "- 변수가 사용되는 범위 (함수 또는 메인 프로그램)\n",
    "    - 지역변수 local variable : 함수내에서만 사용\n",
    "    - 전역변수 global variable : 프로그램 전체에서 사용\n",
    "\n",
    "- 전역변수는 함수에서 사용가능\n",
    "- But, 함수 내에 전역 변수와 같은 이름의 변수를 선언하면 새로운 지역변수가 생김\n",
    "- 만약 함수 내에서 전역변수 사용 시 global 키워드 사용\n",
    "\n",
    "- 전달된 객체를 참조하여 변경 시 호출자에게 영향을 주나,\n",
    "- 새로운 객체를 만들 경우 호출자에게 영향을 주지 않음\n"
   ]
  },
  {
   "cell_type": "code",
   "execution_count": 9,
   "metadata": {},
   "outputs": [
    {
     "name": "stdout",
     "output_type": "stream",
     "text": [
      "Before : 10\n",
      "10\n",
      "In Function : 20\n",
      "After : 10\n"
     ]
    }
   ],
   "source": [
    "def test(t) :\n",
    "    print(x)\n",
    "    t = 20  # 새로운 객체를 만듦\n",
    "    print(\"In Function :\",t)\n",
    "    \n",
    "x = 10\n",
    "print(\"Before :\",x)\n",
    "test(x)\n",
    "print(\"After :\",x)\n",
    "\n",
    "# print(t) : local variable"
   ]
  },
  {
   "cell_type": "code",
   "execution_count": 10,
   "metadata": {},
   "outputs": [
    {
     "name": "stdout",
     "output_type": "stream",
     "text": [
      "I love London!\n",
      "I love Paris!\n"
     ]
    }
   ],
   "source": [
    "def f() :\n",
    "    s = 'I love London!'\n",
    "    print(s)\n",
    "    \n",
    "s = 'I love Paris!'\n",
    "f()\n",
    "print(s)"
   ]
  },
  {
   "cell_type": "code",
   "execution_count": 11,
   "metadata": {},
   "outputs": [
    {
     "name": "stdout",
     "output_type": "stream",
     "text": [
      "I love London!\n",
      "I love London!\n"
     ]
    }
   ],
   "source": [
    "def f() :\n",
    "    global s\n",
    "    s = 'I love London!'\n",
    "    print(s)\n",
    "    \n",
    "s = 'I love Paris!'\n",
    "f()\n",
    "print(s)"
   ]
  },
  {
   "cell_type": "code",
   "execution_count": 13,
   "metadata": {},
   "outputs": [
    {
     "name": "stdout",
     "output_type": "stream",
     "text": [
      "In Program -1\n",
      "a: 5 b: 7 a+b: 12\n",
      "In function\n",
      "a: 5 b: 7 a+b: 12 total: 12\n",
      "After calculationi\n",
      "Total : 0 Sum: 12\n"
     ]
    }
   ],
   "source": [
    "def calculate(x,y) :\n",
    "    total = x+y # total에 새로운 값이 할당되었기 때문에 함수 내 total은 지역변수가 됨\n",
    "    print(\"In function\")\n",
    "    print(\"a:\",str(a),\"b:\", str(b), \"a+b:\", str(a+b), \"total:\", str(total))\n",
    "    return total\n",
    "\n",
    "a = 5\n",
    "b =7\n",
    "total= 0    # 전역변수 total\n",
    "print(\"In Program -1\")\n",
    "print(\"a:\",str(a),\"b:\", str(b), \"a+b:\", str(a+b))\n",
    "\n",
    "sums = calculate(a,b)\n",
    "print(\"After calculationi\")\n",
    "print(\"Total :\",str(total), \"Sum:\",str(sums))   # 지역변수는 전역변수에 영향을 안 줌\n",
    "\n",
    "\n"
   ]
  },
  {
   "attachments": {},
   "cell_type": "markdown",
   "metadata": {},
   "source": [
    "< Recursive Function > : 재귀함수\n",
    "\n",
    "- 자기자신을 호출하는 함수\n",
    "- 점화식과 같은 재귀적 수학 모형을 표현할 때 사용\n",
    "- 재귀 종료 조건 존재, 종료 조건까지 함수호출 반복\n",
    "- 반드시 종료조건을 명시해줄 것!!"
   ]
  },
  {
   "cell_type": "code",
   "execution_count": 17,
   "metadata": {},
   "outputs": [
    {
     "name": "stdout",
     "output_type": "stream",
     "text": [
      "120\n"
     ]
    }
   ],
   "source": [
    "def factorial(n):\n",
    "    res =1\n",
    "    for i in range(1,n+1):\n",
    "        res*= i\n",
    "    return res\n",
    "\n",
    "print(factorial(5))"
   ]
  },
  {
   "attachments": {},
   "cell_type": "markdown",
   "metadata": {},
   "source": [
    "< Function type hints >\n",
    "\n",
    "- python의 가장 큰 특징 : dynamic typing\n",
    "    - 처음 함수를 사용하는 사용자가 interface를 알기 어렵다는 단점이 있음\n",
    "\n",
    "- def new_function(var_name : var_type) -> return_type :\n",
    "    <statement>\n",
    "\n",
    "< Type hints의 장점 >\n",
    "- 사용자에게 인터페이스를 명확히 알려줄 수 있다.\n",
    "- 함수의 문서화시 parameter에 대한 정보를 명확히 알 수 있다.\n",
    "- mypy 또는 IDE, linter등을 통해 코드의 발생 가능한 오류를 사전에 확인\n",
    "- 시스템 전체적인 안정성을 확인할 수 있다.\n"
   ]
  },
  {
   "attachments": {},
   "cell_type": "markdown",
   "metadata": {},
   "source": [
    "< Docstring >\n",
    "- 파이썬 함수에 대한 상세스펙을 사전에 작성 -> 함수 사용자의 이행도 up\n",
    "- 세개의 따옴표로 docstring 영역 표시 (cmd + shift +p : generate docstring)\n",
    "\n"
   ]
  },
  {
   "cell_type": "code",
   "execution_count": 18,
   "metadata": {},
   "outputs": [
    {
     "name": "stdout",
     "output_type": "stream",
     "text": [
      "200\n"
     ]
    }
   ],
   "source": [
    "def calculate_rectangle_area(x : int, y : int) -> int :\n",
    "    \"\"\"Area\n",
    "\n",
    "    Args:\n",
    "        x (int): _description_\n",
    "        y (int): _description_\n",
    "\n",
    "    Returns:\n",
    "        int: _description_\n",
    "    \"\"\"    \n",
    "    return x*y\n",
    "\n",
    "rectangle_x = 10\n",
    "rectangle_y = 20\n",
    "print(calculate_rectangle_area(rectangle_x,rectangle_y))"
   ]
  },
  {
   "attachments": {},
   "cell_type": "markdown",
   "metadata": {},
   "source": [
    "< 함수 작성 가이드라인 >\n",
    "\n",
    "- 함수는 가능하면 짧게 작성할 것 (줄 수를 줄일 것) : 짧게, 여러개\n",
    "- 함수 이름에 함수의 역할, 의도가 명확히 들어날 것\n",
    "\n",
    "- 하나의 함수에는 유사한 역할을 하는 코드만 포함 (print, return 중복 x)\n",
    "\n",
    "- 인자로 받은 값 자체를 바꾸진 말 것 : 1안 보다는 '2안' or 1안에서 '복사 이용'\n",
    "\n",
    "def count_word(string_variable):\n",
    "    string_variable = list(string_variable)[:]\n",
    "    return string_variable\n",
    "\n",
    "def count_word(string_variable):\n",
    "        return list(string_variable)\n",
    "\n",
    "< 함수는 언제 만드는가? >\n",
    "- 공통적으로 사용하는 코드는 함수로 변환\n",
    "- 복잡한 수식 -> 식별 가능한 이름의 함수로 변환\n",
    "- 복잡한 조건 -> 식별 가능한 이름의 함수로 변환 \n"
   ]
  },
  {
   "attachments": {},
   "cell_type": "markdown",
   "metadata": {},
   "source": [
    "< Python Coding convention >\n",
    "- black 모듈을 사용하여 pep8 like 수준을 준수\n",
    "\n",
    "- 들여쓰기는 Tab or 4space 논쟁 : 일반적으로 4space 사용 (중요한 건 혼합하지 X)\n",
    "- 한 줄은 최대 79자까지\n",
    "\n",
    "- 불필요한 공백은 피함 (,,:,;가 나온 후에만 공백을 두는 것이 트렌드)\n",
    "    - = 2칸 이상 안 띄움\n",
    "        - 키워드 인수 혹은 기본 매개변수 값을 나타내는 경우에 = 기호 주위에 공백을 넣지 않음\n",
    "        - 항상 이진 연산자의 주위에는 한 개의 공백을 넣음 (할당(=), 증감 할당(-=,+=))\n",
    "\n",
    "- 주석은 항상 갱신, 불필요한 주석은 삭제\n",
    "- 코드의 마지막에는 항상 한 줄 추가\n",
    "- 소문자 l, 대문자 I, 대문자 O 금지 (알파벳) \n",
    "- 함수명은 소문자로 구성, 필요하면 밑줄로 나눔"
   ]
  },
  {
   "cell_type": "code",
   "execution_count": null,
   "metadata": {},
   "outputs": [],
   "source": []
  }
 ],
 "metadata": {
  "kernelspec": {
   "display_name": "Python 3",
   "language": "python",
   "name": "python3"
  },
  "language_info": {
   "codemirror_mode": {
    "name": "ipython",
    "version": 3
   },
   "file_extension": ".py",
   "mimetype": "text/x-python",
   "name": "python",
   "nbconvert_exporter": "python",
   "pygments_lexer": "ipython3",
   "version": "3.10.5 (v3.10.5:f377153967, Jun  6 2022, 12:36:10) [Clang 13.0.0 (clang-1300.0.29.30)]"
  },
  "orig_nbformat": 4,
  "vscode": {
   "interpreter": {
    "hash": "aee8b7b246df8f9039afb4144a1f6fd8d2ca17a180786b69acc140d282b71a49"
   }
  }
 },
 "nbformat": 4,
 "nbformat_minor": 2
}
